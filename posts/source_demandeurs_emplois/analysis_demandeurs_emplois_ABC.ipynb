{
 "cells": [
  {
   "cell_type": "code",
   "execution_count": 38,
   "id": "60fd0558",
   "metadata": {},
   "outputs": [],
   "source": [
    "import pandas as pd\n",
    "import plotly.graph_objects as go"
   ]
  },
  {
   "cell_type": "markdown",
   "id": "e85b257f",
   "metadata": {},
   "source": [
    "### Load data"
   ]
  },
  {
   "cell_type": "code",
   "execution_count": 40,
   "id": "b7fac8ad",
   "metadata": {},
   "outputs": [],
   "source": [
    "#Download + rename from https://statistiques.pole-emploi.org/stmt/defm?fi=11&lf=0&ss=1\n",
    "df = pd.read_csv(\"table_Feb2022.csv\",skiprows=3,sep=\";\",thousands=\" \") #read most recent table\n",
    "df = df[:-1] #drop last row\n",
    "df['A+B+C'] = df['A'] + df['B'] + df['C'] #add columns"
   ]
  },
  {
   "cell_type": "markdown",
   "id": "fe02819c",
   "metadata": {},
   "source": [
    "### Format dates"
   ]
  },
  {
   "cell_type": "code",
   "execution_count": 41,
   "id": "b38fd36c",
   "metadata": {},
   "outputs": [
    {
     "data": {
      "text/html": [
       "<div>\n",
       "<style scoped>\n",
       "    .dataframe tbody tr th:only-of-type {\n",
       "        vertical-align: middle;\n",
       "    }\n",
       "\n",
       "    .dataframe tbody tr th {\n",
       "        vertical-align: top;\n",
       "    }\n",
       "\n",
       "    .dataframe thead th {\n",
       "        text-align: right;\n",
       "    }\n",
       "</style>\n",
       "<table border=\"1\" class=\"dataframe\">\n",
       "  <thead>\n",
       "    <tr style=\"text-align: right;\">\n",
       "      <th></th>\n",
       "      <th>Mois</th>\n",
       "      <th>A</th>\n",
       "      <th>B</th>\n",
       "      <th>C</th>\n",
       "      <th>D</th>\n",
       "      <th>E</th>\n",
       "      <th>Total</th>\n",
       "      <th>A+B+C</th>\n",
       "      <th>Mois_formatted</th>\n",
       "    </tr>\n",
       "  </thead>\n",
       "  <tbody>\n",
       "    <tr>\n",
       "      <th>0</th>\n",
       "      <td>Janvier 1996</td>\n",
       "      <td>3454210.0</td>\n",
       "      <td>291730.0</td>\n",
       "      <td>308510.0</td>\n",
       "      <td>178570.0</td>\n",
       "      <td>206950.0</td>\n",
       "      <td>4439970.0</td>\n",
       "      <td>4054450.0</td>\n",
       "      <td>1996-01-01</td>\n",
       "    </tr>\n",
       "    <tr>\n",
       "      <th>1</th>\n",
       "      <td>Février 1996</td>\n",
       "      <td>3413110.0</td>\n",
       "      <td>296110.0</td>\n",
       "      <td>321260.0</td>\n",
       "      <td>185450.0</td>\n",
       "      <td>204050.0</td>\n",
       "      <td>4419980.0</td>\n",
       "      <td>4030480.0</td>\n",
       "      <td>1996-02-01</td>\n",
       "    </tr>\n",
       "    <tr>\n",
       "      <th>2</th>\n",
       "      <td>Mars 1996</td>\n",
       "      <td>3326830.0</td>\n",
       "      <td>302300.0</td>\n",
       "      <td>349280.0</td>\n",
       "      <td>193060.0</td>\n",
       "      <td>204240.0</td>\n",
       "      <td>4375710.0</td>\n",
       "      <td>3978410.0</td>\n",
       "      <td>1996-03-01</td>\n",
       "    </tr>\n",
       "    <tr>\n",
       "      <th>3</th>\n",
       "      <td>Avril 1996</td>\n",
       "      <td>3224530.0</td>\n",
       "      <td>301670.0</td>\n",
       "      <td>371730.0</td>\n",
       "      <td>200970.0</td>\n",
       "      <td>204370.0</td>\n",
       "      <td>4303270.0</td>\n",
       "      <td>3897930.0</td>\n",
       "      <td>1996-04-01</td>\n",
       "    </tr>\n",
       "    <tr>\n",
       "      <th>4</th>\n",
       "      <td>Mai 1996</td>\n",
       "      <td>3186330.0</td>\n",
       "      <td>295600.0</td>\n",
       "      <td>372870.0</td>\n",
       "      <td>193030.0</td>\n",
       "      <td>203650.0</td>\n",
       "      <td>4251490.0</td>\n",
       "      <td>3854800.0</td>\n",
       "      <td>1996-05-01</td>\n",
       "    </tr>\n",
       "    <tr>\n",
       "      <th>...</th>\n",
       "      <td>...</td>\n",
       "      <td>...</td>\n",
       "      <td>...</td>\n",
       "      <td>...</td>\n",
       "      <td>...</td>\n",
       "      <td>...</td>\n",
       "      <td>...</td>\n",
       "      <td>...</td>\n",
       "      <td>...</td>\n",
       "    </tr>\n",
       "    <tr>\n",
       "      <th>309</th>\n",
       "      <td>Octobre 2021</td>\n",
       "      <td>3430560.0</td>\n",
       "      <td>751910.0</td>\n",
       "      <td>1601390.0</td>\n",
       "      <td>373020.0</td>\n",
       "      <td>372660.0</td>\n",
       "      <td>6529540.0</td>\n",
       "      <td>5783860.0</td>\n",
       "      <td>2021-10-01</td>\n",
       "    </tr>\n",
       "    <tr>\n",
       "      <th>310</th>\n",
       "      <td>Novembre 2021</td>\n",
       "      <td>3400470.0</td>\n",
       "      <td>744580.0</td>\n",
       "      <td>1578140.0</td>\n",
       "      <td>409530.0</td>\n",
       "      <td>377390.0</td>\n",
       "      <td>6510110.0</td>\n",
       "      <td>5723190.0</td>\n",
       "      <td>2021-11-01</td>\n",
       "    </tr>\n",
       "    <tr>\n",
       "      <th>311</th>\n",
       "      <td>Décembre 2021</td>\n",
       "      <td>3363390.0</td>\n",
       "      <td>729500.0</td>\n",
       "      <td>1571100.0</td>\n",
       "      <td>390600.0</td>\n",
       "      <td>377080.0</td>\n",
       "      <td>6431660.0</td>\n",
       "      <td>5663990.0</td>\n",
       "      <td>2021-12-01</td>\n",
       "    </tr>\n",
       "    <tr>\n",
       "      <th>312</th>\n",
       "      <td>Janvier 2022</td>\n",
       "      <td>3397590.0</td>\n",
       "      <td>769270.0</td>\n",
       "      <td>1462260.0</td>\n",
       "      <td>406520.0</td>\n",
       "      <td>385080.0</td>\n",
       "      <td>6420710.0</td>\n",
       "      <td>5629120.0</td>\n",
       "      <td>2022-01-01</td>\n",
       "    </tr>\n",
       "    <tr>\n",
       "      <th>313</th>\n",
       "      <td>Février 2022</td>\n",
       "      <td>3304160.0</td>\n",
       "      <td>768960.0</td>\n",
       "      <td>1481300.0</td>\n",
       "      <td>411660.0</td>\n",
       "      <td>387730.0</td>\n",
       "      <td>6353810.0</td>\n",
       "      <td>5554420.0</td>\n",
       "      <td>2022-02-01</td>\n",
       "    </tr>\n",
       "  </tbody>\n",
       "</table>\n",
       "<p>314 rows × 9 columns</p>\n",
       "</div>"
      ],
      "text/plain": [
       "              Mois          A         B          C         D         E  \\\n",
       "0     Janvier 1996  3454210.0  291730.0   308510.0  178570.0  206950.0   \n",
       "1     Février 1996  3413110.0  296110.0   321260.0  185450.0  204050.0   \n",
       "2        Mars 1996  3326830.0  302300.0   349280.0  193060.0  204240.0   \n",
       "3       Avril 1996  3224530.0  301670.0   371730.0  200970.0  204370.0   \n",
       "4         Mai 1996  3186330.0  295600.0   372870.0  193030.0  203650.0   \n",
       "..             ...        ...       ...        ...       ...       ...   \n",
       "309   Octobre 2021  3430560.0  751910.0  1601390.0  373020.0  372660.0   \n",
       "310  Novembre 2021  3400470.0  744580.0  1578140.0  409530.0  377390.0   \n",
       "311  Décembre 2021  3363390.0  729500.0  1571100.0  390600.0  377080.0   \n",
       "312   Janvier 2022  3397590.0  769270.0  1462260.0  406520.0  385080.0   \n",
       "313   Février 2022  3304160.0  768960.0  1481300.0  411660.0  387730.0   \n",
       "\n",
       "         Total      A+B+C Mois_formatted  \n",
       "0    4439970.0  4054450.0     1996-01-01  \n",
       "1    4419980.0  4030480.0     1996-02-01  \n",
       "2    4375710.0  3978410.0     1996-03-01  \n",
       "3    4303270.0  3897930.0     1996-04-01  \n",
       "4    4251490.0  3854800.0     1996-05-01  \n",
       "..         ...        ...            ...  \n",
       "309  6529540.0  5783860.0     2021-10-01  \n",
       "310  6510110.0  5723190.0     2021-11-01  \n",
       "311  6431660.0  5663990.0     2021-12-01  \n",
       "312  6420710.0  5629120.0     2022-01-01  \n",
       "313  6353810.0  5554420.0     2022-02-01  \n",
       "\n",
       "[314 rows x 9 columns]"
      ]
     },
     "execution_count": 41,
     "metadata": {},
     "output_type": "execute_result"
    }
   ],
   "source": [
    "##format dates \n",
    "month_dict={'Janvier':'January',\n",
    "            'Février':'February',\n",
    "           'Mars':'March',\n",
    "           'Avril':'April',\n",
    "           'Mai':'May',\n",
    "           'Juin':'June',\n",
    "           'Juillet':'July',\n",
    "           'Août':'August',\n",
    "           'Septembre':'September',\n",
    "           'Octobre':'October',\n",
    "           'Novembre':'November',\n",
    "           'Décembre':'December'}\n",
    "df['Mois_formatted']=pd.to_datetime(df['Mois'].replace(month_dict,regex=True),format='%B %Y')\n",
    "df"
   ]
  },
  {
   "cell_type": "markdown",
   "id": "d5dc9315",
   "metadata": {},
   "source": [
    "### Define masks"
   ]
  },
  {
   "cell_type": "code",
   "execution_count": 97,
   "id": "215bdcfb",
   "metadata": {},
   "outputs": [],
   "source": [
    "#chirac1\n",
    "start_chirac='1996-01-01'\n",
    "end_chirac='2002-04-01'\n",
    "#chirac2\n",
    "start_chirac2='2002-05-01'\n",
    "end_chirac2='2007-04-01'\n",
    "#sarkozy\n",
    "start_sarkozy='2007-05-01'\n",
    "end_sarkozy='2012-04-01'\n",
    "#hollande\n",
    "start_hollande='2012-05-01'\n",
    "end_hollande='2017-04-01'\n",
    "#macron\n",
    "start_macron='2017-05-01'\n",
    "end_macron='2022-03-01'\n",
    "\n",
    "mask_chirac=((df['Mois_formatted'] >= start_chirac) & (df['Mois_formatted'] <= end_chirac))\n",
    "mask_chirac2=((df['Mois_formatted'] >= start_chirac2) & (df['Mois_formatted'] <= end_chirac2))\n",
    "mask_sarkozy=((df['Mois_formatted'] >= start_sarkozy) & (df['Mois_formatted'] <= end_sarkozy))\n",
    "mask_hollande=((df['Mois_formatted'] >= start_hollande) & (df['Mois_formatted'] <= end_hollande))\n",
    "mask_macron=((df['Mois_formatted'] >= start_macron) & (df['Mois_formatted'] <= end_macron))"
   ]
  },
  {
   "cell_type": "markdown",
   "id": "cc240e38",
   "metadata": {},
   "source": [
    "### Apply masks"
   ]
  },
  {
   "cell_type": "code",
   "execution_count": 98,
   "id": "3fc6779f",
   "metadata": {},
   "outputs": [],
   "source": [
    "df_chirac=df[mask_chirac]\n",
    "df_chirac2=df[mask_chirac2]\n",
    "df_sarkozy=df[mask_sarkozy]\n",
    "df_hollande=df[mask_hollande]\n",
    "df_macron=df[mask_macron]"
   ]
  },
  {
   "cell_type": "markdown",
   "id": "9c5ff26d",
   "metadata": {},
   "source": [
    "## Plots"
   ]
  },
  {
   "cell_type": "code",
   "execution_count": 111,
   "id": "5b7ffef1",
   "metadata": {},
   "outputs": [],
   "source": [
    "def plot_fig(cat):\n",
    "    fig = go.Figure()\n",
    "\n",
    "    fig.add_trace(go.Scatter(x=df_chirac['Mois'],y=df_chirac[cat],\n",
    "                 mode=\"markers+lines\",\n",
    "                 name=\"Chirac\"))\n",
    "    fig.add_trace(go.Scatter(x=df_chirac2['Mois'],y=df_chirac2[cat],\n",
    "                 mode=\"markers+lines\",\n",
    "                 name=\"Chirac 2\"))\n",
    "    fig.add_trace(go.Scatter(x=df_sarkozy['Mois'],y=df_sarkozy[cat],\n",
    "                 mode=\"markers+lines\",\n",
    "                 name=\"Sarkozy\"))\n",
    "    fig.add_trace(go.Scatter(x=df_hollande['Mois'],y=df_hollande[cat],\n",
    "                 mode=\"markers+lines\",\n",
    "                 name=\"Hollande\"))\n",
    "    fig.add_trace(go.Scatter(x=df_macron['Mois'],y=df_macron[cat],\n",
    "                 mode=\"markers+lines\",\n",
    "                 name=\"Macron\"))\n",
    "\n",
    "    fig.update_layout(\n",
    "        title={'text':\"Catégorie \" + cat,'font_size':25,'x':0.5,'xanchor':'center'}\n",
    "        )\n",
    "    \n",
    "    fig.update_layout(\n",
    "    xaxis = dict(\n",
    "        tickmode = 'linear',\n",
    "        dtick = 12\n",
    "    ),\n",
    "    font=dict(\n",
    "        family=\"Arial\",\n",
    "        size=22,\n",
    "        color=\"Black\"\n",
    "    ))\n",
    "    \n",
    "    fig.show()"
   ]
  },
  {
   "cell_type": "code",
   "execution_count": 112,
   "id": "685ef694",
   "metadata": {},
   "outputs": [
    {
     "data": {
      "application/vnd.plotly.v1+json": {
       "config": {
        "plotlyServerURL": "https://plot.ly"
       },
       "data": [
        {
         "mode": "markers+lines",
         "name": "Chirac",
         "type": "scatter",
         "x": [
          "Janvier 1996",
          "Février 1996",
          "Mars 1996",
          "Avril 1996",
          "Mai 1996",
          "Juin 1996",
          "Juillet 1996",
          "Août 1996",
          "Septembre 1996",
          "Octobre 1996",
          "Novembre 1996",
          "Décembre 1996",
          "Janvier 1997",
          "Février 1997",
          "Mars 1997",
          "Avril 1997",
          "Mai 1997",
          "Juin 1997",
          "Juillet 1997",
          "Août 1997",
          "Septembre 1997",
          "Octobre 1997",
          "Novembre 1997",
          "Décembre 1997",
          "Janvier 1998",
          "Février 1998",
          "Mars 1998",
          "Avril 1998",
          "Mai 1998",
          "Juin 1998",
          "Juillet 1998",
          "Août 1998",
          "Septembre 1998",
          "Octobre 1998",
          "Novembre 1998",
          "Décembre 1998",
          "Janvier 1999",
          "Février 1999",
          "Mars 1999",
          "Avril 1999",
          "Mai 1999",
          "Juin 1999",
          "Juillet 1999",
          "Août 1999",
          "Septembre 1999",
          "Octobre 1999",
          "Novembre 1999",
          "Décembre 1999",
          "Janvier 2000",
          "Février 2000",
          "Mars 2000",
          "Avril 2000",
          "Mai 2000",
          "Juin 2000",
          "Juillet 2000",
          "Août 2000",
          "Septembre 2000",
          "Octobre 2000",
          "Novembre 2000",
          "Décembre 2000",
          "Janvier 2001",
          "Février 2001",
          "Mars 2001",
          "Avril 2001",
          "Mai 2001",
          "Juin 2001",
          "Juillet 2001",
          "Août 2001",
          "Septembre 2001",
          "Octobre 2001",
          "Novembre 2001",
          "Décembre 2001",
          "Janvier 2002",
          "Février 2002",
          "Mars 2002",
          "Avril 2002"
         ],
         "y": [
          3454210,
          3413110,
          3326830,
          3224530,
          3186330,
          3143050,
          3233800,
          3360930,
          3415640,
          3441850,
          3468350,
          3454600,
          3541510,
          3476440,
          3380360,
          3283800,
          3245420,
          3212960,
          3282340,
          3395850,
          3433770,
          3459880,
          3458130,
          3422260,
          3498150,
          3428150,
          3324840,
          3217670,
          3156470,
          3113890,
          3205500,
          3343550,
          3353980,
          3372170,
          3403940,
          3367380,
          3439300,
          3379490,
          3287320,
          3167480,
          3108030,
          3066990,
          3102140,
          3228730,
          3163980,
          3162470,
          3163000,
          3107930,
          3166550,
          3090630,
          2941750,
          2819170,
          2746170,
          2687570,
          2778130,
          2885750,
          2798280,
          2785680,
          2737830,
          2711160,
          2737220,
          2667610,
          2558680,
          2473690,
          2427860,
          2404870,
          2545670,
          2670420,
          2650250,
          2708900,
          2748730,
          2741560,
          2808690,
          2766190,
          2694180,
          2627040
         ]
        },
        {
         "mode": "markers+lines",
         "name": "Chirac 2",
         "type": "scatter",
         "x": [
          "Mai 2002",
          "Juin 2002",
          "Juillet 2002",
          "Août 2002",
          "Septembre 2002",
          "Octobre 2002",
          "Novembre 2002",
          "Décembre 2002",
          "Janvier 2003",
          "Février 2003",
          "Mars 2003",
          "Avril 2003",
          "Mai 2003",
          "Juin 2003",
          "Juillet 2003",
          "Août 2003",
          "Septembre 2003",
          "Octobre 2003",
          "Novembre 2003",
          "Décembre 2003",
          "Janvier 2004",
          "Février 2004",
          "Mars 2004",
          "Avril 2004",
          "Mai 2004",
          "Juin 2004",
          "Juillet 2004",
          "Août 2004",
          "Septembre 2004",
          "Octobre 2004",
          "Novembre 2004",
          "Décembre 2004",
          "Janvier 2005",
          "Février 2005",
          "Mars 2005",
          "Avril 2005",
          "Mai 2005",
          "Juin 2005",
          "Juillet 2005",
          "Août 2005",
          "Septembre 2005",
          "Octobre 2005",
          "Novembre 2005",
          "Décembre 2005",
          "Janvier 2006",
          "Février 2006",
          "Mars 2006",
          "Avril 2006",
          "Mai 2006",
          "Juin 2006",
          "Juillet 2006",
          "Août 2006",
          "Septembre 2006",
          "Octobre 2006",
          "Novembre 2006",
          "Décembre 2006",
          "Janvier 2007",
          "Février 2007",
          "Mars 2007",
          "Avril 2007"
         ],
         "y": [
          2578190,
          2564670,
          2698900,
          2820020,
          2792990,
          2823060,
          2851410,
          2849710,
          2935940,
          2903030,
          2825090,
          2747790,
          2688520,
          2683350,
          2803860,
          2929470,
          2948930,
          2975670,
          2975710,
          2969830,
          3005730,
          2944990,
          2845020,
          2742840,
          2707540,
          2686030,
          2797590,
          2965790,
          2918170,
          2939600,
          2978630,
          2949620,
          3037470,
          2986680,
          2890940,
          2786680,
          2747440,
          2691100,
          2774720,
          2921330,
          2843030,
          2854830,
          2849670,
          2799350,
          2876710,
          2806180,
          2680750,
          2545280,
          2460540,
          2400380,
          2465370,
          2604890,
          2514910,
          2544810,
          2528800,
          2474760,
          2538520,
          2466330,
          2351180,
          2242990
         ]
        },
        {
         "mode": "markers+lines",
         "name": "Sarkozy",
         "type": "scatter",
         "x": [
          "Mai 2007",
          "Juin 2007",
          "Juillet 2007",
          "Août 2007",
          "Septembre 2007",
          "Octobre 2007",
          "Novembre 2007",
          "Décembre 2007",
          "Janvier 2008",
          "Février 2008",
          "Mars 2008",
          "Avril 2008",
          "Mai 2008",
          "Juin 2008",
          "Juillet 2008",
          "Août 2008",
          "Septembre 2008",
          "Octobre 2008",
          "Novembre 2008",
          "Décembre 2008",
          "Janvier 2009",
          "Février 2009",
          "Mars 2009",
          "Avril 2009",
          "Mai 2009",
          "Juin 2009",
          "Juillet 2009",
          "Août 2009",
          "Septembre 2009",
          "Octobre 2009",
          "Novembre 2009",
          "Décembre 2009",
          "Janvier 2010",
          "Février 2010",
          "Mars 2010",
          "Avril 2010",
          "Mai 2010",
          "Juin 2010",
          "Juillet 2010",
          "Août 2010",
          "Septembre 2010",
          "Octobre 2010",
          "Novembre 2010",
          "Décembre 2010",
          "Janvier 2011",
          "Février 2011",
          "Mars 2011",
          "Avril 2011",
          "Mai 2011",
          "Juin 2011",
          "Juillet 2011",
          "Août 2011",
          "Septembre 2011",
          "Octobre 2011",
          "Novembre 2011",
          "Décembre 2011",
          "Janvier 2012",
          "Février 2012",
          "Mars 2012",
          "Avril 2012"
         ],
         "y": [
          2183160,
          2122230,
          2202010,
          2332370,
          2269920,
          2272700,
          2258630,
          2213840,
          2302020,
          2240070,
          2167230,
          2088560,
          2045490,
          2024370,
          2109870,
          2272820,
          2251060,
          2320160,
          2400770,
          2430490,
          2595840,
          2641290,
          2634240,
          2594060,
          2586010,
          2532550,
          2626750,
          2829810,
          2806920,
          2894180,
          2934120,
          2888240,
          3029760,
          2999440,
          2899690,
          2805110,
          2771540,
          2704080,
          2770720,
          2966310,
          2909380,
          2940780,
          2990070,
          2967520,
          3094710,
          3063320,
          2938660,
          2831740,
          2788920,
          2761860,
          2862270,
          3046570,
          2997200,
          3079650,
          3136610,
          3129610,
          3277400,
          3240370,
          3142850,
          3035960
         ]
        },
        {
         "mode": "markers+lines",
         "name": "Hollande",
         "type": "scatter",
         "x": [
          "Mai 2012",
          "Juin 2012",
          "Juillet 2012",
          "Août 2012",
          "Septembre 2012",
          "Octobre 2012",
          "Novembre 2012",
          "Décembre 2012",
          "Janvier 2013",
          "Février 2013",
          "Mars 2013",
          "Avril 2013",
          "Mai 2013",
          "Juin 2013",
          "Juillet 2013",
          "Août 2013",
          "Septembre 2013",
          "Octobre 2013",
          "Novembre 2013",
          "Décembre 2013",
          "Janvier 2014",
          "Février 2014",
          "Mars 2014",
          "Avril 2014",
          "Mai 2014",
          "Juin 2014",
          "Juillet 2014",
          "Août 2014",
          "Septembre 2014",
          "Octobre 2014",
          "Novembre 2014",
          "Décembre 2014",
          "Janvier 2015",
          "Février 2015",
          "Mars 2015",
          "Avril 2015",
          "Mai 2015",
          "Juin 2015",
          "Juillet 2015",
          "Août 2015",
          "Septembre 2015",
          "Octobre 2015",
          "Novembre 2015",
          "Décembre 2015",
          "Janvier 2016",
          "Février 2016",
          "Mars 2016",
          "Avril 2016",
          "Mai 2016",
          "Juin 2016",
          "Juillet 2016",
          "Août 2016",
          "Septembre 2016",
          "Octobre 2016",
          "Novembre 2016",
          "Décembre 2016",
          "Janvier 2017",
          "Février 2017",
          "Mars 2017",
          "Avril 2017"
         ],
         "y": [
          3014530,
          2977230,
          3095400,
          3313170,
          3296430,
          3391970,
          3456330,
          3440400,
          3609060,
          3576160,
          3494510,
          3407850,
          3359760,
          3315560,
          3393150,
          3557240,
          3557780,
          3583070,
          3651150,
          3624930,
          3759000,
          3732400,
          3634920,
          3518720,
          3493340,
          3450460,
          3537870,
          3739830,
          3699050,
          3760470,
          3846860,
          3809050,
          3929110,
          3896770,
          3801930,
          3686530,
          3673310,
          3598390,
          3668120,
          3902250,
          3800480,
          3889990,
          3934260,
          3895140,
          4003660,
          3987280,
          3810710,
          3663880,
          3623480,
          3561210,
          3636860,
          3882980,
          3726930,
          3785190,
          3804770,
          3782190,
          3907610,
          3875520,
          3771900,
          3626070
         ]
        },
        {
         "mode": "markers+lines",
         "name": "Macron",
         "type": "scatter",
         "x": [
          "Mai 2017",
          "Juin 2017",
          "Juillet 2017",
          "Août 2017",
          "Septembre 2017",
          "Octobre 2017",
          "Novembre 2017",
          "Décembre 2017",
          "Janvier 2018",
          "Février 2018",
          "Mars 2018",
          "Avril 2018",
          "Mai 2018",
          "Juin 2018",
          "Juillet 2018",
          "Août 2018",
          "Septembre 2018",
          "Octobre 2018",
          "Novembre 2018",
          "Décembre 2018",
          "Janvier 2019",
          "Février 2019",
          "Mars 2019",
          "Avril 2019",
          "Mai 2019",
          "Juin 2019",
          "Juillet 2019",
          "Août 2019",
          "Septembre 2019",
          "Octobre 2019",
          "Novembre 2019",
          "Décembre 2019",
          "Janvier 2020",
          "Février 2020",
          "Mars 2020",
          "Avril 2020",
          "Mai 2020",
          "Juin 2020",
          "Juillet 2020",
          "Août 2020",
          "Septembre 2020",
          "Octobre 2020",
          "Novembre 2020",
          "Décembre 2020",
          "Janvier 2021",
          "Février 2021",
          "Mars 2021",
          "Avril 2021",
          "Mai 2021",
          "Juin 2021",
          "Juillet 2021",
          "Août 2021",
          "Septembre 2021",
          "Octobre 2021",
          "Novembre 2021",
          "Décembre 2021",
          "Janvier 2022",
          "Février 2022"
         ],
         "y": [
          3591190,
          3525320,
          3644870,
          3882190,
          3708890,
          3789980,
          3796300,
          3778240,
          3898170,
          3826620,
          3699560,
          3582480,
          3553910,
          3490400,
          3599530,
          3843630,
          3677280,
          3726960,
          3738180,
          3743520,
          3847000,
          3766350,
          3645240,
          3502400,
          3471760,
          3434620,
          3529040,
          3760300,
          3559910,
          3617050,
          3623320,
          3598840,
          3686380,
          3595480,
          3731980,
          4439630,
          4272170,
          4005520,
          3944760,
          4031670,
          3824920,
          3842160,
          3911700,
          3889190,
          3982720,
          3924140,
          3783440,
          3720600,
          3578930,
          3434580,
          3499670,
          3704130,
          3452850,
          3430560,
          3400470,
          3363390,
          3397590,
          3304160
         ]
        }
       ],
       "layout": {
        "font": {
         "color": "Black",
         "family": "Arial",
         "size": 22
        },
        "template": {
         "data": {
          "bar": [
           {
            "error_x": {
             "color": "#2a3f5f"
            },
            "error_y": {
             "color": "#2a3f5f"
            },
            "marker": {
             "line": {
              "color": "#E5ECF6",
              "width": 0.5
             },
             "pattern": {
              "fillmode": "overlay",
              "size": 10,
              "solidity": 0.2
             }
            },
            "type": "bar"
           }
          ],
          "barpolar": [
           {
            "marker": {
             "line": {
              "color": "#E5ECF6",
              "width": 0.5
             },
             "pattern": {
              "fillmode": "overlay",
              "size": 10,
              "solidity": 0.2
             }
            },
            "type": "barpolar"
           }
          ],
          "carpet": [
           {
            "aaxis": {
             "endlinecolor": "#2a3f5f",
             "gridcolor": "white",
             "linecolor": "white",
             "minorgridcolor": "white",
             "startlinecolor": "#2a3f5f"
            },
            "baxis": {
             "endlinecolor": "#2a3f5f",
             "gridcolor": "white",
             "linecolor": "white",
             "minorgridcolor": "white",
             "startlinecolor": "#2a3f5f"
            },
            "type": "carpet"
           }
          ],
          "choropleth": [
           {
            "colorbar": {
             "outlinewidth": 0,
             "ticks": ""
            },
            "type": "choropleth"
           }
          ],
          "contour": [
           {
            "colorbar": {
             "outlinewidth": 0,
             "ticks": ""
            },
            "colorscale": [
             [
              0,
              "#0d0887"
             ],
             [
              0.1111111111111111,
              "#46039f"
             ],
             [
              0.2222222222222222,
              "#7201a8"
             ],
             [
              0.3333333333333333,
              "#9c179e"
             ],
             [
              0.4444444444444444,
              "#bd3786"
             ],
             [
              0.5555555555555556,
              "#d8576b"
             ],
             [
              0.6666666666666666,
              "#ed7953"
             ],
             [
              0.7777777777777778,
              "#fb9f3a"
             ],
             [
              0.8888888888888888,
              "#fdca26"
             ],
             [
              1,
              "#f0f921"
             ]
            ],
            "type": "contour"
           }
          ],
          "contourcarpet": [
           {
            "colorbar": {
             "outlinewidth": 0,
             "ticks": ""
            },
            "type": "contourcarpet"
           }
          ],
          "heatmap": [
           {
            "colorbar": {
             "outlinewidth": 0,
             "ticks": ""
            },
            "colorscale": [
             [
              0,
              "#0d0887"
             ],
             [
              0.1111111111111111,
              "#46039f"
             ],
             [
              0.2222222222222222,
              "#7201a8"
             ],
             [
              0.3333333333333333,
              "#9c179e"
             ],
             [
              0.4444444444444444,
              "#bd3786"
             ],
             [
              0.5555555555555556,
              "#d8576b"
             ],
             [
              0.6666666666666666,
              "#ed7953"
             ],
             [
              0.7777777777777778,
              "#fb9f3a"
             ],
             [
              0.8888888888888888,
              "#fdca26"
             ],
             [
              1,
              "#f0f921"
             ]
            ],
            "type": "heatmap"
           }
          ],
          "heatmapgl": [
           {
            "colorbar": {
             "outlinewidth": 0,
             "ticks": ""
            },
            "colorscale": [
             [
              0,
              "#0d0887"
             ],
             [
              0.1111111111111111,
              "#46039f"
             ],
             [
              0.2222222222222222,
              "#7201a8"
             ],
             [
              0.3333333333333333,
              "#9c179e"
             ],
             [
              0.4444444444444444,
              "#bd3786"
             ],
             [
              0.5555555555555556,
              "#d8576b"
             ],
             [
              0.6666666666666666,
              "#ed7953"
             ],
             [
              0.7777777777777778,
              "#fb9f3a"
             ],
             [
              0.8888888888888888,
              "#fdca26"
             ],
             [
              1,
              "#f0f921"
             ]
            ],
            "type": "heatmapgl"
           }
          ],
          "histogram": [
           {
            "marker": {
             "pattern": {
              "fillmode": "overlay",
              "size": 10,
              "solidity": 0.2
             }
            },
            "type": "histogram"
           }
          ],
          "histogram2d": [
           {
            "colorbar": {
             "outlinewidth": 0,
             "ticks": ""
            },
            "colorscale": [
             [
              0,
              "#0d0887"
             ],
             [
              0.1111111111111111,
              "#46039f"
             ],
             [
              0.2222222222222222,
              "#7201a8"
             ],
             [
              0.3333333333333333,
              "#9c179e"
             ],
             [
              0.4444444444444444,
              "#bd3786"
             ],
             [
              0.5555555555555556,
              "#d8576b"
             ],
             [
              0.6666666666666666,
              "#ed7953"
             ],
             [
              0.7777777777777778,
              "#fb9f3a"
             ],
             [
              0.8888888888888888,
              "#fdca26"
             ],
             [
              1,
              "#f0f921"
             ]
            ],
            "type": "histogram2d"
           }
          ],
          "histogram2dcontour": [
           {
            "colorbar": {
             "outlinewidth": 0,
             "ticks": ""
            },
            "colorscale": [
             [
              0,
              "#0d0887"
             ],
             [
              0.1111111111111111,
              "#46039f"
             ],
             [
              0.2222222222222222,
              "#7201a8"
             ],
             [
              0.3333333333333333,
              "#9c179e"
             ],
             [
              0.4444444444444444,
              "#bd3786"
             ],
             [
              0.5555555555555556,
              "#d8576b"
             ],
             [
              0.6666666666666666,
              "#ed7953"
             ],
             [
              0.7777777777777778,
              "#fb9f3a"
             ],
             [
              0.8888888888888888,
              "#fdca26"
             ],
             [
              1,
              "#f0f921"
             ]
            ],
            "type": "histogram2dcontour"
           }
          ],
          "mesh3d": [
           {
            "colorbar": {
             "outlinewidth": 0,
             "ticks": ""
            },
            "type": "mesh3d"
           }
          ],
          "parcoords": [
           {
            "line": {
             "colorbar": {
              "outlinewidth": 0,
              "ticks": ""
             }
            },
            "type": "parcoords"
           }
          ],
          "pie": [
           {
            "automargin": true,
            "type": "pie"
           }
          ],
          "scatter": [
           {
            "marker": {
             "colorbar": {
              "outlinewidth": 0,
              "ticks": ""
             }
            },
            "type": "scatter"
           }
          ],
          "scatter3d": [
           {
            "line": {
             "colorbar": {
              "outlinewidth": 0,
              "ticks": ""
             }
            },
            "marker": {
             "colorbar": {
              "outlinewidth": 0,
              "ticks": ""
             }
            },
            "type": "scatter3d"
           }
          ],
          "scattercarpet": [
           {
            "marker": {
             "colorbar": {
              "outlinewidth": 0,
              "ticks": ""
             }
            },
            "type": "scattercarpet"
           }
          ],
          "scattergeo": [
           {
            "marker": {
             "colorbar": {
              "outlinewidth": 0,
              "ticks": ""
             }
            },
            "type": "scattergeo"
           }
          ],
          "scattergl": [
           {
            "marker": {
             "colorbar": {
              "outlinewidth": 0,
              "ticks": ""
             }
            },
            "type": "scattergl"
           }
          ],
          "scattermapbox": [
           {
            "marker": {
             "colorbar": {
              "outlinewidth": 0,
              "ticks": ""
             }
            },
            "type": "scattermapbox"
           }
          ],
          "scatterpolar": [
           {
            "marker": {
             "colorbar": {
              "outlinewidth": 0,
              "ticks": ""
             }
            },
            "type": "scatterpolar"
           }
          ],
          "scatterpolargl": [
           {
            "marker": {
             "colorbar": {
              "outlinewidth": 0,
              "ticks": ""
             }
            },
            "type": "scatterpolargl"
           }
          ],
          "scatterternary": [
           {
            "marker": {
             "colorbar": {
              "outlinewidth": 0,
              "ticks": ""
             }
            },
            "type": "scatterternary"
           }
          ],
          "surface": [
           {
            "colorbar": {
             "outlinewidth": 0,
             "ticks": ""
            },
            "colorscale": [
             [
              0,
              "#0d0887"
             ],
             [
              0.1111111111111111,
              "#46039f"
             ],
             [
              0.2222222222222222,
              "#7201a8"
             ],
             [
              0.3333333333333333,
              "#9c179e"
             ],
             [
              0.4444444444444444,
              "#bd3786"
             ],
             [
              0.5555555555555556,
              "#d8576b"
             ],
             [
              0.6666666666666666,
              "#ed7953"
             ],
             [
              0.7777777777777778,
              "#fb9f3a"
             ],
             [
              0.8888888888888888,
              "#fdca26"
             ],
             [
              1,
              "#f0f921"
             ]
            ],
            "type": "surface"
           }
          ],
          "table": [
           {
            "cells": {
             "fill": {
              "color": "#EBF0F8"
             },
             "line": {
              "color": "white"
             }
            },
            "header": {
             "fill": {
              "color": "#C8D4E3"
             },
             "line": {
              "color": "white"
             }
            },
            "type": "table"
           }
          ]
         },
         "layout": {
          "annotationdefaults": {
           "arrowcolor": "#2a3f5f",
           "arrowhead": 0,
           "arrowwidth": 1
          },
          "autotypenumbers": "strict",
          "coloraxis": {
           "colorbar": {
            "outlinewidth": 0,
            "ticks": ""
           }
          },
          "colorscale": {
           "diverging": [
            [
             0,
             "#8e0152"
            ],
            [
             0.1,
             "#c51b7d"
            ],
            [
             0.2,
             "#de77ae"
            ],
            [
             0.3,
             "#f1b6da"
            ],
            [
             0.4,
             "#fde0ef"
            ],
            [
             0.5,
             "#f7f7f7"
            ],
            [
             0.6,
             "#e6f5d0"
            ],
            [
             0.7,
             "#b8e186"
            ],
            [
             0.8,
             "#7fbc41"
            ],
            [
             0.9,
             "#4d9221"
            ],
            [
             1,
             "#276419"
            ]
           ],
           "sequential": [
            [
             0,
             "#0d0887"
            ],
            [
             0.1111111111111111,
             "#46039f"
            ],
            [
             0.2222222222222222,
             "#7201a8"
            ],
            [
             0.3333333333333333,
             "#9c179e"
            ],
            [
             0.4444444444444444,
             "#bd3786"
            ],
            [
             0.5555555555555556,
             "#d8576b"
            ],
            [
             0.6666666666666666,
             "#ed7953"
            ],
            [
             0.7777777777777778,
             "#fb9f3a"
            ],
            [
             0.8888888888888888,
             "#fdca26"
            ],
            [
             1,
             "#f0f921"
            ]
           ],
           "sequentialminus": [
            [
             0,
             "#0d0887"
            ],
            [
             0.1111111111111111,
             "#46039f"
            ],
            [
             0.2222222222222222,
             "#7201a8"
            ],
            [
             0.3333333333333333,
             "#9c179e"
            ],
            [
             0.4444444444444444,
             "#bd3786"
            ],
            [
             0.5555555555555556,
             "#d8576b"
            ],
            [
             0.6666666666666666,
             "#ed7953"
            ],
            [
             0.7777777777777778,
             "#fb9f3a"
            ],
            [
             0.8888888888888888,
             "#fdca26"
            ],
            [
             1,
             "#f0f921"
            ]
           ]
          },
          "colorway": [
           "#636efa",
           "#EF553B",
           "#00cc96",
           "#ab63fa",
           "#FFA15A",
           "#19d3f3",
           "#FF6692",
           "#B6E880",
           "#FF97FF",
           "#FECB52"
          ],
          "font": {
           "color": "#2a3f5f"
          },
          "geo": {
           "bgcolor": "white",
           "lakecolor": "white",
           "landcolor": "#E5ECF6",
           "showlakes": true,
           "showland": true,
           "subunitcolor": "white"
          },
          "hoverlabel": {
           "align": "left"
          },
          "hovermode": "closest",
          "mapbox": {
           "style": "light"
          },
          "paper_bgcolor": "white",
          "plot_bgcolor": "#E5ECF6",
          "polar": {
           "angularaxis": {
            "gridcolor": "white",
            "linecolor": "white",
            "ticks": ""
           },
           "bgcolor": "#E5ECF6",
           "radialaxis": {
            "gridcolor": "white",
            "linecolor": "white",
            "ticks": ""
           }
          },
          "scene": {
           "xaxis": {
            "backgroundcolor": "#E5ECF6",
            "gridcolor": "white",
            "gridwidth": 2,
            "linecolor": "white",
            "showbackground": true,
            "ticks": "",
            "zerolinecolor": "white"
           },
           "yaxis": {
            "backgroundcolor": "#E5ECF6",
            "gridcolor": "white",
            "gridwidth": 2,
            "linecolor": "white",
            "showbackground": true,
            "ticks": "",
            "zerolinecolor": "white"
           },
           "zaxis": {
            "backgroundcolor": "#E5ECF6",
            "gridcolor": "white",
            "gridwidth": 2,
            "linecolor": "white",
            "showbackground": true,
            "ticks": "",
            "zerolinecolor": "white"
           }
          },
          "shapedefaults": {
           "line": {
            "color": "#2a3f5f"
           }
          },
          "ternary": {
           "aaxis": {
            "gridcolor": "white",
            "linecolor": "white",
            "ticks": ""
           },
           "baxis": {
            "gridcolor": "white",
            "linecolor": "white",
            "ticks": ""
           },
           "bgcolor": "#E5ECF6",
           "caxis": {
            "gridcolor": "white",
            "linecolor": "white",
            "ticks": ""
           }
          },
          "title": {
           "x": 0.05
          },
          "xaxis": {
           "automargin": true,
           "gridcolor": "white",
           "linecolor": "white",
           "ticks": "",
           "title": {
            "standoff": 15
           },
           "zerolinecolor": "white",
           "zerolinewidth": 2
          },
          "yaxis": {
           "automargin": true,
           "gridcolor": "white",
           "linecolor": "white",
           "ticks": "",
           "title": {
            "standoff": 15
           },
           "zerolinecolor": "white",
           "zerolinewidth": 2
          }
         }
        },
        "title": {
         "font": {
          "size": 25
         },
         "text": "Catégorie A",
         "x": 0.5,
         "xanchor": "center"
        },
        "xaxis": {
         "dtick": 12,
         "tickmode": "linear"
        }
       }
      },
      "text/html": [
       "<div>                            <div id=\"6344b6e8-9b2b-4487-8597-7a55eee2ce2a\" class=\"plotly-graph-div\" style=\"height:525px; width:100%;\"></div>            <script type=\"text/javascript\">                require([\"plotly\"], function(Plotly) {                    window.PLOTLYENV=window.PLOTLYENV || {};                                    if (document.getElementById(\"6344b6e8-9b2b-4487-8597-7a55eee2ce2a\")) {                    Plotly.newPlot(                        \"6344b6e8-9b2b-4487-8597-7a55eee2ce2a\",                        [{\"mode\":\"markers+lines\",\"name\":\"Chirac\",\"x\":[\"Janvier 1996\",\"F\\u00e9vrier 1996\",\"Mars 1996\",\"Avril 1996\",\"Mai 1996\",\"Juin 1996\",\"Juillet 1996\",\"Ao\\u00fbt 1996\",\"Septembre 1996\",\"Octobre 1996\",\"Novembre 1996\",\"D\\u00e9cembre 1996\",\"Janvier 1997\",\"F\\u00e9vrier 1997\",\"Mars 1997\",\"Avril 1997\",\"Mai 1997\",\"Juin 1997\",\"Juillet 1997\",\"Ao\\u00fbt 1997\",\"Septembre 1997\",\"Octobre 1997\",\"Novembre 1997\",\"D\\u00e9cembre 1997\",\"Janvier 1998\",\"F\\u00e9vrier 1998\",\"Mars 1998\",\"Avril 1998\",\"Mai 1998\",\"Juin 1998\",\"Juillet 1998\",\"Ao\\u00fbt 1998\",\"Septembre 1998\",\"Octobre 1998\",\"Novembre 1998\",\"D\\u00e9cembre 1998\",\"Janvier 1999\",\"F\\u00e9vrier 1999\",\"Mars 1999\",\"Avril 1999\",\"Mai 1999\",\"Juin 1999\",\"Juillet 1999\",\"Ao\\u00fbt 1999\",\"Septembre 1999\",\"Octobre 1999\",\"Novembre 1999\",\"D\\u00e9cembre 1999\",\"Janvier 2000\",\"F\\u00e9vrier 2000\",\"Mars 2000\",\"Avril 2000\",\"Mai 2000\",\"Juin 2000\",\"Juillet 2000\",\"Ao\\u00fbt 2000\",\"Septembre 2000\",\"Octobre 2000\",\"Novembre 2000\",\"D\\u00e9cembre 2000\",\"Janvier 2001\",\"F\\u00e9vrier 2001\",\"Mars 2001\",\"Avril 2001\",\"Mai 2001\",\"Juin 2001\",\"Juillet 2001\",\"Ao\\u00fbt 2001\",\"Septembre 2001\",\"Octobre 2001\",\"Novembre 2001\",\"D\\u00e9cembre 2001\",\"Janvier 2002\",\"F\\u00e9vrier 2002\",\"Mars 2002\",\"Avril 2002\"],\"y\":[3454210.0,3413110.0,3326830.0,3224530.0,3186330.0,3143050.0,3233800.0,3360930.0,3415640.0,3441850.0,3468350.0,3454600.0,3541510.0,3476440.0,3380360.0,3283800.0,3245420.0,3212960.0,3282340.0,3395850.0,3433770.0,3459880.0,3458130.0,3422260.0,3498150.0,3428150.0,3324840.0,3217670.0,3156470.0,3113890.0,3205500.0,3343550.0,3353980.0,3372170.0,3403940.0,3367380.0,3439300.0,3379490.0,3287320.0,3167480.0,3108030.0,3066990.0,3102140.0,3228730.0,3163980.0,3162470.0,3163000.0,3107930.0,3166550.0,3090630.0,2941750.0,2819170.0,2746170.0,2687570.0,2778130.0,2885750.0,2798280.0,2785680.0,2737830.0,2711160.0,2737220.0,2667610.0,2558680.0,2473690.0,2427860.0,2404870.0,2545670.0,2670420.0,2650250.0,2708900.0,2748730.0,2741560.0,2808690.0,2766190.0,2694180.0,2627040.0],\"type\":\"scatter\"},{\"mode\":\"markers+lines\",\"name\":\"Chirac 2\",\"x\":[\"Mai 2002\",\"Juin 2002\",\"Juillet 2002\",\"Ao\\u00fbt 2002\",\"Septembre 2002\",\"Octobre 2002\",\"Novembre 2002\",\"D\\u00e9cembre 2002\",\"Janvier 2003\",\"F\\u00e9vrier 2003\",\"Mars 2003\",\"Avril 2003\",\"Mai 2003\",\"Juin 2003\",\"Juillet 2003\",\"Ao\\u00fbt 2003\",\"Septembre 2003\",\"Octobre 2003\",\"Novembre 2003\",\"D\\u00e9cembre 2003\",\"Janvier 2004\",\"F\\u00e9vrier 2004\",\"Mars 2004\",\"Avril 2004\",\"Mai 2004\",\"Juin 2004\",\"Juillet 2004\",\"Ao\\u00fbt 2004\",\"Septembre 2004\",\"Octobre 2004\",\"Novembre 2004\",\"D\\u00e9cembre 2004\",\"Janvier 2005\",\"F\\u00e9vrier 2005\",\"Mars 2005\",\"Avril 2005\",\"Mai 2005\",\"Juin 2005\",\"Juillet 2005\",\"Ao\\u00fbt 2005\",\"Septembre 2005\",\"Octobre 2005\",\"Novembre 2005\",\"D\\u00e9cembre 2005\",\"Janvier 2006\",\"F\\u00e9vrier 2006\",\"Mars 2006\",\"Avril 2006\",\"Mai 2006\",\"Juin 2006\",\"Juillet 2006\",\"Ao\\u00fbt 2006\",\"Septembre 2006\",\"Octobre 2006\",\"Novembre 2006\",\"D\\u00e9cembre 2006\",\"Janvier 2007\",\"F\\u00e9vrier 2007\",\"Mars 2007\",\"Avril 2007\"],\"y\":[2578190.0,2564670.0,2698900.0,2820020.0,2792990.0,2823060.0,2851410.0,2849710.0,2935940.0,2903030.0,2825090.0,2747790.0,2688520.0,2683350.0,2803860.0,2929470.0,2948930.0,2975670.0,2975710.0,2969830.0,3005730.0,2944990.0,2845020.0,2742840.0,2707540.0,2686030.0,2797590.0,2965790.0,2918170.0,2939600.0,2978630.0,2949620.0,3037470.0,2986680.0,2890940.0,2786680.0,2747440.0,2691100.0,2774720.0,2921330.0,2843030.0,2854830.0,2849670.0,2799350.0,2876710.0,2806180.0,2680750.0,2545280.0,2460540.0,2400380.0,2465370.0,2604890.0,2514910.0,2544810.0,2528800.0,2474760.0,2538520.0,2466330.0,2351180.0,2242990.0],\"type\":\"scatter\"},{\"mode\":\"markers+lines\",\"name\":\"Sarkozy\",\"x\":[\"Mai 2007\",\"Juin 2007\",\"Juillet 2007\",\"Ao\\u00fbt 2007\",\"Septembre 2007\",\"Octobre 2007\",\"Novembre 2007\",\"D\\u00e9cembre 2007\",\"Janvier 2008\",\"F\\u00e9vrier 2008\",\"Mars 2008\",\"Avril 2008\",\"Mai 2008\",\"Juin 2008\",\"Juillet 2008\",\"Ao\\u00fbt 2008\",\"Septembre 2008\",\"Octobre 2008\",\"Novembre 2008\",\"D\\u00e9cembre 2008\",\"Janvier 2009\",\"F\\u00e9vrier 2009\",\"Mars 2009\",\"Avril 2009\",\"Mai 2009\",\"Juin 2009\",\"Juillet 2009\",\"Ao\\u00fbt 2009\",\"Septembre 2009\",\"Octobre 2009\",\"Novembre 2009\",\"D\\u00e9cembre 2009\",\"Janvier 2010\",\"F\\u00e9vrier 2010\",\"Mars 2010\",\"Avril 2010\",\"Mai 2010\",\"Juin 2010\",\"Juillet 2010\",\"Ao\\u00fbt 2010\",\"Septembre 2010\",\"Octobre 2010\",\"Novembre 2010\",\"D\\u00e9cembre 2010\",\"Janvier 2011\",\"F\\u00e9vrier 2011\",\"Mars 2011\",\"Avril 2011\",\"Mai 2011\",\"Juin 2011\",\"Juillet 2011\",\"Ao\\u00fbt 2011\",\"Septembre 2011\",\"Octobre 2011\",\"Novembre 2011\",\"D\\u00e9cembre 2011\",\"Janvier 2012\",\"F\\u00e9vrier 2012\",\"Mars 2012\",\"Avril 2012\"],\"y\":[2183160.0,2122230.0,2202010.0,2332370.0,2269920.0,2272700.0,2258630.0,2213840.0,2302020.0,2240070.0,2167230.0,2088560.0,2045490.0,2024370.0,2109870.0,2272820.0,2251060.0,2320160.0,2400770.0,2430490.0,2595840.0,2641290.0,2634240.0,2594060.0,2586010.0,2532550.0,2626750.0,2829810.0,2806920.0,2894180.0,2934120.0,2888240.0,3029760.0,2999440.0,2899690.0,2805110.0,2771540.0,2704080.0,2770720.0,2966310.0,2909380.0,2940780.0,2990070.0,2967520.0,3094710.0,3063320.0,2938660.0,2831740.0,2788920.0,2761860.0,2862270.0,3046570.0,2997200.0,3079650.0,3136610.0,3129610.0,3277400.0,3240370.0,3142850.0,3035960.0],\"type\":\"scatter\"},{\"mode\":\"markers+lines\",\"name\":\"Hollande\",\"x\":[\"Mai 2012\",\"Juin 2012\",\"Juillet 2012\",\"Ao\\u00fbt 2012\",\"Septembre 2012\",\"Octobre 2012\",\"Novembre 2012\",\"D\\u00e9cembre 2012\",\"Janvier 2013\",\"F\\u00e9vrier 2013\",\"Mars 2013\",\"Avril 2013\",\"Mai 2013\",\"Juin 2013\",\"Juillet 2013\",\"Ao\\u00fbt 2013\",\"Septembre 2013\",\"Octobre 2013\",\"Novembre 2013\",\"D\\u00e9cembre 2013\",\"Janvier 2014\",\"F\\u00e9vrier 2014\",\"Mars 2014\",\"Avril 2014\",\"Mai 2014\",\"Juin 2014\",\"Juillet 2014\",\"Ao\\u00fbt 2014\",\"Septembre 2014\",\"Octobre 2014\",\"Novembre 2014\",\"D\\u00e9cembre 2014\",\"Janvier 2015\",\"F\\u00e9vrier 2015\",\"Mars 2015\",\"Avril 2015\",\"Mai 2015\",\"Juin 2015\",\"Juillet 2015\",\"Ao\\u00fbt 2015\",\"Septembre 2015\",\"Octobre 2015\",\"Novembre 2015\",\"D\\u00e9cembre 2015\",\"Janvier 2016\",\"F\\u00e9vrier 2016\",\"Mars 2016\",\"Avril 2016\",\"Mai 2016\",\"Juin 2016\",\"Juillet 2016\",\"Ao\\u00fbt 2016\",\"Septembre 2016\",\"Octobre 2016\",\"Novembre 2016\",\"D\\u00e9cembre 2016\",\"Janvier 2017\",\"F\\u00e9vrier 2017\",\"Mars 2017\",\"Avril 2017\"],\"y\":[3014530.0,2977230.0,3095400.0,3313170.0,3296430.0,3391970.0,3456330.0,3440400.0,3609060.0,3576160.0,3494510.0,3407850.0,3359760.0,3315560.0,3393150.0,3557240.0,3557780.0,3583070.0,3651150.0,3624930.0,3759000.0,3732400.0,3634920.0,3518720.0,3493340.0,3450460.0,3537870.0,3739830.0,3699050.0,3760470.0,3846860.0,3809050.0,3929110.0,3896770.0,3801930.0,3686530.0,3673310.0,3598390.0,3668120.0,3902250.0,3800480.0,3889990.0,3934260.0,3895140.0,4003660.0,3987280.0,3810710.0,3663880.0,3623480.0,3561210.0,3636860.0,3882980.0,3726930.0,3785190.0,3804770.0,3782190.0,3907610.0,3875520.0,3771900.0,3626070.0],\"type\":\"scatter\"},{\"mode\":\"markers+lines\",\"name\":\"Macron\",\"x\":[\"Mai 2017\",\"Juin 2017\",\"Juillet 2017\",\"Ao\\u00fbt 2017\",\"Septembre 2017\",\"Octobre 2017\",\"Novembre 2017\",\"D\\u00e9cembre 2017\",\"Janvier 2018\",\"F\\u00e9vrier 2018\",\"Mars 2018\",\"Avril 2018\",\"Mai 2018\",\"Juin 2018\",\"Juillet 2018\",\"Ao\\u00fbt 2018\",\"Septembre 2018\",\"Octobre 2018\",\"Novembre 2018\",\"D\\u00e9cembre 2018\",\"Janvier 2019\",\"F\\u00e9vrier 2019\",\"Mars 2019\",\"Avril 2019\",\"Mai 2019\",\"Juin 2019\",\"Juillet 2019\",\"Ao\\u00fbt 2019\",\"Septembre 2019\",\"Octobre 2019\",\"Novembre 2019\",\"D\\u00e9cembre 2019\",\"Janvier 2020\",\"F\\u00e9vrier 2020\",\"Mars 2020\",\"Avril 2020\",\"Mai 2020\",\"Juin 2020\",\"Juillet 2020\",\"Ao\\u00fbt 2020\",\"Septembre 2020\",\"Octobre 2020\",\"Novembre 2020\",\"D\\u00e9cembre 2020\",\"Janvier 2021\",\"F\\u00e9vrier 2021\",\"Mars 2021\",\"Avril 2021\",\"Mai 2021\",\"Juin 2021\",\"Juillet 2021\",\"Ao\\u00fbt 2021\",\"Septembre 2021\",\"Octobre 2021\",\"Novembre 2021\",\"D\\u00e9cembre 2021\",\"Janvier 2022\",\"F\\u00e9vrier 2022\"],\"y\":[3591190.0,3525320.0,3644870.0,3882190.0,3708890.0,3789980.0,3796300.0,3778240.0,3898170.0,3826620.0,3699560.0,3582480.0,3553910.0,3490400.0,3599530.0,3843630.0,3677280.0,3726960.0,3738180.0,3743520.0,3847000.0,3766350.0,3645240.0,3502400.0,3471760.0,3434620.0,3529040.0,3760300.0,3559910.0,3617050.0,3623320.0,3598840.0,3686380.0,3595480.0,3731980.0,4439630.0,4272170.0,4005520.0,3944760.0,4031670.0,3824920.0,3842160.0,3911700.0,3889190.0,3982720.0,3924140.0,3783440.0,3720600.0,3578930.0,3434580.0,3499670.0,3704130.0,3452850.0,3430560.0,3400470.0,3363390.0,3397590.0,3304160.0],\"type\":\"scatter\"}],                        {\"template\":{\"data\":{\"bar\":[{\"error_x\":{\"color\":\"#2a3f5f\"},\"error_y\":{\"color\":\"#2a3f5f\"},\"marker\":{\"line\":{\"color\":\"#E5ECF6\",\"width\":0.5},\"pattern\":{\"fillmode\":\"overlay\",\"size\":10,\"solidity\":0.2}},\"type\":\"bar\"}],\"barpolar\":[{\"marker\":{\"line\":{\"color\":\"#E5ECF6\",\"width\":0.5},\"pattern\":{\"fillmode\":\"overlay\",\"size\":10,\"solidity\":0.2}},\"type\":\"barpolar\"}],\"carpet\":[{\"aaxis\":{\"endlinecolor\":\"#2a3f5f\",\"gridcolor\":\"white\",\"linecolor\":\"white\",\"minorgridcolor\":\"white\",\"startlinecolor\":\"#2a3f5f\"},\"baxis\":{\"endlinecolor\":\"#2a3f5f\",\"gridcolor\":\"white\",\"linecolor\":\"white\",\"minorgridcolor\":\"white\",\"startlinecolor\":\"#2a3f5f\"},\"type\":\"carpet\"}],\"choropleth\":[{\"colorbar\":{\"outlinewidth\":0,\"ticks\":\"\"},\"type\":\"choropleth\"}],\"contour\":[{\"colorbar\":{\"outlinewidth\":0,\"ticks\":\"\"},\"colorscale\":[[0.0,\"#0d0887\"],[0.1111111111111111,\"#46039f\"],[0.2222222222222222,\"#7201a8\"],[0.3333333333333333,\"#9c179e\"],[0.4444444444444444,\"#bd3786\"],[0.5555555555555556,\"#d8576b\"],[0.6666666666666666,\"#ed7953\"],[0.7777777777777778,\"#fb9f3a\"],[0.8888888888888888,\"#fdca26\"],[1.0,\"#f0f921\"]],\"type\":\"contour\"}],\"contourcarpet\":[{\"colorbar\":{\"outlinewidth\":0,\"ticks\":\"\"},\"type\":\"contourcarpet\"}],\"heatmap\":[{\"colorbar\":{\"outlinewidth\":0,\"ticks\":\"\"},\"colorscale\":[[0.0,\"#0d0887\"],[0.1111111111111111,\"#46039f\"],[0.2222222222222222,\"#7201a8\"],[0.3333333333333333,\"#9c179e\"],[0.4444444444444444,\"#bd3786\"],[0.5555555555555556,\"#d8576b\"],[0.6666666666666666,\"#ed7953\"],[0.7777777777777778,\"#fb9f3a\"],[0.8888888888888888,\"#fdca26\"],[1.0,\"#f0f921\"]],\"type\":\"heatmap\"}],\"heatmapgl\":[{\"colorbar\":{\"outlinewidth\":0,\"ticks\":\"\"},\"colorscale\":[[0.0,\"#0d0887\"],[0.1111111111111111,\"#46039f\"],[0.2222222222222222,\"#7201a8\"],[0.3333333333333333,\"#9c179e\"],[0.4444444444444444,\"#bd3786\"],[0.5555555555555556,\"#d8576b\"],[0.6666666666666666,\"#ed7953\"],[0.7777777777777778,\"#fb9f3a\"],[0.8888888888888888,\"#fdca26\"],[1.0,\"#f0f921\"]],\"type\":\"heatmapgl\"}],\"histogram\":[{\"marker\":{\"pattern\":{\"fillmode\":\"overlay\",\"size\":10,\"solidity\":0.2}},\"type\":\"histogram\"}],\"histogram2d\":[{\"colorbar\":{\"outlinewidth\":0,\"ticks\":\"\"},\"colorscale\":[[0.0,\"#0d0887\"],[0.1111111111111111,\"#46039f\"],[0.2222222222222222,\"#7201a8\"],[0.3333333333333333,\"#9c179e\"],[0.4444444444444444,\"#bd3786\"],[0.5555555555555556,\"#d8576b\"],[0.6666666666666666,\"#ed7953\"],[0.7777777777777778,\"#fb9f3a\"],[0.8888888888888888,\"#fdca26\"],[1.0,\"#f0f921\"]],\"type\":\"histogram2d\"}],\"histogram2dcontour\":[{\"colorbar\":{\"outlinewidth\":0,\"ticks\":\"\"},\"colorscale\":[[0.0,\"#0d0887\"],[0.1111111111111111,\"#46039f\"],[0.2222222222222222,\"#7201a8\"],[0.3333333333333333,\"#9c179e\"],[0.4444444444444444,\"#bd3786\"],[0.5555555555555556,\"#d8576b\"],[0.6666666666666666,\"#ed7953\"],[0.7777777777777778,\"#fb9f3a\"],[0.8888888888888888,\"#fdca26\"],[1.0,\"#f0f921\"]],\"type\":\"histogram2dcontour\"}],\"mesh3d\":[{\"colorbar\":{\"outlinewidth\":0,\"ticks\":\"\"},\"type\":\"mesh3d\"}],\"parcoords\":[{\"line\":{\"colorbar\":{\"outlinewidth\":0,\"ticks\":\"\"}},\"type\":\"parcoords\"}],\"pie\":[{\"automargin\":true,\"type\":\"pie\"}],\"scatter\":[{\"marker\":{\"colorbar\":{\"outlinewidth\":0,\"ticks\":\"\"}},\"type\":\"scatter\"}],\"scatter3d\":[{\"line\":{\"colorbar\":{\"outlinewidth\":0,\"ticks\":\"\"}},\"marker\":{\"colorbar\":{\"outlinewidth\":0,\"ticks\":\"\"}},\"type\":\"scatter3d\"}],\"scattercarpet\":[{\"marker\":{\"colorbar\":{\"outlinewidth\":0,\"ticks\":\"\"}},\"type\":\"scattercarpet\"}],\"scattergeo\":[{\"marker\":{\"colorbar\":{\"outlinewidth\":0,\"ticks\":\"\"}},\"type\":\"scattergeo\"}],\"scattergl\":[{\"marker\":{\"colorbar\":{\"outlinewidth\":0,\"ticks\":\"\"}},\"type\":\"scattergl\"}],\"scattermapbox\":[{\"marker\":{\"colorbar\":{\"outlinewidth\":0,\"ticks\":\"\"}},\"type\":\"scattermapbox\"}],\"scatterpolar\":[{\"marker\":{\"colorbar\":{\"outlinewidth\":0,\"ticks\":\"\"}},\"type\":\"scatterpolar\"}],\"scatterpolargl\":[{\"marker\":{\"colorbar\":{\"outlinewidth\":0,\"ticks\":\"\"}},\"type\":\"scatterpolargl\"}],\"scatterternary\":[{\"marker\":{\"colorbar\":{\"outlinewidth\":0,\"ticks\":\"\"}},\"type\":\"scatterternary\"}],\"surface\":[{\"colorbar\":{\"outlinewidth\":0,\"ticks\":\"\"},\"colorscale\":[[0.0,\"#0d0887\"],[0.1111111111111111,\"#46039f\"],[0.2222222222222222,\"#7201a8\"],[0.3333333333333333,\"#9c179e\"],[0.4444444444444444,\"#bd3786\"],[0.5555555555555556,\"#d8576b\"],[0.6666666666666666,\"#ed7953\"],[0.7777777777777778,\"#fb9f3a\"],[0.8888888888888888,\"#fdca26\"],[1.0,\"#f0f921\"]],\"type\":\"surface\"}],\"table\":[{\"cells\":{\"fill\":{\"color\":\"#EBF0F8\"},\"line\":{\"color\":\"white\"}},\"header\":{\"fill\":{\"color\":\"#C8D4E3\"},\"line\":{\"color\":\"white\"}},\"type\":\"table\"}]},\"layout\":{\"annotationdefaults\":{\"arrowcolor\":\"#2a3f5f\",\"arrowhead\":0,\"arrowwidth\":1},\"autotypenumbers\":\"strict\",\"coloraxis\":{\"colorbar\":{\"outlinewidth\":0,\"ticks\":\"\"}},\"colorscale\":{\"diverging\":[[0,\"#8e0152\"],[0.1,\"#c51b7d\"],[0.2,\"#de77ae\"],[0.3,\"#f1b6da\"],[0.4,\"#fde0ef\"],[0.5,\"#f7f7f7\"],[0.6,\"#e6f5d0\"],[0.7,\"#b8e186\"],[0.8,\"#7fbc41\"],[0.9,\"#4d9221\"],[1,\"#276419\"]],\"sequential\":[[0.0,\"#0d0887\"],[0.1111111111111111,\"#46039f\"],[0.2222222222222222,\"#7201a8\"],[0.3333333333333333,\"#9c179e\"],[0.4444444444444444,\"#bd3786\"],[0.5555555555555556,\"#d8576b\"],[0.6666666666666666,\"#ed7953\"],[0.7777777777777778,\"#fb9f3a\"],[0.8888888888888888,\"#fdca26\"],[1.0,\"#f0f921\"]],\"sequentialminus\":[[0.0,\"#0d0887\"],[0.1111111111111111,\"#46039f\"],[0.2222222222222222,\"#7201a8\"],[0.3333333333333333,\"#9c179e\"],[0.4444444444444444,\"#bd3786\"],[0.5555555555555556,\"#d8576b\"],[0.6666666666666666,\"#ed7953\"],[0.7777777777777778,\"#fb9f3a\"],[0.8888888888888888,\"#fdca26\"],[1.0,\"#f0f921\"]]},\"colorway\":[\"#636efa\",\"#EF553B\",\"#00cc96\",\"#ab63fa\",\"#FFA15A\",\"#19d3f3\",\"#FF6692\",\"#B6E880\",\"#FF97FF\",\"#FECB52\"],\"font\":{\"color\":\"#2a3f5f\"},\"geo\":{\"bgcolor\":\"white\",\"lakecolor\":\"white\",\"landcolor\":\"#E5ECF6\",\"showlakes\":true,\"showland\":true,\"subunitcolor\":\"white\"},\"hoverlabel\":{\"align\":\"left\"},\"hovermode\":\"closest\",\"mapbox\":{\"style\":\"light\"},\"paper_bgcolor\":\"white\",\"plot_bgcolor\":\"#E5ECF6\",\"polar\":{\"angularaxis\":{\"gridcolor\":\"white\",\"linecolor\":\"white\",\"ticks\":\"\"},\"bgcolor\":\"#E5ECF6\",\"radialaxis\":{\"gridcolor\":\"white\",\"linecolor\":\"white\",\"ticks\":\"\"}},\"scene\":{\"xaxis\":{\"backgroundcolor\":\"#E5ECF6\",\"gridcolor\":\"white\",\"gridwidth\":2,\"linecolor\":\"white\",\"showbackground\":true,\"ticks\":\"\",\"zerolinecolor\":\"white\"},\"yaxis\":{\"backgroundcolor\":\"#E5ECF6\",\"gridcolor\":\"white\",\"gridwidth\":2,\"linecolor\":\"white\",\"showbackground\":true,\"ticks\":\"\",\"zerolinecolor\":\"white\"},\"zaxis\":{\"backgroundcolor\":\"#E5ECF6\",\"gridcolor\":\"white\",\"gridwidth\":2,\"linecolor\":\"white\",\"showbackground\":true,\"ticks\":\"\",\"zerolinecolor\":\"white\"}},\"shapedefaults\":{\"line\":{\"color\":\"#2a3f5f\"}},\"ternary\":{\"aaxis\":{\"gridcolor\":\"white\",\"linecolor\":\"white\",\"ticks\":\"\"},\"baxis\":{\"gridcolor\":\"white\",\"linecolor\":\"white\",\"ticks\":\"\"},\"bgcolor\":\"#E5ECF6\",\"caxis\":{\"gridcolor\":\"white\",\"linecolor\":\"white\",\"ticks\":\"\"}},\"title\":{\"x\":0.05},\"xaxis\":{\"automargin\":true,\"gridcolor\":\"white\",\"linecolor\":\"white\",\"ticks\":\"\",\"title\":{\"standoff\":15},\"zerolinecolor\":\"white\",\"zerolinewidth\":2},\"yaxis\":{\"automargin\":true,\"gridcolor\":\"white\",\"linecolor\":\"white\",\"ticks\":\"\",\"title\":{\"standoff\":15},\"zerolinecolor\":\"white\",\"zerolinewidth\":2}}},\"title\":{\"font\":{\"size\":25},\"text\":\"Cat\\u00e9gorie A\",\"x\":0.5,\"xanchor\":\"center\"},\"xaxis\":{\"tickmode\":\"linear\",\"dtick\":12},\"font\":{\"family\":\"Arial\",\"size\":22,\"color\":\"Black\"}},                        {\"responsive\": true}                    ).then(function(){\n",
       "                            \n",
       "var gd = document.getElementById('6344b6e8-9b2b-4487-8597-7a55eee2ce2a');\n",
       "var x = new MutationObserver(function (mutations, observer) {{\n",
       "        var display = window.getComputedStyle(gd).display;\n",
       "        if (!display || display === 'none') {{\n",
       "            console.log([gd, 'removed!']);\n",
       "            Plotly.purge(gd);\n",
       "            observer.disconnect();\n",
       "        }}\n",
       "}});\n",
       "\n",
       "// Listen for the removal of the full notebook cells\n",
       "var notebookContainer = gd.closest('#notebook-container');\n",
       "if (notebookContainer) {{\n",
       "    x.observe(notebookContainer, {childList: true});\n",
       "}}\n",
       "\n",
       "// Listen for the clearing of the current output cell\n",
       "var outputEl = gd.closest('.output');\n",
       "if (outputEl) {{\n",
       "    x.observe(outputEl, {childList: true});\n",
       "}}\n",
       "\n",
       "                        })                };                });            </script>        </div>"
      ]
     },
     "metadata": {},
     "output_type": "display_data"
    }
   ],
   "source": [
    "plot_fig('A')"
   ]
  },
  {
   "cell_type": "code",
   "execution_count": 108,
   "id": "f8145331",
   "metadata": {},
   "outputs": [
    {
     "data": {
      "application/vnd.plotly.v1+json": {
       "config": {
        "plotlyServerURL": "https://plot.ly"
       },
       "data": [
        {
         "mode": "markers+lines",
         "name": "Chirac",
         "type": "scatter",
         "x": [
          "Janvier 1996",
          "Février 1996",
          "Mars 1996",
          "Avril 1996",
          "Mai 1996",
          "Juin 1996",
          "Juillet 1996",
          "Août 1996",
          "Septembre 1996",
          "Octobre 1996",
          "Novembre 1996",
          "Décembre 1996",
          "Janvier 1997",
          "Février 1997",
          "Mars 1997",
          "Avril 1997",
          "Mai 1997",
          "Juin 1997",
          "Juillet 1997",
          "Août 1997",
          "Septembre 1997",
          "Octobre 1997",
          "Novembre 1997",
          "Décembre 1997",
          "Janvier 1998",
          "Février 1998",
          "Mars 1998",
          "Avril 1998",
          "Mai 1998",
          "Juin 1998",
          "Juillet 1998",
          "Août 1998",
          "Septembre 1998",
          "Octobre 1998",
          "Novembre 1998",
          "Décembre 1998",
          "Janvier 1999",
          "Février 1999",
          "Mars 1999",
          "Avril 1999",
          "Mai 1999",
          "Juin 1999",
          "Juillet 1999",
          "Août 1999",
          "Septembre 1999",
          "Octobre 1999",
          "Novembre 1999",
          "Décembre 1999",
          "Janvier 2000",
          "Février 2000",
          "Mars 2000",
          "Avril 2000",
          "Mai 2000",
          "Juin 2000",
          "Juillet 2000",
          "Août 2000",
          "Septembre 2000",
          "Octobre 2000",
          "Novembre 2000",
          "Décembre 2000",
          "Janvier 2001",
          "Février 2001",
          "Mars 2001",
          "Avril 2001",
          "Mai 2001",
          "Juin 2001",
          "Juillet 2001",
          "Août 2001",
          "Septembre 2001",
          "Octobre 2001",
          "Novembre 2001",
          "Décembre 2001",
          "Janvier 2002",
          "Février 2002",
          "Mars 2002",
          "Avril 2002"
         ],
         "y": [
          291730,
          296110,
          302300,
          301670,
          295600,
          306460,
          269060,
          276250,
          339240,
          343210,
          339320,
          341450,
          342540,
          348160,
          348800,
          345600,
          348370,
          343630,
          304690,
          317480,
          374200,
          373000,
          377770,
          366520,
          372830,
          383010,
          373330,
          378370,
          375280,
          353720,
          320310,
          330720,
          394090,
          396600,
          388150,
          394380,
          407490,
          411820,
          396730,
          411950,
          406370,
          385430,
          353630,
          355720,
          423070,
          417200,
          404060,
          399570,
          410920,
          402560,
          387820,
          400970,
          364880,
          370880,
          338890,
          359500,
          407380,
          393230,
          395750,
          397970,
          400310,
          406920,
          396000,
          411100,
          387330,
          380560,
          343810,
          364940,
          414490,
          402140,
          408940,
          420110,
          419680,
          433070,
          422870,
          422960
         ]
        },
        {
         "mode": "markers+lines",
         "name": "Chirac 2",
         "type": "scatter",
         "x": [
          "Mai 2002",
          "Juin 2002",
          "Juillet 2002",
          "Août 2002",
          "Septembre 2002",
          "Octobre 2002",
          "Novembre 2002",
          "Décembre 2002",
          "Janvier 2003",
          "Février 2003",
          "Mars 2003",
          "Avril 2003",
          "Mai 2003",
          "Juin 2003",
          "Juillet 2003",
          "Août 2003",
          "Septembre 2003",
          "Octobre 2003",
          "Novembre 2003",
          "Décembre 2003",
          "Janvier 2004",
          "Février 2004",
          "Mars 2004",
          "Avril 2004",
          "Mai 2004",
          "Juin 2004",
          "Juillet 2004",
          "Août 2004",
          "Septembre 2004",
          "Octobre 2004",
          "Novembre 2004",
          "Décembre 2004",
          "Janvier 2005",
          "Février 2005",
          "Mars 2005",
          "Avril 2005",
          "Mai 2005",
          "Juin 2005",
          "Juillet 2005",
          "Août 2005",
          "Septembre 2005",
          "Octobre 2005",
          "Novembre 2005",
          "Décembre 2005",
          "Janvier 2006",
          "Février 2006",
          "Mars 2006",
          "Avril 2006",
          "Mai 2006",
          "Juin 2006",
          "Juillet 2006",
          "Août 2006",
          "Septembre 2006",
          "Octobre 2006",
          "Novembre 2006",
          "Décembre 2006",
          "Janvier 2007",
          "Février 2007",
          "Mars 2007",
          "Avril 2007"
         ],
         "y": [
          416330,
          404170,
          364840,
          394460,
          440890,
          431140,
          437350,
          439610,
          441640,
          451330,
          448470,
          447250,
          440720,
          431530,
          392210,
          429240,
          464530,
          468850,
          478830,
          477990,
          466450,
          473360,
          458800,
          483600,
          480780,
          467630,
          438040,
          454690,
          505900,
          512530,
          503860,
          510710,
          516660,
          529350,
          513210,
          527090,
          514230,
          494570,
          474540,
          482730,
          540300,
          533570,
          520010,
          527090,
          520990,
          536700,
          513150,
          534770,
          505890,
          490880,
          465470,
          471310,
          522210,
          517900,
          516340,
          520200,
          506230,
          512640,
          487360,
          497290
         ]
        },
        {
         "mode": "markers+lines",
         "name": "Sarkozy",
         "type": "scatter",
         "x": [
          "Mai 2007",
          "Juin 2007",
          "Juillet 2007",
          "Août 2007",
          "Septembre 2007",
          "Octobre 2007",
          "Novembre 2007",
          "Décembre 2007",
          "Janvier 2008",
          "Février 2008",
          "Mars 2008",
          "Avril 2008",
          "Mai 2008",
          "Juin 2008",
          "Juillet 2008",
          "Août 2008",
          "Septembre 2008",
          "Octobre 2008",
          "Novembre 2008",
          "Décembre 2008",
          "Janvier 2009",
          "Février 2009",
          "Mars 2009",
          "Avril 2009",
          "Mai 2009",
          "Juin 2009",
          "Juillet 2009",
          "Août 2009",
          "Septembre 2009",
          "Octobre 2009",
          "Novembre 2009",
          "Décembre 2009",
          "Janvier 2010",
          "Février 2010",
          "Mars 2010",
          "Avril 2010",
          "Mai 2010",
          "Juin 2010",
          "Juillet 2010",
          "Août 2010",
          "Septembre 2010",
          "Octobre 2010",
          "Novembre 2010",
          "Décembre 2010",
          "Janvier 2011",
          "Février 2011",
          "Mars 2011",
          "Avril 2011",
          "Mai 2011",
          "Juin 2011",
          "Juillet 2011",
          "Août 2011",
          "Septembre 2011",
          "Octobre 2011",
          "Novembre 2011",
          "Décembre 2011",
          "Janvier 2012",
          "Février 2012",
          "Mars 2012",
          "Avril 2012"
         ],
         "y": [
          466240,
          452130,
          427090,
          454550,
          485830,
          470330,
          474000,
          480260,
          476080,
          482570,
          470070,
          470440,
          462220,
          447370,
          425060,
          450320,
          483790,
          490390,
          489530,
          486210,
          490360,
          495920,
          490970,
          522510,
          514950,
          483240,
          457370,
          477750,
          539060,
          531880,
          533870,
          539930,
          539430,
          539440,
          524250,
          543670,
          529660,
          514140,
          492000,
          511510,
          568600,
          562120,
          550090,
          562960,
          562000,
          561710,
          551810,
          576270,
          547440,
          546700,
          517300,
          548890,
          593400,
          585360,
          574680,
          591300,
          577270,
          595090,
          581820,
          608100
         ]
        },
        {
         "mode": "markers+lines",
         "name": "Hollande",
         "type": "scatter",
         "x": [
          "Mai 2012",
          "Juin 2012",
          "Juillet 2012",
          "Août 2012",
          "Septembre 2012",
          "Octobre 2012",
          "Novembre 2012",
          "Décembre 2012",
          "Janvier 2013",
          "Février 2013",
          "Mars 2013",
          "Avril 2013",
          "Mai 2013",
          "Juin 2013",
          "Juillet 2013",
          "Août 2013",
          "Septembre 2013",
          "Octobre 2013",
          "Novembre 2013",
          "Décembre 2013",
          "Janvier 2014",
          "Février 2014",
          "Mars 2014",
          "Avril 2014",
          "Mai 2014",
          "Juin 2014",
          "Juillet 2014",
          "Août 2014",
          "Septembre 2014",
          "Octobre 2014",
          "Novembre 2014",
          "Décembre 2014",
          "Janvier 2015",
          "Février 2015",
          "Mars 2015",
          "Avril 2015",
          "Mai 2015",
          "Juin 2015",
          "Juillet 2015",
          "Août 2015",
          "Septembre 2015",
          "Octobre 2015",
          "Novembre 2015",
          "Décembre 2015",
          "Janvier 2016",
          "Février 2016",
          "Mars 2016",
          "Avril 2016",
          "Mai 2016",
          "Juin 2016",
          "Juillet 2016",
          "Août 2016",
          "Septembre 2016",
          "Octobre 2016",
          "Novembre 2016",
          "Décembre 2016",
          "Janvier 2017",
          "Février 2017",
          "Mars 2017",
          "Avril 2017"
         ],
         "y": [
          585580,
          583020,
          561430,
          587900,
          645930,
          630290,
          638120,
          652600,
          643610,
          657570,
          658490,
          662040,
          646480,
          626120,
          609470,
          622330,
          680540,
          688900,
          671580,
          679730,
          670290,
          675780,
          675640,
          688930,
          672620,
          657810,
          633420,
          661090,
          712930,
          706620,
          699730,
          707120,
          702190,
          715690,
          704870,
          730570,
          720900,
          691300,
          676960,
          701780,
          760670,
          745540,
          738780,
          746360,
          737520,
          733550,
          739590,
          754370,
          727850,
          709890,
          707620,
          719600,
          785300,
          767570,
          751030,
          747730,
          732310,
          759390,
          723190,
          775320
         ]
        },
        {
         "mode": "markers+lines",
         "name": "Macron",
         "type": "scatter",
         "x": [
          "Mai 2017",
          "Juin 2017",
          "Juillet 2017",
          "Août 2017",
          "Septembre 2017",
          "Octobre 2017",
          "Novembre 2017",
          "Décembre 2017",
          "Janvier 2018",
          "Février 2018",
          "Mars 2018",
          "Avril 2018",
          "Mai 2018",
          "Juin 2018",
          "Juillet 2018",
          "Août 2018",
          "Septembre 2018",
          "Octobre 2018",
          "Novembre 2018",
          "Décembre 2018",
          "Janvier 2019",
          "Février 2019",
          "Mars 2019",
          "Avril 2019",
          "Mai 2019",
          "Juin 2019",
          "Juillet 2019",
          "Août 2019",
          "Septembre 2019",
          "Octobre 2019",
          "Novembre 2019",
          "Décembre 2019",
          "Janvier 2020",
          "Février 2020",
          "Mars 2020",
          "Avril 2020",
          "Mai 2020",
          "Juin 2020",
          "Juillet 2020",
          "Août 2020",
          "Septembre 2020",
          "Octobre 2020",
          "Novembre 2020",
          "Décembre 2020",
          "Janvier 2021",
          "Février 2021",
          "Mars 2021",
          "Avril 2021",
          "Mai 2021",
          "Juin 2021",
          "Juillet 2021",
          "Août 2021",
          "Septembre 2021",
          "Octobre 2021",
          "Novembre 2021",
          "Décembre 2021",
          "Janvier 2022",
          "Février 2022"
         ],
         "y": [
          730550,
          720840,
          728870,
          759370,
          813980,
          778170,
          779680,
          788010,
          781510,
          793600,
          773710,
          798710,
          773310,
          742110,
          746280,
          786260,
          831650,
          789490,
          779720,
          782070,
          777930,
          793460,
          780730,
          786320,
          746670,
          744140,
          724340,
          769420,
          802530,
          759880,
          745060,
          748360,
          734380,
          743930,
          914320,
          621580,
          678790,
          696960,
          688360,
          763730,
          775230,
          743890,
          740420,
          725200,
          738670,
          744220,
          734750,
          756230,
          766940,
          734490,
          733370,
          777170,
          790700,
          751910,
          744580,
          729500,
          769270,
          768960
         ]
        }
       ],
       "layout": {
        "font": {
         "color": "Black",
         "family": "Arial",
         "size": 18
        },
        "template": {
         "data": {
          "bar": [
           {
            "error_x": {
             "color": "#2a3f5f"
            },
            "error_y": {
             "color": "#2a3f5f"
            },
            "marker": {
             "line": {
              "color": "#E5ECF6",
              "width": 0.5
             },
             "pattern": {
              "fillmode": "overlay",
              "size": 10,
              "solidity": 0.2
             }
            },
            "type": "bar"
           }
          ],
          "barpolar": [
           {
            "marker": {
             "line": {
              "color": "#E5ECF6",
              "width": 0.5
             },
             "pattern": {
              "fillmode": "overlay",
              "size": 10,
              "solidity": 0.2
             }
            },
            "type": "barpolar"
           }
          ],
          "carpet": [
           {
            "aaxis": {
             "endlinecolor": "#2a3f5f",
             "gridcolor": "white",
             "linecolor": "white",
             "minorgridcolor": "white",
             "startlinecolor": "#2a3f5f"
            },
            "baxis": {
             "endlinecolor": "#2a3f5f",
             "gridcolor": "white",
             "linecolor": "white",
             "minorgridcolor": "white",
             "startlinecolor": "#2a3f5f"
            },
            "type": "carpet"
           }
          ],
          "choropleth": [
           {
            "colorbar": {
             "outlinewidth": 0,
             "ticks": ""
            },
            "type": "choropleth"
           }
          ],
          "contour": [
           {
            "colorbar": {
             "outlinewidth": 0,
             "ticks": ""
            },
            "colorscale": [
             [
              0,
              "#0d0887"
             ],
             [
              0.1111111111111111,
              "#46039f"
             ],
             [
              0.2222222222222222,
              "#7201a8"
             ],
             [
              0.3333333333333333,
              "#9c179e"
             ],
             [
              0.4444444444444444,
              "#bd3786"
             ],
             [
              0.5555555555555556,
              "#d8576b"
             ],
             [
              0.6666666666666666,
              "#ed7953"
             ],
             [
              0.7777777777777778,
              "#fb9f3a"
             ],
             [
              0.8888888888888888,
              "#fdca26"
             ],
             [
              1,
              "#f0f921"
             ]
            ],
            "type": "contour"
           }
          ],
          "contourcarpet": [
           {
            "colorbar": {
             "outlinewidth": 0,
             "ticks": ""
            },
            "type": "contourcarpet"
           }
          ],
          "heatmap": [
           {
            "colorbar": {
             "outlinewidth": 0,
             "ticks": ""
            },
            "colorscale": [
             [
              0,
              "#0d0887"
             ],
             [
              0.1111111111111111,
              "#46039f"
             ],
             [
              0.2222222222222222,
              "#7201a8"
             ],
             [
              0.3333333333333333,
              "#9c179e"
             ],
             [
              0.4444444444444444,
              "#bd3786"
             ],
             [
              0.5555555555555556,
              "#d8576b"
             ],
             [
              0.6666666666666666,
              "#ed7953"
             ],
             [
              0.7777777777777778,
              "#fb9f3a"
             ],
             [
              0.8888888888888888,
              "#fdca26"
             ],
             [
              1,
              "#f0f921"
             ]
            ],
            "type": "heatmap"
           }
          ],
          "heatmapgl": [
           {
            "colorbar": {
             "outlinewidth": 0,
             "ticks": ""
            },
            "colorscale": [
             [
              0,
              "#0d0887"
             ],
             [
              0.1111111111111111,
              "#46039f"
             ],
             [
              0.2222222222222222,
              "#7201a8"
             ],
             [
              0.3333333333333333,
              "#9c179e"
             ],
             [
              0.4444444444444444,
              "#bd3786"
             ],
             [
              0.5555555555555556,
              "#d8576b"
             ],
             [
              0.6666666666666666,
              "#ed7953"
             ],
             [
              0.7777777777777778,
              "#fb9f3a"
             ],
             [
              0.8888888888888888,
              "#fdca26"
             ],
             [
              1,
              "#f0f921"
             ]
            ],
            "type": "heatmapgl"
           }
          ],
          "histogram": [
           {
            "marker": {
             "pattern": {
              "fillmode": "overlay",
              "size": 10,
              "solidity": 0.2
             }
            },
            "type": "histogram"
           }
          ],
          "histogram2d": [
           {
            "colorbar": {
             "outlinewidth": 0,
             "ticks": ""
            },
            "colorscale": [
             [
              0,
              "#0d0887"
             ],
             [
              0.1111111111111111,
              "#46039f"
             ],
             [
              0.2222222222222222,
              "#7201a8"
             ],
             [
              0.3333333333333333,
              "#9c179e"
             ],
             [
              0.4444444444444444,
              "#bd3786"
             ],
             [
              0.5555555555555556,
              "#d8576b"
             ],
             [
              0.6666666666666666,
              "#ed7953"
             ],
             [
              0.7777777777777778,
              "#fb9f3a"
             ],
             [
              0.8888888888888888,
              "#fdca26"
             ],
             [
              1,
              "#f0f921"
             ]
            ],
            "type": "histogram2d"
           }
          ],
          "histogram2dcontour": [
           {
            "colorbar": {
             "outlinewidth": 0,
             "ticks": ""
            },
            "colorscale": [
             [
              0,
              "#0d0887"
             ],
             [
              0.1111111111111111,
              "#46039f"
             ],
             [
              0.2222222222222222,
              "#7201a8"
             ],
             [
              0.3333333333333333,
              "#9c179e"
             ],
             [
              0.4444444444444444,
              "#bd3786"
             ],
             [
              0.5555555555555556,
              "#d8576b"
             ],
             [
              0.6666666666666666,
              "#ed7953"
             ],
             [
              0.7777777777777778,
              "#fb9f3a"
             ],
             [
              0.8888888888888888,
              "#fdca26"
             ],
             [
              1,
              "#f0f921"
             ]
            ],
            "type": "histogram2dcontour"
           }
          ],
          "mesh3d": [
           {
            "colorbar": {
             "outlinewidth": 0,
             "ticks": ""
            },
            "type": "mesh3d"
           }
          ],
          "parcoords": [
           {
            "line": {
             "colorbar": {
              "outlinewidth": 0,
              "ticks": ""
             }
            },
            "type": "parcoords"
           }
          ],
          "pie": [
           {
            "automargin": true,
            "type": "pie"
           }
          ],
          "scatter": [
           {
            "marker": {
             "colorbar": {
              "outlinewidth": 0,
              "ticks": ""
             }
            },
            "type": "scatter"
           }
          ],
          "scatter3d": [
           {
            "line": {
             "colorbar": {
              "outlinewidth": 0,
              "ticks": ""
             }
            },
            "marker": {
             "colorbar": {
              "outlinewidth": 0,
              "ticks": ""
             }
            },
            "type": "scatter3d"
           }
          ],
          "scattercarpet": [
           {
            "marker": {
             "colorbar": {
              "outlinewidth": 0,
              "ticks": ""
             }
            },
            "type": "scattercarpet"
           }
          ],
          "scattergeo": [
           {
            "marker": {
             "colorbar": {
              "outlinewidth": 0,
              "ticks": ""
             }
            },
            "type": "scattergeo"
           }
          ],
          "scattergl": [
           {
            "marker": {
             "colorbar": {
              "outlinewidth": 0,
              "ticks": ""
             }
            },
            "type": "scattergl"
           }
          ],
          "scattermapbox": [
           {
            "marker": {
             "colorbar": {
              "outlinewidth": 0,
              "ticks": ""
             }
            },
            "type": "scattermapbox"
           }
          ],
          "scatterpolar": [
           {
            "marker": {
             "colorbar": {
              "outlinewidth": 0,
              "ticks": ""
             }
            },
            "type": "scatterpolar"
           }
          ],
          "scatterpolargl": [
           {
            "marker": {
             "colorbar": {
              "outlinewidth": 0,
              "ticks": ""
             }
            },
            "type": "scatterpolargl"
           }
          ],
          "scatterternary": [
           {
            "marker": {
             "colorbar": {
              "outlinewidth": 0,
              "ticks": ""
             }
            },
            "type": "scatterternary"
           }
          ],
          "surface": [
           {
            "colorbar": {
             "outlinewidth": 0,
             "ticks": ""
            },
            "colorscale": [
             [
              0,
              "#0d0887"
             ],
             [
              0.1111111111111111,
              "#46039f"
             ],
             [
              0.2222222222222222,
              "#7201a8"
             ],
             [
              0.3333333333333333,
              "#9c179e"
             ],
             [
              0.4444444444444444,
              "#bd3786"
             ],
             [
              0.5555555555555556,
              "#d8576b"
             ],
             [
              0.6666666666666666,
              "#ed7953"
             ],
             [
              0.7777777777777778,
              "#fb9f3a"
             ],
             [
              0.8888888888888888,
              "#fdca26"
             ],
             [
              1,
              "#f0f921"
             ]
            ],
            "type": "surface"
           }
          ],
          "table": [
           {
            "cells": {
             "fill": {
              "color": "#EBF0F8"
             },
             "line": {
              "color": "white"
             }
            },
            "header": {
             "fill": {
              "color": "#C8D4E3"
             },
             "line": {
              "color": "white"
             }
            },
            "type": "table"
           }
          ]
         },
         "layout": {
          "annotationdefaults": {
           "arrowcolor": "#2a3f5f",
           "arrowhead": 0,
           "arrowwidth": 1
          },
          "autotypenumbers": "strict",
          "coloraxis": {
           "colorbar": {
            "outlinewidth": 0,
            "ticks": ""
           }
          },
          "colorscale": {
           "diverging": [
            [
             0,
             "#8e0152"
            ],
            [
             0.1,
             "#c51b7d"
            ],
            [
             0.2,
             "#de77ae"
            ],
            [
             0.3,
             "#f1b6da"
            ],
            [
             0.4,
             "#fde0ef"
            ],
            [
             0.5,
             "#f7f7f7"
            ],
            [
             0.6,
             "#e6f5d0"
            ],
            [
             0.7,
             "#b8e186"
            ],
            [
             0.8,
             "#7fbc41"
            ],
            [
             0.9,
             "#4d9221"
            ],
            [
             1,
             "#276419"
            ]
           ],
           "sequential": [
            [
             0,
             "#0d0887"
            ],
            [
             0.1111111111111111,
             "#46039f"
            ],
            [
             0.2222222222222222,
             "#7201a8"
            ],
            [
             0.3333333333333333,
             "#9c179e"
            ],
            [
             0.4444444444444444,
             "#bd3786"
            ],
            [
             0.5555555555555556,
             "#d8576b"
            ],
            [
             0.6666666666666666,
             "#ed7953"
            ],
            [
             0.7777777777777778,
             "#fb9f3a"
            ],
            [
             0.8888888888888888,
             "#fdca26"
            ],
            [
             1,
             "#f0f921"
            ]
           ],
           "sequentialminus": [
            [
             0,
             "#0d0887"
            ],
            [
             0.1111111111111111,
             "#46039f"
            ],
            [
             0.2222222222222222,
             "#7201a8"
            ],
            [
             0.3333333333333333,
             "#9c179e"
            ],
            [
             0.4444444444444444,
             "#bd3786"
            ],
            [
             0.5555555555555556,
             "#d8576b"
            ],
            [
             0.6666666666666666,
             "#ed7953"
            ],
            [
             0.7777777777777778,
             "#fb9f3a"
            ],
            [
             0.8888888888888888,
             "#fdca26"
            ],
            [
             1,
             "#f0f921"
            ]
           ]
          },
          "colorway": [
           "#636efa",
           "#EF553B",
           "#00cc96",
           "#ab63fa",
           "#FFA15A",
           "#19d3f3",
           "#FF6692",
           "#B6E880",
           "#FF97FF",
           "#FECB52"
          ],
          "font": {
           "color": "#2a3f5f"
          },
          "geo": {
           "bgcolor": "white",
           "lakecolor": "white",
           "landcolor": "#E5ECF6",
           "showlakes": true,
           "showland": true,
           "subunitcolor": "white"
          },
          "hoverlabel": {
           "align": "left"
          },
          "hovermode": "closest",
          "mapbox": {
           "style": "light"
          },
          "paper_bgcolor": "white",
          "plot_bgcolor": "#E5ECF6",
          "polar": {
           "angularaxis": {
            "gridcolor": "white",
            "linecolor": "white",
            "ticks": ""
           },
           "bgcolor": "#E5ECF6",
           "radialaxis": {
            "gridcolor": "white",
            "linecolor": "white",
            "ticks": ""
           }
          },
          "scene": {
           "xaxis": {
            "backgroundcolor": "#E5ECF6",
            "gridcolor": "white",
            "gridwidth": 2,
            "linecolor": "white",
            "showbackground": true,
            "ticks": "",
            "zerolinecolor": "white"
           },
           "yaxis": {
            "backgroundcolor": "#E5ECF6",
            "gridcolor": "white",
            "gridwidth": 2,
            "linecolor": "white",
            "showbackground": true,
            "ticks": "",
            "zerolinecolor": "white"
           },
           "zaxis": {
            "backgroundcolor": "#E5ECF6",
            "gridcolor": "white",
            "gridwidth": 2,
            "linecolor": "white",
            "showbackground": true,
            "ticks": "",
            "zerolinecolor": "white"
           }
          },
          "shapedefaults": {
           "line": {
            "color": "#2a3f5f"
           }
          },
          "ternary": {
           "aaxis": {
            "gridcolor": "white",
            "linecolor": "white",
            "ticks": ""
           },
           "baxis": {
            "gridcolor": "white",
            "linecolor": "white",
            "ticks": ""
           },
           "bgcolor": "#E5ECF6",
           "caxis": {
            "gridcolor": "white",
            "linecolor": "white",
            "ticks": ""
           }
          },
          "title": {
           "x": 0.05
          },
          "xaxis": {
           "automargin": true,
           "gridcolor": "white",
           "linecolor": "white",
           "ticks": "",
           "title": {
            "standoff": 15
           },
           "zerolinecolor": "white",
           "zerolinewidth": 2
          },
          "yaxis": {
           "automargin": true,
           "gridcolor": "white",
           "linecolor": "white",
           "ticks": "",
           "title": {
            "standoff": 15
           },
           "zerolinecolor": "white",
           "zerolinewidth": 2
          }
         }
        },
        "title": {
         "font": {
          "size": 25
         },
         "text": "Catégorie B",
         "x": 0.5,
         "xanchor": "center"
        },
        "xaxis": {
         "dtick": 12,
         "tickmode": "linear"
        }
       }
      },
      "text/html": [
       "<div>                            <div id=\"8048bc40-1d4c-4033-893c-393c814c8727\" class=\"plotly-graph-div\" style=\"height:525px; width:100%;\"></div>            <script type=\"text/javascript\">                require([\"plotly\"], function(Plotly) {                    window.PLOTLYENV=window.PLOTLYENV || {};                                    if (document.getElementById(\"8048bc40-1d4c-4033-893c-393c814c8727\")) {                    Plotly.newPlot(                        \"8048bc40-1d4c-4033-893c-393c814c8727\",                        [{\"mode\":\"markers+lines\",\"name\":\"Chirac\",\"x\":[\"Janvier 1996\",\"F\\u00e9vrier 1996\",\"Mars 1996\",\"Avril 1996\",\"Mai 1996\",\"Juin 1996\",\"Juillet 1996\",\"Ao\\u00fbt 1996\",\"Septembre 1996\",\"Octobre 1996\",\"Novembre 1996\",\"D\\u00e9cembre 1996\",\"Janvier 1997\",\"F\\u00e9vrier 1997\",\"Mars 1997\",\"Avril 1997\",\"Mai 1997\",\"Juin 1997\",\"Juillet 1997\",\"Ao\\u00fbt 1997\",\"Septembre 1997\",\"Octobre 1997\",\"Novembre 1997\",\"D\\u00e9cembre 1997\",\"Janvier 1998\",\"F\\u00e9vrier 1998\",\"Mars 1998\",\"Avril 1998\",\"Mai 1998\",\"Juin 1998\",\"Juillet 1998\",\"Ao\\u00fbt 1998\",\"Septembre 1998\",\"Octobre 1998\",\"Novembre 1998\",\"D\\u00e9cembre 1998\",\"Janvier 1999\",\"F\\u00e9vrier 1999\",\"Mars 1999\",\"Avril 1999\",\"Mai 1999\",\"Juin 1999\",\"Juillet 1999\",\"Ao\\u00fbt 1999\",\"Septembre 1999\",\"Octobre 1999\",\"Novembre 1999\",\"D\\u00e9cembre 1999\",\"Janvier 2000\",\"F\\u00e9vrier 2000\",\"Mars 2000\",\"Avril 2000\",\"Mai 2000\",\"Juin 2000\",\"Juillet 2000\",\"Ao\\u00fbt 2000\",\"Septembre 2000\",\"Octobre 2000\",\"Novembre 2000\",\"D\\u00e9cembre 2000\",\"Janvier 2001\",\"F\\u00e9vrier 2001\",\"Mars 2001\",\"Avril 2001\",\"Mai 2001\",\"Juin 2001\",\"Juillet 2001\",\"Ao\\u00fbt 2001\",\"Septembre 2001\",\"Octobre 2001\",\"Novembre 2001\",\"D\\u00e9cembre 2001\",\"Janvier 2002\",\"F\\u00e9vrier 2002\",\"Mars 2002\",\"Avril 2002\"],\"y\":[291730.0,296110.0,302300.0,301670.0,295600.0,306460.0,269060.0,276250.0,339240.0,343210.0,339320.0,341450.0,342540.0,348160.0,348800.0,345600.0,348370.0,343630.0,304690.0,317480.0,374200.0,373000.0,377770.0,366520.0,372830.0,383010.0,373330.0,378370.0,375280.0,353720.0,320310.0,330720.0,394090.0,396600.0,388150.0,394380.0,407490.0,411820.0,396730.0,411950.0,406370.0,385430.0,353630.0,355720.0,423070.0,417200.0,404060.0,399570.0,410920.0,402560.0,387820.0,400970.0,364880.0,370880.0,338890.0,359500.0,407380.0,393230.0,395750.0,397970.0,400310.0,406920.0,396000.0,411100.0,387330.0,380560.0,343810.0,364940.0,414490.0,402140.0,408940.0,420110.0,419680.0,433070.0,422870.0,422960.0],\"type\":\"scatter\"},{\"mode\":\"markers+lines\",\"name\":\"Chirac 2\",\"x\":[\"Mai 2002\",\"Juin 2002\",\"Juillet 2002\",\"Ao\\u00fbt 2002\",\"Septembre 2002\",\"Octobre 2002\",\"Novembre 2002\",\"D\\u00e9cembre 2002\",\"Janvier 2003\",\"F\\u00e9vrier 2003\",\"Mars 2003\",\"Avril 2003\",\"Mai 2003\",\"Juin 2003\",\"Juillet 2003\",\"Ao\\u00fbt 2003\",\"Septembre 2003\",\"Octobre 2003\",\"Novembre 2003\",\"D\\u00e9cembre 2003\",\"Janvier 2004\",\"F\\u00e9vrier 2004\",\"Mars 2004\",\"Avril 2004\",\"Mai 2004\",\"Juin 2004\",\"Juillet 2004\",\"Ao\\u00fbt 2004\",\"Septembre 2004\",\"Octobre 2004\",\"Novembre 2004\",\"D\\u00e9cembre 2004\",\"Janvier 2005\",\"F\\u00e9vrier 2005\",\"Mars 2005\",\"Avril 2005\",\"Mai 2005\",\"Juin 2005\",\"Juillet 2005\",\"Ao\\u00fbt 2005\",\"Septembre 2005\",\"Octobre 2005\",\"Novembre 2005\",\"D\\u00e9cembre 2005\",\"Janvier 2006\",\"F\\u00e9vrier 2006\",\"Mars 2006\",\"Avril 2006\",\"Mai 2006\",\"Juin 2006\",\"Juillet 2006\",\"Ao\\u00fbt 2006\",\"Septembre 2006\",\"Octobre 2006\",\"Novembre 2006\",\"D\\u00e9cembre 2006\",\"Janvier 2007\",\"F\\u00e9vrier 2007\",\"Mars 2007\",\"Avril 2007\"],\"y\":[416330.0,404170.0,364840.0,394460.0,440890.0,431140.0,437350.0,439610.0,441640.0,451330.0,448470.0,447250.0,440720.0,431530.0,392210.0,429240.0,464530.0,468850.0,478830.0,477990.0,466450.0,473360.0,458800.0,483600.0,480780.0,467630.0,438040.0,454690.0,505900.0,512530.0,503860.0,510710.0,516660.0,529350.0,513210.0,527090.0,514230.0,494570.0,474540.0,482730.0,540300.0,533570.0,520010.0,527090.0,520990.0,536700.0,513150.0,534770.0,505890.0,490880.0,465470.0,471310.0,522210.0,517900.0,516340.0,520200.0,506230.0,512640.0,487360.0,497290.0],\"type\":\"scatter\"},{\"mode\":\"markers+lines\",\"name\":\"Sarkozy\",\"x\":[\"Mai 2007\",\"Juin 2007\",\"Juillet 2007\",\"Ao\\u00fbt 2007\",\"Septembre 2007\",\"Octobre 2007\",\"Novembre 2007\",\"D\\u00e9cembre 2007\",\"Janvier 2008\",\"F\\u00e9vrier 2008\",\"Mars 2008\",\"Avril 2008\",\"Mai 2008\",\"Juin 2008\",\"Juillet 2008\",\"Ao\\u00fbt 2008\",\"Septembre 2008\",\"Octobre 2008\",\"Novembre 2008\",\"D\\u00e9cembre 2008\",\"Janvier 2009\",\"F\\u00e9vrier 2009\",\"Mars 2009\",\"Avril 2009\",\"Mai 2009\",\"Juin 2009\",\"Juillet 2009\",\"Ao\\u00fbt 2009\",\"Septembre 2009\",\"Octobre 2009\",\"Novembre 2009\",\"D\\u00e9cembre 2009\",\"Janvier 2010\",\"F\\u00e9vrier 2010\",\"Mars 2010\",\"Avril 2010\",\"Mai 2010\",\"Juin 2010\",\"Juillet 2010\",\"Ao\\u00fbt 2010\",\"Septembre 2010\",\"Octobre 2010\",\"Novembre 2010\",\"D\\u00e9cembre 2010\",\"Janvier 2011\",\"F\\u00e9vrier 2011\",\"Mars 2011\",\"Avril 2011\",\"Mai 2011\",\"Juin 2011\",\"Juillet 2011\",\"Ao\\u00fbt 2011\",\"Septembre 2011\",\"Octobre 2011\",\"Novembre 2011\",\"D\\u00e9cembre 2011\",\"Janvier 2012\",\"F\\u00e9vrier 2012\",\"Mars 2012\",\"Avril 2012\"],\"y\":[466240.0,452130.0,427090.0,454550.0,485830.0,470330.0,474000.0,480260.0,476080.0,482570.0,470070.0,470440.0,462220.0,447370.0,425060.0,450320.0,483790.0,490390.0,489530.0,486210.0,490360.0,495920.0,490970.0,522510.0,514950.0,483240.0,457370.0,477750.0,539060.0,531880.0,533870.0,539930.0,539430.0,539440.0,524250.0,543670.0,529660.0,514140.0,492000.0,511510.0,568600.0,562120.0,550090.0,562960.0,562000.0,561710.0,551810.0,576270.0,547440.0,546700.0,517300.0,548890.0,593400.0,585360.0,574680.0,591300.0,577270.0,595090.0,581820.0,608100.0],\"type\":\"scatter\"},{\"mode\":\"markers+lines\",\"name\":\"Hollande\",\"x\":[\"Mai 2012\",\"Juin 2012\",\"Juillet 2012\",\"Ao\\u00fbt 2012\",\"Septembre 2012\",\"Octobre 2012\",\"Novembre 2012\",\"D\\u00e9cembre 2012\",\"Janvier 2013\",\"F\\u00e9vrier 2013\",\"Mars 2013\",\"Avril 2013\",\"Mai 2013\",\"Juin 2013\",\"Juillet 2013\",\"Ao\\u00fbt 2013\",\"Septembre 2013\",\"Octobre 2013\",\"Novembre 2013\",\"D\\u00e9cembre 2013\",\"Janvier 2014\",\"F\\u00e9vrier 2014\",\"Mars 2014\",\"Avril 2014\",\"Mai 2014\",\"Juin 2014\",\"Juillet 2014\",\"Ao\\u00fbt 2014\",\"Septembre 2014\",\"Octobre 2014\",\"Novembre 2014\",\"D\\u00e9cembre 2014\",\"Janvier 2015\",\"F\\u00e9vrier 2015\",\"Mars 2015\",\"Avril 2015\",\"Mai 2015\",\"Juin 2015\",\"Juillet 2015\",\"Ao\\u00fbt 2015\",\"Septembre 2015\",\"Octobre 2015\",\"Novembre 2015\",\"D\\u00e9cembre 2015\",\"Janvier 2016\",\"F\\u00e9vrier 2016\",\"Mars 2016\",\"Avril 2016\",\"Mai 2016\",\"Juin 2016\",\"Juillet 2016\",\"Ao\\u00fbt 2016\",\"Septembre 2016\",\"Octobre 2016\",\"Novembre 2016\",\"D\\u00e9cembre 2016\",\"Janvier 2017\",\"F\\u00e9vrier 2017\",\"Mars 2017\",\"Avril 2017\"],\"y\":[585580.0,583020.0,561430.0,587900.0,645930.0,630290.0,638120.0,652600.0,643610.0,657570.0,658490.0,662040.0,646480.0,626120.0,609470.0,622330.0,680540.0,688900.0,671580.0,679730.0,670290.0,675780.0,675640.0,688930.0,672620.0,657810.0,633420.0,661090.0,712930.0,706620.0,699730.0,707120.0,702190.0,715690.0,704870.0,730570.0,720900.0,691300.0,676960.0,701780.0,760670.0,745540.0,738780.0,746360.0,737520.0,733550.0,739590.0,754370.0,727850.0,709890.0,707620.0,719600.0,785300.0,767570.0,751030.0,747730.0,732310.0,759390.0,723190.0,775320.0],\"type\":\"scatter\"},{\"mode\":\"markers+lines\",\"name\":\"Macron\",\"x\":[\"Mai 2017\",\"Juin 2017\",\"Juillet 2017\",\"Ao\\u00fbt 2017\",\"Septembre 2017\",\"Octobre 2017\",\"Novembre 2017\",\"D\\u00e9cembre 2017\",\"Janvier 2018\",\"F\\u00e9vrier 2018\",\"Mars 2018\",\"Avril 2018\",\"Mai 2018\",\"Juin 2018\",\"Juillet 2018\",\"Ao\\u00fbt 2018\",\"Septembre 2018\",\"Octobre 2018\",\"Novembre 2018\",\"D\\u00e9cembre 2018\",\"Janvier 2019\",\"F\\u00e9vrier 2019\",\"Mars 2019\",\"Avril 2019\",\"Mai 2019\",\"Juin 2019\",\"Juillet 2019\",\"Ao\\u00fbt 2019\",\"Septembre 2019\",\"Octobre 2019\",\"Novembre 2019\",\"D\\u00e9cembre 2019\",\"Janvier 2020\",\"F\\u00e9vrier 2020\",\"Mars 2020\",\"Avril 2020\",\"Mai 2020\",\"Juin 2020\",\"Juillet 2020\",\"Ao\\u00fbt 2020\",\"Septembre 2020\",\"Octobre 2020\",\"Novembre 2020\",\"D\\u00e9cembre 2020\",\"Janvier 2021\",\"F\\u00e9vrier 2021\",\"Mars 2021\",\"Avril 2021\",\"Mai 2021\",\"Juin 2021\",\"Juillet 2021\",\"Ao\\u00fbt 2021\",\"Septembre 2021\",\"Octobre 2021\",\"Novembre 2021\",\"D\\u00e9cembre 2021\",\"Janvier 2022\",\"F\\u00e9vrier 2022\"],\"y\":[730550.0,720840.0,728870.0,759370.0,813980.0,778170.0,779680.0,788010.0,781510.0,793600.0,773710.0,798710.0,773310.0,742110.0,746280.0,786260.0,831650.0,789490.0,779720.0,782070.0,777930.0,793460.0,780730.0,786320.0,746670.0,744140.0,724340.0,769420.0,802530.0,759880.0,745060.0,748360.0,734380.0,743930.0,914320.0,621580.0,678790.0,696960.0,688360.0,763730.0,775230.0,743890.0,740420.0,725200.0,738670.0,744220.0,734750.0,756230.0,766940.0,734490.0,733370.0,777170.0,790700.0,751910.0,744580.0,729500.0,769270.0,768960.0],\"type\":\"scatter\"}],                        {\"template\":{\"data\":{\"bar\":[{\"error_x\":{\"color\":\"#2a3f5f\"},\"error_y\":{\"color\":\"#2a3f5f\"},\"marker\":{\"line\":{\"color\":\"#E5ECF6\",\"width\":0.5},\"pattern\":{\"fillmode\":\"overlay\",\"size\":10,\"solidity\":0.2}},\"type\":\"bar\"}],\"barpolar\":[{\"marker\":{\"line\":{\"color\":\"#E5ECF6\",\"width\":0.5},\"pattern\":{\"fillmode\":\"overlay\",\"size\":10,\"solidity\":0.2}},\"type\":\"barpolar\"}],\"carpet\":[{\"aaxis\":{\"endlinecolor\":\"#2a3f5f\",\"gridcolor\":\"white\",\"linecolor\":\"white\",\"minorgridcolor\":\"white\",\"startlinecolor\":\"#2a3f5f\"},\"baxis\":{\"endlinecolor\":\"#2a3f5f\",\"gridcolor\":\"white\",\"linecolor\":\"white\",\"minorgridcolor\":\"white\",\"startlinecolor\":\"#2a3f5f\"},\"type\":\"carpet\"}],\"choropleth\":[{\"colorbar\":{\"outlinewidth\":0,\"ticks\":\"\"},\"type\":\"choropleth\"}],\"contour\":[{\"colorbar\":{\"outlinewidth\":0,\"ticks\":\"\"},\"colorscale\":[[0.0,\"#0d0887\"],[0.1111111111111111,\"#46039f\"],[0.2222222222222222,\"#7201a8\"],[0.3333333333333333,\"#9c179e\"],[0.4444444444444444,\"#bd3786\"],[0.5555555555555556,\"#d8576b\"],[0.6666666666666666,\"#ed7953\"],[0.7777777777777778,\"#fb9f3a\"],[0.8888888888888888,\"#fdca26\"],[1.0,\"#f0f921\"]],\"type\":\"contour\"}],\"contourcarpet\":[{\"colorbar\":{\"outlinewidth\":0,\"ticks\":\"\"},\"type\":\"contourcarpet\"}],\"heatmap\":[{\"colorbar\":{\"outlinewidth\":0,\"ticks\":\"\"},\"colorscale\":[[0.0,\"#0d0887\"],[0.1111111111111111,\"#46039f\"],[0.2222222222222222,\"#7201a8\"],[0.3333333333333333,\"#9c179e\"],[0.4444444444444444,\"#bd3786\"],[0.5555555555555556,\"#d8576b\"],[0.6666666666666666,\"#ed7953\"],[0.7777777777777778,\"#fb9f3a\"],[0.8888888888888888,\"#fdca26\"],[1.0,\"#f0f921\"]],\"type\":\"heatmap\"}],\"heatmapgl\":[{\"colorbar\":{\"outlinewidth\":0,\"ticks\":\"\"},\"colorscale\":[[0.0,\"#0d0887\"],[0.1111111111111111,\"#46039f\"],[0.2222222222222222,\"#7201a8\"],[0.3333333333333333,\"#9c179e\"],[0.4444444444444444,\"#bd3786\"],[0.5555555555555556,\"#d8576b\"],[0.6666666666666666,\"#ed7953\"],[0.7777777777777778,\"#fb9f3a\"],[0.8888888888888888,\"#fdca26\"],[1.0,\"#f0f921\"]],\"type\":\"heatmapgl\"}],\"histogram\":[{\"marker\":{\"pattern\":{\"fillmode\":\"overlay\",\"size\":10,\"solidity\":0.2}},\"type\":\"histogram\"}],\"histogram2d\":[{\"colorbar\":{\"outlinewidth\":0,\"ticks\":\"\"},\"colorscale\":[[0.0,\"#0d0887\"],[0.1111111111111111,\"#46039f\"],[0.2222222222222222,\"#7201a8\"],[0.3333333333333333,\"#9c179e\"],[0.4444444444444444,\"#bd3786\"],[0.5555555555555556,\"#d8576b\"],[0.6666666666666666,\"#ed7953\"],[0.7777777777777778,\"#fb9f3a\"],[0.8888888888888888,\"#fdca26\"],[1.0,\"#f0f921\"]],\"type\":\"histogram2d\"}],\"histogram2dcontour\":[{\"colorbar\":{\"outlinewidth\":0,\"ticks\":\"\"},\"colorscale\":[[0.0,\"#0d0887\"],[0.1111111111111111,\"#46039f\"],[0.2222222222222222,\"#7201a8\"],[0.3333333333333333,\"#9c179e\"],[0.4444444444444444,\"#bd3786\"],[0.5555555555555556,\"#d8576b\"],[0.6666666666666666,\"#ed7953\"],[0.7777777777777778,\"#fb9f3a\"],[0.8888888888888888,\"#fdca26\"],[1.0,\"#f0f921\"]],\"type\":\"histogram2dcontour\"}],\"mesh3d\":[{\"colorbar\":{\"outlinewidth\":0,\"ticks\":\"\"},\"type\":\"mesh3d\"}],\"parcoords\":[{\"line\":{\"colorbar\":{\"outlinewidth\":0,\"ticks\":\"\"}},\"type\":\"parcoords\"}],\"pie\":[{\"automargin\":true,\"type\":\"pie\"}],\"scatter\":[{\"marker\":{\"colorbar\":{\"outlinewidth\":0,\"ticks\":\"\"}},\"type\":\"scatter\"}],\"scatter3d\":[{\"line\":{\"colorbar\":{\"outlinewidth\":0,\"ticks\":\"\"}},\"marker\":{\"colorbar\":{\"outlinewidth\":0,\"ticks\":\"\"}},\"type\":\"scatter3d\"}],\"scattercarpet\":[{\"marker\":{\"colorbar\":{\"outlinewidth\":0,\"ticks\":\"\"}},\"type\":\"scattercarpet\"}],\"scattergeo\":[{\"marker\":{\"colorbar\":{\"outlinewidth\":0,\"ticks\":\"\"}},\"type\":\"scattergeo\"}],\"scattergl\":[{\"marker\":{\"colorbar\":{\"outlinewidth\":0,\"ticks\":\"\"}},\"type\":\"scattergl\"}],\"scattermapbox\":[{\"marker\":{\"colorbar\":{\"outlinewidth\":0,\"ticks\":\"\"}},\"type\":\"scattermapbox\"}],\"scatterpolar\":[{\"marker\":{\"colorbar\":{\"outlinewidth\":0,\"ticks\":\"\"}},\"type\":\"scatterpolar\"}],\"scatterpolargl\":[{\"marker\":{\"colorbar\":{\"outlinewidth\":0,\"ticks\":\"\"}},\"type\":\"scatterpolargl\"}],\"scatterternary\":[{\"marker\":{\"colorbar\":{\"outlinewidth\":0,\"ticks\":\"\"}},\"type\":\"scatterternary\"}],\"surface\":[{\"colorbar\":{\"outlinewidth\":0,\"ticks\":\"\"},\"colorscale\":[[0.0,\"#0d0887\"],[0.1111111111111111,\"#46039f\"],[0.2222222222222222,\"#7201a8\"],[0.3333333333333333,\"#9c179e\"],[0.4444444444444444,\"#bd3786\"],[0.5555555555555556,\"#d8576b\"],[0.6666666666666666,\"#ed7953\"],[0.7777777777777778,\"#fb9f3a\"],[0.8888888888888888,\"#fdca26\"],[1.0,\"#f0f921\"]],\"type\":\"surface\"}],\"table\":[{\"cells\":{\"fill\":{\"color\":\"#EBF0F8\"},\"line\":{\"color\":\"white\"}},\"header\":{\"fill\":{\"color\":\"#C8D4E3\"},\"line\":{\"color\":\"white\"}},\"type\":\"table\"}]},\"layout\":{\"annotationdefaults\":{\"arrowcolor\":\"#2a3f5f\",\"arrowhead\":0,\"arrowwidth\":1},\"autotypenumbers\":\"strict\",\"coloraxis\":{\"colorbar\":{\"outlinewidth\":0,\"ticks\":\"\"}},\"colorscale\":{\"diverging\":[[0,\"#8e0152\"],[0.1,\"#c51b7d\"],[0.2,\"#de77ae\"],[0.3,\"#f1b6da\"],[0.4,\"#fde0ef\"],[0.5,\"#f7f7f7\"],[0.6,\"#e6f5d0\"],[0.7,\"#b8e186\"],[0.8,\"#7fbc41\"],[0.9,\"#4d9221\"],[1,\"#276419\"]],\"sequential\":[[0.0,\"#0d0887\"],[0.1111111111111111,\"#46039f\"],[0.2222222222222222,\"#7201a8\"],[0.3333333333333333,\"#9c179e\"],[0.4444444444444444,\"#bd3786\"],[0.5555555555555556,\"#d8576b\"],[0.6666666666666666,\"#ed7953\"],[0.7777777777777778,\"#fb9f3a\"],[0.8888888888888888,\"#fdca26\"],[1.0,\"#f0f921\"]],\"sequentialminus\":[[0.0,\"#0d0887\"],[0.1111111111111111,\"#46039f\"],[0.2222222222222222,\"#7201a8\"],[0.3333333333333333,\"#9c179e\"],[0.4444444444444444,\"#bd3786\"],[0.5555555555555556,\"#d8576b\"],[0.6666666666666666,\"#ed7953\"],[0.7777777777777778,\"#fb9f3a\"],[0.8888888888888888,\"#fdca26\"],[1.0,\"#f0f921\"]]},\"colorway\":[\"#636efa\",\"#EF553B\",\"#00cc96\",\"#ab63fa\",\"#FFA15A\",\"#19d3f3\",\"#FF6692\",\"#B6E880\",\"#FF97FF\",\"#FECB52\"],\"font\":{\"color\":\"#2a3f5f\"},\"geo\":{\"bgcolor\":\"white\",\"lakecolor\":\"white\",\"landcolor\":\"#E5ECF6\",\"showlakes\":true,\"showland\":true,\"subunitcolor\":\"white\"},\"hoverlabel\":{\"align\":\"left\"},\"hovermode\":\"closest\",\"mapbox\":{\"style\":\"light\"},\"paper_bgcolor\":\"white\",\"plot_bgcolor\":\"#E5ECF6\",\"polar\":{\"angularaxis\":{\"gridcolor\":\"white\",\"linecolor\":\"white\",\"ticks\":\"\"},\"bgcolor\":\"#E5ECF6\",\"radialaxis\":{\"gridcolor\":\"white\",\"linecolor\":\"white\",\"ticks\":\"\"}},\"scene\":{\"xaxis\":{\"backgroundcolor\":\"#E5ECF6\",\"gridcolor\":\"white\",\"gridwidth\":2,\"linecolor\":\"white\",\"showbackground\":true,\"ticks\":\"\",\"zerolinecolor\":\"white\"},\"yaxis\":{\"backgroundcolor\":\"#E5ECF6\",\"gridcolor\":\"white\",\"gridwidth\":2,\"linecolor\":\"white\",\"showbackground\":true,\"ticks\":\"\",\"zerolinecolor\":\"white\"},\"zaxis\":{\"backgroundcolor\":\"#E5ECF6\",\"gridcolor\":\"white\",\"gridwidth\":2,\"linecolor\":\"white\",\"showbackground\":true,\"ticks\":\"\",\"zerolinecolor\":\"white\"}},\"shapedefaults\":{\"line\":{\"color\":\"#2a3f5f\"}},\"ternary\":{\"aaxis\":{\"gridcolor\":\"white\",\"linecolor\":\"white\",\"ticks\":\"\"},\"baxis\":{\"gridcolor\":\"white\",\"linecolor\":\"white\",\"ticks\":\"\"},\"bgcolor\":\"#E5ECF6\",\"caxis\":{\"gridcolor\":\"white\",\"linecolor\":\"white\",\"ticks\":\"\"}},\"title\":{\"x\":0.05},\"xaxis\":{\"automargin\":true,\"gridcolor\":\"white\",\"linecolor\":\"white\",\"ticks\":\"\",\"title\":{\"standoff\":15},\"zerolinecolor\":\"white\",\"zerolinewidth\":2},\"yaxis\":{\"automargin\":true,\"gridcolor\":\"white\",\"linecolor\":\"white\",\"ticks\":\"\",\"title\":{\"standoff\":15},\"zerolinecolor\":\"white\",\"zerolinewidth\":2}}},\"title\":{\"font\":{\"size\":25},\"text\":\"Cat\\u00e9gorie B\",\"x\":0.5,\"xanchor\":\"center\"},\"xaxis\":{\"tickmode\":\"linear\",\"dtick\":12},\"font\":{\"family\":\"Arial\",\"size\":18,\"color\":\"Black\"}},                        {\"responsive\": true}                    ).then(function(){\n",
       "                            \n",
       "var gd = document.getElementById('8048bc40-1d4c-4033-893c-393c814c8727');\n",
       "var x = new MutationObserver(function (mutations, observer) {{\n",
       "        var display = window.getComputedStyle(gd).display;\n",
       "        if (!display || display === 'none') {{\n",
       "            console.log([gd, 'removed!']);\n",
       "            Plotly.purge(gd);\n",
       "            observer.disconnect();\n",
       "        }}\n",
       "}});\n",
       "\n",
       "// Listen for the removal of the full notebook cells\n",
       "var notebookContainer = gd.closest('#notebook-container');\n",
       "if (notebookContainer) {{\n",
       "    x.observe(notebookContainer, {childList: true});\n",
       "}}\n",
       "\n",
       "// Listen for the clearing of the current output cell\n",
       "var outputEl = gd.closest('.output');\n",
       "if (outputEl) {{\n",
       "    x.observe(outputEl, {childList: true});\n",
       "}}\n",
       "\n",
       "                        })                };                });            </script>        </div>"
      ]
     },
     "metadata": {},
     "output_type": "display_data"
    }
   ],
   "source": [
    "plot_fig('B')"
   ]
  },
  {
   "cell_type": "code",
   "execution_count": 109,
   "id": "0e0ea161",
   "metadata": {},
   "outputs": [
    {
     "data": {
      "application/vnd.plotly.v1+json": {
       "config": {
        "plotlyServerURL": "https://plot.ly"
       },
       "data": [
        {
         "mode": "markers+lines",
         "name": "Chirac",
         "type": "scatter",
         "x": [
          "Janvier 1996",
          "Février 1996",
          "Mars 1996",
          "Avril 1996",
          "Mai 1996",
          "Juin 1996",
          "Juillet 1996",
          "Août 1996",
          "Septembre 1996",
          "Octobre 1996",
          "Novembre 1996",
          "Décembre 1996",
          "Janvier 1997",
          "Février 1997",
          "Mars 1997",
          "Avril 1997",
          "Mai 1997",
          "Juin 1997",
          "Juillet 1997",
          "Août 1997",
          "Septembre 1997",
          "Octobre 1997",
          "Novembre 1997",
          "Décembre 1997",
          "Janvier 1998",
          "Février 1998",
          "Mars 1998",
          "Avril 1998",
          "Mai 1998",
          "Juin 1998",
          "Juillet 1998",
          "Août 1998",
          "Septembre 1998",
          "Octobre 1998",
          "Novembre 1998",
          "Décembre 1998",
          "Janvier 1999",
          "Février 1999",
          "Mars 1999",
          "Avril 1999",
          "Mai 1999",
          "Juin 1999",
          "Juillet 1999",
          "Août 1999",
          "Septembre 1999",
          "Octobre 1999",
          "Novembre 1999",
          "Décembre 1999",
          "Janvier 2000",
          "Février 2000",
          "Mars 2000",
          "Avril 2000",
          "Mai 2000",
          "Juin 2000",
          "Juillet 2000",
          "Août 2000",
          "Septembre 2000",
          "Octobre 2000",
          "Novembre 2000",
          "Décembre 2000",
          "Janvier 2001",
          "Février 2001",
          "Mars 2001",
          "Avril 2001",
          "Mai 2001",
          "Juin 2001",
          "Juillet 2001",
          "Août 2001",
          "Septembre 2001",
          "Octobre 2001",
          "Novembre 2001",
          "Décembre 2001",
          "Janvier 2002",
          "Février 2002",
          "Mars 2002",
          "Avril 2002"
         ],
         "y": [
          308510,
          321260,
          349280,
          371730,
          372870,
          385590,
          430500,
          396550,
          388830,
          411510,
          381950,
          413400,
          378070,
          395420,
          425810,
          471850,
          458120,
          490980,
          532360,
          480730,
          510090,
          526560,
          487940,
          548310,
          487130,
          507450,
          558740,
          584820,
          577040,
          596990,
          615720,
          545190,
          578150,
          587970,
          562270,
          606030,
          521640,
          543410,
          607330,
          623680,
          621990,
          659370,
          667620,
          597880,
          648370,
          643950,
          629430,
          667060,
          577550,
          599170,
          645150,
          620790,
          656730,
          650540,
          628430,
          562580,
          613040,
          630010,
          624260,
          619360,
          584680,
          585780,
          634660,
          633600,
          655790,
          642670,
          617930,
          542460,
          582030,
          606710,
          585610,
          582860,
          553530,
          545770,
          586510,
          610540
         ]
        },
        {
         "mode": "markers+lines",
         "name": "Chirac 2",
         "type": "scatter",
         "x": [
          "Mai 2002",
          "Juin 2002",
          "Juillet 2002",
          "Août 2002",
          "Septembre 2002",
          "Octobre 2002",
          "Novembre 2002",
          "Décembre 2002",
          "Janvier 2003",
          "Février 2003",
          "Mars 2003",
          "Avril 2003",
          "Mai 2003",
          "Juin 2003",
          "Juillet 2003",
          "Août 2003",
          "Septembre 2003",
          "Octobre 2003",
          "Novembre 2003",
          "Décembre 2003",
          "Janvier 2004",
          "Février 2004",
          "Mars 2004",
          "Avril 2004",
          "Mai 2004",
          "Juin 2004",
          "Juillet 2004",
          "Août 2004",
          "Septembre 2004",
          "Octobre 2004",
          "Novembre 2004",
          "Décembre 2004",
          "Janvier 2005",
          "Février 2005",
          "Mars 2005",
          "Avril 2005",
          "Mai 2005",
          "Juin 2005",
          "Juillet 2005",
          "Août 2005",
          "Septembre 2005",
          "Octobre 2005",
          "Novembre 2005",
          "Décembre 2005",
          "Janvier 2006",
          "Février 2006",
          "Mars 2006",
          "Avril 2006",
          "Mai 2006",
          "Juin 2006",
          "Juillet 2006",
          "Août 2006",
          "Septembre 2006",
          "Octobre 2006",
          "Novembre 2006",
          "Décembre 2006",
          "Janvier 2007",
          "Février 2007",
          "Mars 2007",
          "Avril 2007"
         ],
         "y": [
          602940,
          600230,
          600440,
          502690,
          572470,
          595150,
          565210,
          574610,
          533410,
          542870,
          578950,
          602390,
          593540,
          606000,
          608410,
          513680,
          598020,
          608680,
          581580,
          611620,
          566520,
          581530,
          644710,
          657650,
          658890,
          698160,
          679110,
          594190,
          680530,
          681210,
          674830,
          697550,
          628750,
          637480,
          694590,
          708340,
          726660,
          739830,
          712300,
          630140,
          713100,
          692840,
          676590,
          692170,
          623350,
          618780,
          678780,
          670010,
          702420,
          709180,
          678750,
          598880,
          669960,
          647930,
          634920,
          632670,
          587890,
          594010,
          654920,
          654690
         ]
        },
        {
         "mode": "markers+lines",
         "name": "Sarkozy",
         "type": "scatter",
         "x": [
          "Mai 2007",
          "Juin 2007",
          "Juillet 2007",
          "Août 2007",
          "Septembre 2007",
          "Octobre 2007",
          "Novembre 2007",
          "Décembre 2007",
          "Janvier 2008",
          "Février 2008",
          "Mars 2008",
          "Avril 2008",
          "Mai 2008",
          "Juin 2008",
          "Juillet 2008",
          "Août 2008",
          "Septembre 2008",
          "Octobre 2008",
          "Novembre 2008",
          "Décembre 2008",
          "Janvier 2009",
          "Février 2009",
          "Mars 2009",
          "Avril 2009",
          "Mai 2009",
          "Juin 2009",
          "Juillet 2009",
          "Août 2009",
          "Septembre 2009",
          "Octobre 2009",
          "Novembre 2009",
          "Décembre 2009",
          "Janvier 2010",
          "Février 2010",
          "Mars 2010",
          "Avril 2010",
          "Mai 2010",
          "Juin 2010",
          "Juillet 2010",
          "Août 2010",
          "Septembre 2010",
          "Octobre 2010",
          "Novembre 2010",
          "Décembre 2010",
          "Janvier 2011",
          "Février 2011",
          "Mars 2011",
          "Avril 2011",
          "Mai 2011",
          "Juin 2011",
          "Juillet 2011",
          "Août 2011",
          "Septembre 2011",
          "Octobre 2011",
          "Novembre 2011",
          "Décembre 2011",
          "Janvier 2012",
          "Février 2012",
          "Mars 2012",
          "Avril 2012"
         ],
         "y": [
          675490,
          680820,
          657290,
          568040,
          640240,
          658560,
          633860,
          626030,
          592640,
          606800,
          625420,
          649590,
          639570,
          644850,
          639920,
          525550,
          609570,
          614600,
          563150,
          581250,
          522190,
          525650,
          570900,
          598280,
          607220,
          667240,
          689830,
          595700,
          687580,
          691230,
          674870,
          711710,
          635350,
          656360,
          736890,
          761120,
          763580,
          811850,
          817370,
          703850,
          809520,
          804950,
          797060,
          817220,
          748010,
          754690,
          844370,
          851570,
          907280,
          895250,
          884390,
          773400,
          889300,
          860470,
          861010,
          858920,
          789470,
          794990,
          877220,
          889770
         ]
        },
        {
         "mode": "markers+lines",
         "name": "Hollande",
         "type": "scatter",
         "x": [
          "Mai 2012",
          "Juin 2012",
          "Juillet 2012",
          "Août 2012",
          "Septembre 2012",
          "Octobre 2012",
          "Novembre 2012",
          "Décembre 2012",
          "Janvier 2013",
          "Février 2013",
          "Mars 2013",
          "Avril 2013",
          "Mai 2013",
          "Juin 2013",
          "Juillet 2013",
          "Août 2013",
          "Septembre 2013",
          "Octobre 2013",
          "Novembre 2013",
          "Décembre 2013",
          "Janvier 2014",
          "Février 2014",
          "Mars 2014",
          "Avril 2014",
          "Mai 2014",
          "Juin 2014",
          "Juillet 2014",
          "Août 2014",
          "Septembre 2014",
          "Octobre 2014",
          "Novembre 2014",
          "Décembre 2014",
          "Janvier 2015",
          "Février 2015",
          "Mars 2015",
          "Avril 2015",
          "Mai 2015",
          "Juin 2015",
          "Juillet 2015",
          "Août 2015",
          "Septembre 2015",
          "Octobre 2015",
          "Novembre 2015",
          "Décembre 2015",
          "Janvier 2016",
          "Février 2016",
          "Mars 2016",
          "Avril 2016",
          "Mai 2016",
          "Juin 2016",
          "Juillet 2016",
          "Août 2016",
          "Septembre 2016",
          "Octobre 2016",
          "Novembre 2016",
          "Décembre 2016",
          "Janvier 2017",
          "Février 2017",
          "Mars 2017",
          "Avril 2017"
         ],
         "y": [
          906290,
          938350,
          944140,
          827100,
          893970,
          922720,
          894550,
          879380,
          834480,
          838090,
          888060,
          952260,
          950500,
          960540,
          1014870,
          860720,
          949370,
          1002700,
          944360,
          960040,
          912810,
          893200,
          951130,
          1023040,
          1022780,
          1046810,
          1091550,
          926430,
          1063470,
          1088350,
          1015760,
          1072450,
          1016660,
          1014780,
          1100720,
          1174400,
          1185700,
          1239250,
          1260660,
          1072610,
          1220540,
          1204240,
          1159550,
          1212720,
          1124110,
          1108340,
          1216920,
          1231590,
          1266250,
          1305000,
          1291780,
          1176920,
          1318140,
          1292350,
          1301470,
          1316600,
          1261780,
          1242230,
          1323520,
          1361910
         ]
        },
        {
         "mode": "markers+lines",
         "name": "Macron",
         "type": "scatter",
         "x": [
          "Mai 2017",
          "Juin 2017",
          "Juillet 2017",
          "Août 2017",
          "Septembre 2017",
          "Octobre 2017",
          "Novembre 2017",
          "Décembre 2017",
          "Janvier 2018",
          "Février 2018",
          "Mars 2018",
          "Avril 2018",
          "Mai 2018",
          "Juin 2018",
          "Juillet 2018",
          "Août 2018",
          "Septembre 2018",
          "Octobre 2018",
          "Novembre 2018",
          "Décembre 2018",
          "Janvier 2019",
          "Février 2019",
          "Mars 2019",
          "Avril 2019",
          "Mai 2019",
          "Juin 2019",
          "Juillet 2019",
          "Août 2019",
          "Septembre 2019",
          "Octobre 2019",
          "Novembre 2019",
          "Décembre 2019",
          "Janvier 2020",
          "Février 2020",
          "Mars 2020",
          "Avril 2020",
          "Mai 2020",
          "Juin 2020",
          "Juillet 2020",
          "Août 2020",
          "Septembre 2020",
          "Octobre 2020",
          "Novembre 2020",
          "Décembre 2020",
          "Janvier 2021",
          "Février 2021",
          "Mars 2021",
          "Avril 2021",
          "Mai 2021",
          "Juin 2021",
          "Juillet 2021",
          "Août 2021",
          "Septembre 2021",
          "Octobre 2021",
          "Novembre 2021",
          "Décembre 2021",
          "Janvier 2022",
          "Février 2022"
         ],
         "y": [
          1428180,
          1452090,
          1437320,
          1283280,
          1445430,
          1444870,
          1439070,
          1423370,
          1355230,
          1370600,
          1453740,
          1484180,
          1512670,
          1531930,
          1527030,
          1332150,
          1494990,
          1512710,
          1460980,
          1445330,
          1391700,
          1399410,
          1473200,
          1529540,
          1544900,
          1542820,
          1545340,
          1309740,
          1495520,
          1494970,
          1421690,
          1433900,
          1367930,
          1382040,
          1201950,
          931820,
          1051150,
          1287770,
          1411600,
          1315970,
          1515240,
          1506660,
          1415320,
          1460310,
          1367860,
          1389530,
          1504040,
          1466320,
          1515750,
          1647060,
          1619630,
          1415010,
          1622060,
          1601390,
          1578140,
          1571100,
          1462260,
          1481300
         ]
        }
       ],
       "layout": {
        "font": {
         "color": "Black",
         "family": "Arial",
         "size": 18
        },
        "template": {
         "data": {
          "bar": [
           {
            "error_x": {
             "color": "#2a3f5f"
            },
            "error_y": {
             "color": "#2a3f5f"
            },
            "marker": {
             "line": {
              "color": "#E5ECF6",
              "width": 0.5
             },
             "pattern": {
              "fillmode": "overlay",
              "size": 10,
              "solidity": 0.2
             }
            },
            "type": "bar"
           }
          ],
          "barpolar": [
           {
            "marker": {
             "line": {
              "color": "#E5ECF6",
              "width": 0.5
             },
             "pattern": {
              "fillmode": "overlay",
              "size": 10,
              "solidity": 0.2
             }
            },
            "type": "barpolar"
           }
          ],
          "carpet": [
           {
            "aaxis": {
             "endlinecolor": "#2a3f5f",
             "gridcolor": "white",
             "linecolor": "white",
             "minorgridcolor": "white",
             "startlinecolor": "#2a3f5f"
            },
            "baxis": {
             "endlinecolor": "#2a3f5f",
             "gridcolor": "white",
             "linecolor": "white",
             "minorgridcolor": "white",
             "startlinecolor": "#2a3f5f"
            },
            "type": "carpet"
           }
          ],
          "choropleth": [
           {
            "colorbar": {
             "outlinewidth": 0,
             "ticks": ""
            },
            "type": "choropleth"
           }
          ],
          "contour": [
           {
            "colorbar": {
             "outlinewidth": 0,
             "ticks": ""
            },
            "colorscale": [
             [
              0,
              "#0d0887"
             ],
             [
              0.1111111111111111,
              "#46039f"
             ],
             [
              0.2222222222222222,
              "#7201a8"
             ],
             [
              0.3333333333333333,
              "#9c179e"
             ],
             [
              0.4444444444444444,
              "#bd3786"
             ],
             [
              0.5555555555555556,
              "#d8576b"
             ],
             [
              0.6666666666666666,
              "#ed7953"
             ],
             [
              0.7777777777777778,
              "#fb9f3a"
             ],
             [
              0.8888888888888888,
              "#fdca26"
             ],
             [
              1,
              "#f0f921"
             ]
            ],
            "type": "contour"
           }
          ],
          "contourcarpet": [
           {
            "colorbar": {
             "outlinewidth": 0,
             "ticks": ""
            },
            "type": "contourcarpet"
           }
          ],
          "heatmap": [
           {
            "colorbar": {
             "outlinewidth": 0,
             "ticks": ""
            },
            "colorscale": [
             [
              0,
              "#0d0887"
             ],
             [
              0.1111111111111111,
              "#46039f"
             ],
             [
              0.2222222222222222,
              "#7201a8"
             ],
             [
              0.3333333333333333,
              "#9c179e"
             ],
             [
              0.4444444444444444,
              "#bd3786"
             ],
             [
              0.5555555555555556,
              "#d8576b"
             ],
             [
              0.6666666666666666,
              "#ed7953"
             ],
             [
              0.7777777777777778,
              "#fb9f3a"
             ],
             [
              0.8888888888888888,
              "#fdca26"
             ],
             [
              1,
              "#f0f921"
             ]
            ],
            "type": "heatmap"
           }
          ],
          "heatmapgl": [
           {
            "colorbar": {
             "outlinewidth": 0,
             "ticks": ""
            },
            "colorscale": [
             [
              0,
              "#0d0887"
             ],
             [
              0.1111111111111111,
              "#46039f"
             ],
             [
              0.2222222222222222,
              "#7201a8"
             ],
             [
              0.3333333333333333,
              "#9c179e"
             ],
             [
              0.4444444444444444,
              "#bd3786"
             ],
             [
              0.5555555555555556,
              "#d8576b"
             ],
             [
              0.6666666666666666,
              "#ed7953"
             ],
             [
              0.7777777777777778,
              "#fb9f3a"
             ],
             [
              0.8888888888888888,
              "#fdca26"
             ],
             [
              1,
              "#f0f921"
             ]
            ],
            "type": "heatmapgl"
           }
          ],
          "histogram": [
           {
            "marker": {
             "pattern": {
              "fillmode": "overlay",
              "size": 10,
              "solidity": 0.2
             }
            },
            "type": "histogram"
           }
          ],
          "histogram2d": [
           {
            "colorbar": {
             "outlinewidth": 0,
             "ticks": ""
            },
            "colorscale": [
             [
              0,
              "#0d0887"
             ],
             [
              0.1111111111111111,
              "#46039f"
             ],
             [
              0.2222222222222222,
              "#7201a8"
             ],
             [
              0.3333333333333333,
              "#9c179e"
             ],
             [
              0.4444444444444444,
              "#bd3786"
             ],
             [
              0.5555555555555556,
              "#d8576b"
             ],
             [
              0.6666666666666666,
              "#ed7953"
             ],
             [
              0.7777777777777778,
              "#fb9f3a"
             ],
             [
              0.8888888888888888,
              "#fdca26"
             ],
             [
              1,
              "#f0f921"
             ]
            ],
            "type": "histogram2d"
           }
          ],
          "histogram2dcontour": [
           {
            "colorbar": {
             "outlinewidth": 0,
             "ticks": ""
            },
            "colorscale": [
             [
              0,
              "#0d0887"
             ],
             [
              0.1111111111111111,
              "#46039f"
             ],
             [
              0.2222222222222222,
              "#7201a8"
             ],
             [
              0.3333333333333333,
              "#9c179e"
             ],
             [
              0.4444444444444444,
              "#bd3786"
             ],
             [
              0.5555555555555556,
              "#d8576b"
             ],
             [
              0.6666666666666666,
              "#ed7953"
             ],
             [
              0.7777777777777778,
              "#fb9f3a"
             ],
             [
              0.8888888888888888,
              "#fdca26"
             ],
             [
              1,
              "#f0f921"
             ]
            ],
            "type": "histogram2dcontour"
           }
          ],
          "mesh3d": [
           {
            "colorbar": {
             "outlinewidth": 0,
             "ticks": ""
            },
            "type": "mesh3d"
           }
          ],
          "parcoords": [
           {
            "line": {
             "colorbar": {
              "outlinewidth": 0,
              "ticks": ""
             }
            },
            "type": "parcoords"
           }
          ],
          "pie": [
           {
            "automargin": true,
            "type": "pie"
           }
          ],
          "scatter": [
           {
            "marker": {
             "colorbar": {
              "outlinewidth": 0,
              "ticks": ""
             }
            },
            "type": "scatter"
           }
          ],
          "scatter3d": [
           {
            "line": {
             "colorbar": {
              "outlinewidth": 0,
              "ticks": ""
             }
            },
            "marker": {
             "colorbar": {
              "outlinewidth": 0,
              "ticks": ""
             }
            },
            "type": "scatter3d"
           }
          ],
          "scattercarpet": [
           {
            "marker": {
             "colorbar": {
              "outlinewidth": 0,
              "ticks": ""
             }
            },
            "type": "scattercarpet"
           }
          ],
          "scattergeo": [
           {
            "marker": {
             "colorbar": {
              "outlinewidth": 0,
              "ticks": ""
             }
            },
            "type": "scattergeo"
           }
          ],
          "scattergl": [
           {
            "marker": {
             "colorbar": {
              "outlinewidth": 0,
              "ticks": ""
             }
            },
            "type": "scattergl"
           }
          ],
          "scattermapbox": [
           {
            "marker": {
             "colorbar": {
              "outlinewidth": 0,
              "ticks": ""
             }
            },
            "type": "scattermapbox"
           }
          ],
          "scatterpolar": [
           {
            "marker": {
             "colorbar": {
              "outlinewidth": 0,
              "ticks": ""
             }
            },
            "type": "scatterpolar"
           }
          ],
          "scatterpolargl": [
           {
            "marker": {
             "colorbar": {
              "outlinewidth": 0,
              "ticks": ""
             }
            },
            "type": "scatterpolargl"
           }
          ],
          "scatterternary": [
           {
            "marker": {
             "colorbar": {
              "outlinewidth": 0,
              "ticks": ""
             }
            },
            "type": "scatterternary"
           }
          ],
          "surface": [
           {
            "colorbar": {
             "outlinewidth": 0,
             "ticks": ""
            },
            "colorscale": [
             [
              0,
              "#0d0887"
             ],
             [
              0.1111111111111111,
              "#46039f"
             ],
             [
              0.2222222222222222,
              "#7201a8"
             ],
             [
              0.3333333333333333,
              "#9c179e"
             ],
             [
              0.4444444444444444,
              "#bd3786"
             ],
             [
              0.5555555555555556,
              "#d8576b"
             ],
             [
              0.6666666666666666,
              "#ed7953"
             ],
             [
              0.7777777777777778,
              "#fb9f3a"
             ],
             [
              0.8888888888888888,
              "#fdca26"
             ],
             [
              1,
              "#f0f921"
             ]
            ],
            "type": "surface"
           }
          ],
          "table": [
           {
            "cells": {
             "fill": {
              "color": "#EBF0F8"
             },
             "line": {
              "color": "white"
             }
            },
            "header": {
             "fill": {
              "color": "#C8D4E3"
             },
             "line": {
              "color": "white"
             }
            },
            "type": "table"
           }
          ]
         },
         "layout": {
          "annotationdefaults": {
           "arrowcolor": "#2a3f5f",
           "arrowhead": 0,
           "arrowwidth": 1
          },
          "autotypenumbers": "strict",
          "coloraxis": {
           "colorbar": {
            "outlinewidth": 0,
            "ticks": ""
           }
          },
          "colorscale": {
           "diverging": [
            [
             0,
             "#8e0152"
            ],
            [
             0.1,
             "#c51b7d"
            ],
            [
             0.2,
             "#de77ae"
            ],
            [
             0.3,
             "#f1b6da"
            ],
            [
             0.4,
             "#fde0ef"
            ],
            [
             0.5,
             "#f7f7f7"
            ],
            [
             0.6,
             "#e6f5d0"
            ],
            [
             0.7,
             "#b8e186"
            ],
            [
             0.8,
             "#7fbc41"
            ],
            [
             0.9,
             "#4d9221"
            ],
            [
             1,
             "#276419"
            ]
           ],
           "sequential": [
            [
             0,
             "#0d0887"
            ],
            [
             0.1111111111111111,
             "#46039f"
            ],
            [
             0.2222222222222222,
             "#7201a8"
            ],
            [
             0.3333333333333333,
             "#9c179e"
            ],
            [
             0.4444444444444444,
             "#bd3786"
            ],
            [
             0.5555555555555556,
             "#d8576b"
            ],
            [
             0.6666666666666666,
             "#ed7953"
            ],
            [
             0.7777777777777778,
             "#fb9f3a"
            ],
            [
             0.8888888888888888,
             "#fdca26"
            ],
            [
             1,
             "#f0f921"
            ]
           ],
           "sequentialminus": [
            [
             0,
             "#0d0887"
            ],
            [
             0.1111111111111111,
             "#46039f"
            ],
            [
             0.2222222222222222,
             "#7201a8"
            ],
            [
             0.3333333333333333,
             "#9c179e"
            ],
            [
             0.4444444444444444,
             "#bd3786"
            ],
            [
             0.5555555555555556,
             "#d8576b"
            ],
            [
             0.6666666666666666,
             "#ed7953"
            ],
            [
             0.7777777777777778,
             "#fb9f3a"
            ],
            [
             0.8888888888888888,
             "#fdca26"
            ],
            [
             1,
             "#f0f921"
            ]
           ]
          },
          "colorway": [
           "#636efa",
           "#EF553B",
           "#00cc96",
           "#ab63fa",
           "#FFA15A",
           "#19d3f3",
           "#FF6692",
           "#B6E880",
           "#FF97FF",
           "#FECB52"
          ],
          "font": {
           "color": "#2a3f5f"
          },
          "geo": {
           "bgcolor": "white",
           "lakecolor": "white",
           "landcolor": "#E5ECF6",
           "showlakes": true,
           "showland": true,
           "subunitcolor": "white"
          },
          "hoverlabel": {
           "align": "left"
          },
          "hovermode": "closest",
          "mapbox": {
           "style": "light"
          },
          "paper_bgcolor": "white",
          "plot_bgcolor": "#E5ECF6",
          "polar": {
           "angularaxis": {
            "gridcolor": "white",
            "linecolor": "white",
            "ticks": ""
           },
           "bgcolor": "#E5ECF6",
           "radialaxis": {
            "gridcolor": "white",
            "linecolor": "white",
            "ticks": ""
           }
          },
          "scene": {
           "xaxis": {
            "backgroundcolor": "#E5ECF6",
            "gridcolor": "white",
            "gridwidth": 2,
            "linecolor": "white",
            "showbackground": true,
            "ticks": "",
            "zerolinecolor": "white"
           },
           "yaxis": {
            "backgroundcolor": "#E5ECF6",
            "gridcolor": "white",
            "gridwidth": 2,
            "linecolor": "white",
            "showbackground": true,
            "ticks": "",
            "zerolinecolor": "white"
           },
           "zaxis": {
            "backgroundcolor": "#E5ECF6",
            "gridcolor": "white",
            "gridwidth": 2,
            "linecolor": "white",
            "showbackground": true,
            "ticks": "",
            "zerolinecolor": "white"
           }
          },
          "shapedefaults": {
           "line": {
            "color": "#2a3f5f"
           }
          },
          "ternary": {
           "aaxis": {
            "gridcolor": "white",
            "linecolor": "white",
            "ticks": ""
           },
           "baxis": {
            "gridcolor": "white",
            "linecolor": "white",
            "ticks": ""
           },
           "bgcolor": "#E5ECF6",
           "caxis": {
            "gridcolor": "white",
            "linecolor": "white",
            "ticks": ""
           }
          },
          "title": {
           "x": 0.05
          },
          "xaxis": {
           "automargin": true,
           "gridcolor": "white",
           "linecolor": "white",
           "ticks": "",
           "title": {
            "standoff": 15
           },
           "zerolinecolor": "white",
           "zerolinewidth": 2
          },
          "yaxis": {
           "automargin": true,
           "gridcolor": "white",
           "linecolor": "white",
           "ticks": "",
           "title": {
            "standoff": 15
           },
           "zerolinecolor": "white",
           "zerolinewidth": 2
          }
         }
        },
        "title": {
         "font": {
          "size": 25
         },
         "text": "Catégorie C",
         "x": 0.5,
         "xanchor": "center"
        },
        "xaxis": {
         "dtick": 12,
         "tickmode": "linear"
        }
       }
      },
      "text/html": [
       "<div>                            <div id=\"5e8bcbf8-d93b-4079-baa3-e7c5ae903743\" class=\"plotly-graph-div\" style=\"height:525px; width:100%;\"></div>            <script type=\"text/javascript\">                require([\"plotly\"], function(Plotly) {                    window.PLOTLYENV=window.PLOTLYENV || {};                                    if (document.getElementById(\"5e8bcbf8-d93b-4079-baa3-e7c5ae903743\")) {                    Plotly.newPlot(                        \"5e8bcbf8-d93b-4079-baa3-e7c5ae903743\",                        [{\"mode\":\"markers+lines\",\"name\":\"Chirac\",\"x\":[\"Janvier 1996\",\"F\\u00e9vrier 1996\",\"Mars 1996\",\"Avril 1996\",\"Mai 1996\",\"Juin 1996\",\"Juillet 1996\",\"Ao\\u00fbt 1996\",\"Septembre 1996\",\"Octobre 1996\",\"Novembre 1996\",\"D\\u00e9cembre 1996\",\"Janvier 1997\",\"F\\u00e9vrier 1997\",\"Mars 1997\",\"Avril 1997\",\"Mai 1997\",\"Juin 1997\",\"Juillet 1997\",\"Ao\\u00fbt 1997\",\"Septembre 1997\",\"Octobre 1997\",\"Novembre 1997\",\"D\\u00e9cembre 1997\",\"Janvier 1998\",\"F\\u00e9vrier 1998\",\"Mars 1998\",\"Avril 1998\",\"Mai 1998\",\"Juin 1998\",\"Juillet 1998\",\"Ao\\u00fbt 1998\",\"Septembre 1998\",\"Octobre 1998\",\"Novembre 1998\",\"D\\u00e9cembre 1998\",\"Janvier 1999\",\"F\\u00e9vrier 1999\",\"Mars 1999\",\"Avril 1999\",\"Mai 1999\",\"Juin 1999\",\"Juillet 1999\",\"Ao\\u00fbt 1999\",\"Septembre 1999\",\"Octobre 1999\",\"Novembre 1999\",\"D\\u00e9cembre 1999\",\"Janvier 2000\",\"F\\u00e9vrier 2000\",\"Mars 2000\",\"Avril 2000\",\"Mai 2000\",\"Juin 2000\",\"Juillet 2000\",\"Ao\\u00fbt 2000\",\"Septembre 2000\",\"Octobre 2000\",\"Novembre 2000\",\"D\\u00e9cembre 2000\",\"Janvier 2001\",\"F\\u00e9vrier 2001\",\"Mars 2001\",\"Avril 2001\",\"Mai 2001\",\"Juin 2001\",\"Juillet 2001\",\"Ao\\u00fbt 2001\",\"Septembre 2001\",\"Octobre 2001\",\"Novembre 2001\",\"D\\u00e9cembre 2001\",\"Janvier 2002\",\"F\\u00e9vrier 2002\",\"Mars 2002\",\"Avril 2002\"],\"y\":[308510.0,321260.0,349280.0,371730.0,372870.0,385590.0,430500.0,396550.0,388830.0,411510.0,381950.0,413400.0,378070.0,395420.0,425810.0,471850.0,458120.0,490980.0,532360.0,480730.0,510090.0,526560.0,487940.0,548310.0,487130.0,507450.0,558740.0,584820.0,577040.0,596990.0,615720.0,545190.0,578150.0,587970.0,562270.0,606030.0,521640.0,543410.0,607330.0,623680.0,621990.0,659370.0,667620.0,597880.0,648370.0,643950.0,629430.0,667060.0,577550.0,599170.0,645150.0,620790.0,656730.0,650540.0,628430.0,562580.0,613040.0,630010.0,624260.0,619360.0,584680.0,585780.0,634660.0,633600.0,655790.0,642670.0,617930.0,542460.0,582030.0,606710.0,585610.0,582860.0,553530.0,545770.0,586510.0,610540.0],\"type\":\"scatter\"},{\"mode\":\"markers+lines\",\"name\":\"Chirac 2\",\"x\":[\"Mai 2002\",\"Juin 2002\",\"Juillet 2002\",\"Ao\\u00fbt 2002\",\"Septembre 2002\",\"Octobre 2002\",\"Novembre 2002\",\"D\\u00e9cembre 2002\",\"Janvier 2003\",\"F\\u00e9vrier 2003\",\"Mars 2003\",\"Avril 2003\",\"Mai 2003\",\"Juin 2003\",\"Juillet 2003\",\"Ao\\u00fbt 2003\",\"Septembre 2003\",\"Octobre 2003\",\"Novembre 2003\",\"D\\u00e9cembre 2003\",\"Janvier 2004\",\"F\\u00e9vrier 2004\",\"Mars 2004\",\"Avril 2004\",\"Mai 2004\",\"Juin 2004\",\"Juillet 2004\",\"Ao\\u00fbt 2004\",\"Septembre 2004\",\"Octobre 2004\",\"Novembre 2004\",\"D\\u00e9cembre 2004\",\"Janvier 2005\",\"F\\u00e9vrier 2005\",\"Mars 2005\",\"Avril 2005\",\"Mai 2005\",\"Juin 2005\",\"Juillet 2005\",\"Ao\\u00fbt 2005\",\"Septembre 2005\",\"Octobre 2005\",\"Novembre 2005\",\"D\\u00e9cembre 2005\",\"Janvier 2006\",\"F\\u00e9vrier 2006\",\"Mars 2006\",\"Avril 2006\",\"Mai 2006\",\"Juin 2006\",\"Juillet 2006\",\"Ao\\u00fbt 2006\",\"Septembre 2006\",\"Octobre 2006\",\"Novembre 2006\",\"D\\u00e9cembre 2006\",\"Janvier 2007\",\"F\\u00e9vrier 2007\",\"Mars 2007\",\"Avril 2007\"],\"y\":[602940.0,600230.0,600440.0,502690.0,572470.0,595150.0,565210.0,574610.0,533410.0,542870.0,578950.0,602390.0,593540.0,606000.0,608410.0,513680.0,598020.0,608680.0,581580.0,611620.0,566520.0,581530.0,644710.0,657650.0,658890.0,698160.0,679110.0,594190.0,680530.0,681210.0,674830.0,697550.0,628750.0,637480.0,694590.0,708340.0,726660.0,739830.0,712300.0,630140.0,713100.0,692840.0,676590.0,692170.0,623350.0,618780.0,678780.0,670010.0,702420.0,709180.0,678750.0,598880.0,669960.0,647930.0,634920.0,632670.0,587890.0,594010.0,654920.0,654690.0],\"type\":\"scatter\"},{\"mode\":\"markers+lines\",\"name\":\"Sarkozy\",\"x\":[\"Mai 2007\",\"Juin 2007\",\"Juillet 2007\",\"Ao\\u00fbt 2007\",\"Septembre 2007\",\"Octobre 2007\",\"Novembre 2007\",\"D\\u00e9cembre 2007\",\"Janvier 2008\",\"F\\u00e9vrier 2008\",\"Mars 2008\",\"Avril 2008\",\"Mai 2008\",\"Juin 2008\",\"Juillet 2008\",\"Ao\\u00fbt 2008\",\"Septembre 2008\",\"Octobre 2008\",\"Novembre 2008\",\"D\\u00e9cembre 2008\",\"Janvier 2009\",\"F\\u00e9vrier 2009\",\"Mars 2009\",\"Avril 2009\",\"Mai 2009\",\"Juin 2009\",\"Juillet 2009\",\"Ao\\u00fbt 2009\",\"Septembre 2009\",\"Octobre 2009\",\"Novembre 2009\",\"D\\u00e9cembre 2009\",\"Janvier 2010\",\"F\\u00e9vrier 2010\",\"Mars 2010\",\"Avril 2010\",\"Mai 2010\",\"Juin 2010\",\"Juillet 2010\",\"Ao\\u00fbt 2010\",\"Septembre 2010\",\"Octobre 2010\",\"Novembre 2010\",\"D\\u00e9cembre 2010\",\"Janvier 2011\",\"F\\u00e9vrier 2011\",\"Mars 2011\",\"Avril 2011\",\"Mai 2011\",\"Juin 2011\",\"Juillet 2011\",\"Ao\\u00fbt 2011\",\"Septembre 2011\",\"Octobre 2011\",\"Novembre 2011\",\"D\\u00e9cembre 2011\",\"Janvier 2012\",\"F\\u00e9vrier 2012\",\"Mars 2012\",\"Avril 2012\"],\"y\":[675490.0,680820.0,657290.0,568040.0,640240.0,658560.0,633860.0,626030.0,592640.0,606800.0,625420.0,649590.0,639570.0,644850.0,639920.0,525550.0,609570.0,614600.0,563150.0,581250.0,522190.0,525650.0,570900.0,598280.0,607220.0,667240.0,689830.0,595700.0,687580.0,691230.0,674870.0,711710.0,635350.0,656360.0,736890.0,761120.0,763580.0,811850.0,817370.0,703850.0,809520.0,804950.0,797060.0,817220.0,748010.0,754690.0,844370.0,851570.0,907280.0,895250.0,884390.0,773400.0,889300.0,860470.0,861010.0,858920.0,789470.0,794990.0,877220.0,889770.0],\"type\":\"scatter\"},{\"mode\":\"markers+lines\",\"name\":\"Hollande\",\"x\":[\"Mai 2012\",\"Juin 2012\",\"Juillet 2012\",\"Ao\\u00fbt 2012\",\"Septembre 2012\",\"Octobre 2012\",\"Novembre 2012\",\"D\\u00e9cembre 2012\",\"Janvier 2013\",\"F\\u00e9vrier 2013\",\"Mars 2013\",\"Avril 2013\",\"Mai 2013\",\"Juin 2013\",\"Juillet 2013\",\"Ao\\u00fbt 2013\",\"Septembre 2013\",\"Octobre 2013\",\"Novembre 2013\",\"D\\u00e9cembre 2013\",\"Janvier 2014\",\"F\\u00e9vrier 2014\",\"Mars 2014\",\"Avril 2014\",\"Mai 2014\",\"Juin 2014\",\"Juillet 2014\",\"Ao\\u00fbt 2014\",\"Septembre 2014\",\"Octobre 2014\",\"Novembre 2014\",\"D\\u00e9cembre 2014\",\"Janvier 2015\",\"F\\u00e9vrier 2015\",\"Mars 2015\",\"Avril 2015\",\"Mai 2015\",\"Juin 2015\",\"Juillet 2015\",\"Ao\\u00fbt 2015\",\"Septembre 2015\",\"Octobre 2015\",\"Novembre 2015\",\"D\\u00e9cembre 2015\",\"Janvier 2016\",\"F\\u00e9vrier 2016\",\"Mars 2016\",\"Avril 2016\",\"Mai 2016\",\"Juin 2016\",\"Juillet 2016\",\"Ao\\u00fbt 2016\",\"Septembre 2016\",\"Octobre 2016\",\"Novembre 2016\",\"D\\u00e9cembre 2016\",\"Janvier 2017\",\"F\\u00e9vrier 2017\",\"Mars 2017\",\"Avril 2017\"],\"y\":[906290.0,938350.0,944140.0,827100.0,893970.0,922720.0,894550.0,879380.0,834480.0,838090.0,888060.0,952260.0,950500.0,960540.0,1014870.0,860720.0,949370.0,1002700.0,944360.0,960040.0,912810.0,893200.0,951130.0,1023040.0,1022780.0,1046810.0,1091550.0,926430.0,1063470.0,1088350.0,1015760.0,1072450.0,1016660.0,1014780.0,1100720.0,1174400.0,1185700.0,1239250.0,1260660.0,1072610.0,1220540.0,1204240.0,1159550.0,1212720.0,1124110.0,1108340.0,1216920.0,1231590.0,1266250.0,1305000.0,1291780.0,1176920.0,1318140.0,1292350.0,1301470.0,1316600.0,1261780.0,1242230.0,1323520.0,1361910.0],\"type\":\"scatter\"},{\"mode\":\"markers+lines\",\"name\":\"Macron\",\"x\":[\"Mai 2017\",\"Juin 2017\",\"Juillet 2017\",\"Ao\\u00fbt 2017\",\"Septembre 2017\",\"Octobre 2017\",\"Novembre 2017\",\"D\\u00e9cembre 2017\",\"Janvier 2018\",\"F\\u00e9vrier 2018\",\"Mars 2018\",\"Avril 2018\",\"Mai 2018\",\"Juin 2018\",\"Juillet 2018\",\"Ao\\u00fbt 2018\",\"Septembre 2018\",\"Octobre 2018\",\"Novembre 2018\",\"D\\u00e9cembre 2018\",\"Janvier 2019\",\"F\\u00e9vrier 2019\",\"Mars 2019\",\"Avril 2019\",\"Mai 2019\",\"Juin 2019\",\"Juillet 2019\",\"Ao\\u00fbt 2019\",\"Septembre 2019\",\"Octobre 2019\",\"Novembre 2019\",\"D\\u00e9cembre 2019\",\"Janvier 2020\",\"F\\u00e9vrier 2020\",\"Mars 2020\",\"Avril 2020\",\"Mai 2020\",\"Juin 2020\",\"Juillet 2020\",\"Ao\\u00fbt 2020\",\"Septembre 2020\",\"Octobre 2020\",\"Novembre 2020\",\"D\\u00e9cembre 2020\",\"Janvier 2021\",\"F\\u00e9vrier 2021\",\"Mars 2021\",\"Avril 2021\",\"Mai 2021\",\"Juin 2021\",\"Juillet 2021\",\"Ao\\u00fbt 2021\",\"Septembre 2021\",\"Octobre 2021\",\"Novembre 2021\",\"D\\u00e9cembre 2021\",\"Janvier 2022\",\"F\\u00e9vrier 2022\"],\"y\":[1428180.0,1452090.0,1437320.0,1283280.0,1445430.0,1444870.0,1439070.0,1423370.0,1355230.0,1370600.0,1453740.0,1484180.0,1512670.0,1531930.0,1527030.0,1332150.0,1494990.0,1512710.0,1460980.0,1445330.0,1391700.0,1399410.0,1473200.0,1529540.0,1544900.0,1542820.0,1545340.0,1309740.0,1495520.0,1494970.0,1421690.0,1433900.0,1367930.0,1382040.0,1201950.0,931820.0,1051150.0,1287770.0,1411600.0,1315970.0,1515240.0,1506660.0,1415320.0,1460310.0,1367860.0,1389530.0,1504040.0,1466320.0,1515750.0,1647060.0,1619630.0,1415010.0,1622060.0,1601390.0,1578140.0,1571100.0,1462260.0,1481300.0],\"type\":\"scatter\"}],                        {\"template\":{\"data\":{\"bar\":[{\"error_x\":{\"color\":\"#2a3f5f\"},\"error_y\":{\"color\":\"#2a3f5f\"},\"marker\":{\"line\":{\"color\":\"#E5ECF6\",\"width\":0.5},\"pattern\":{\"fillmode\":\"overlay\",\"size\":10,\"solidity\":0.2}},\"type\":\"bar\"}],\"barpolar\":[{\"marker\":{\"line\":{\"color\":\"#E5ECF6\",\"width\":0.5},\"pattern\":{\"fillmode\":\"overlay\",\"size\":10,\"solidity\":0.2}},\"type\":\"barpolar\"}],\"carpet\":[{\"aaxis\":{\"endlinecolor\":\"#2a3f5f\",\"gridcolor\":\"white\",\"linecolor\":\"white\",\"minorgridcolor\":\"white\",\"startlinecolor\":\"#2a3f5f\"},\"baxis\":{\"endlinecolor\":\"#2a3f5f\",\"gridcolor\":\"white\",\"linecolor\":\"white\",\"minorgridcolor\":\"white\",\"startlinecolor\":\"#2a3f5f\"},\"type\":\"carpet\"}],\"choropleth\":[{\"colorbar\":{\"outlinewidth\":0,\"ticks\":\"\"},\"type\":\"choropleth\"}],\"contour\":[{\"colorbar\":{\"outlinewidth\":0,\"ticks\":\"\"},\"colorscale\":[[0.0,\"#0d0887\"],[0.1111111111111111,\"#46039f\"],[0.2222222222222222,\"#7201a8\"],[0.3333333333333333,\"#9c179e\"],[0.4444444444444444,\"#bd3786\"],[0.5555555555555556,\"#d8576b\"],[0.6666666666666666,\"#ed7953\"],[0.7777777777777778,\"#fb9f3a\"],[0.8888888888888888,\"#fdca26\"],[1.0,\"#f0f921\"]],\"type\":\"contour\"}],\"contourcarpet\":[{\"colorbar\":{\"outlinewidth\":0,\"ticks\":\"\"},\"type\":\"contourcarpet\"}],\"heatmap\":[{\"colorbar\":{\"outlinewidth\":0,\"ticks\":\"\"},\"colorscale\":[[0.0,\"#0d0887\"],[0.1111111111111111,\"#46039f\"],[0.2222222222222222,\"#7201a8\"],[0.3333333333333333,\"#9c179e\"],[0.4444444444444444,\"#bd3786\"],[0.5555555555555556,\"#d8576b\"],[0.6666666666666666,\"#ed7953\"],[0.7777777777777778,\"#fb9f3a\"],[0.8888888888888888,\"#fdca26\"],[1.0,\"#f0f921\"]],\"type\":\"heatmap\"}],\"heatmapgl\":[{\"colorbar\":{\"outlinewidth\":0,\"ticks\":\"\"},\"colorscale\":[[0.0,\"#0d0887\"],[0.1111111111111111,\"#46039f\"],[0.2222222222222222,\"#7201a8\"],[0.3333333333333333,\"#9c179e\"],[0.4444444444444444,\"#bd3786\"],[0.5555555555555556,\"#d8576b\"],[0.6666666666666666,\"#ed7953\"],[0.7777777777777778,\"#fb9f3a\"],[0.8888888888888888,\"#fdca26\"],[1.0,\"#f0f921\"]],\"type\":\"heatmapgl\"}],\"histogram\":[{\"marker\":{\"pattern\":{\"fillmode\":\"overlay\",\"size\":10,\"solidity\":0.2}},\"type\":\"histogram\"}],\"histogram2d\":[{\"colorbar\":{\"outlinewidth\":0,\"ticks\":\"\"},\"colorscale\":[[0.0,\"#0d0887\"],[0.1111111111111111,\"#46039f\"],[0.2222222222222222,\"#7201a8\"],[0.3333333333333333,\"#9c179e\"],[0.4444444444444444,\"#bd3786\"],[0.5555555555555556,\"#d8576b\"],[0.6666666666666666,\"#ed7953\"],[0.7777777777777778,\"#fb9f3a\"],[0.8888888888888888,\"#fdca26\"],[1.0,\"#f0f921\"]],\"type\":\"histogram2d\"}],\"histogram2dcontour\":[{\"colorbar\":{\"outlinewidth\":0,\"ticks\":\"\"},\"colorscale\":[[0.0,\"#0d0887\"],[0.1111111111111111,\"#46039f\"],[0.2222222222222222,\"#7201a8\"],[0.3333333333333333,\"#9c179e\"],[0.4444444444444444,\"#bd3786\"],[0.5555555555555556,\"#d8576b\"],[0.6666666666666666,\"#ed7953\"],[0.7777777777777778,\"#fb9f3a\"],[0.8888888888888888,\"#fdca26\"],[1.0,\"#f0f921\"]],\"type\":\"histogram2dcontour\"}],\"mesh3d\":[{\"colorbar\":{\"outlinewidth\":0,\"ticks\":\"\"},\"type\":\"mesh3d\"}],\"parcoords\":[{\"line\":{\"colorbar\":{\"outlinewidth\":0,\"ticks\":\"\"}},\"type\":\"parcoords\"}],\"pie\":[{\"automargin\":true,\"type\":\"pie\"}],\"scatter\":[{\"marker\":{\"colorbar\":{\"outlinewidth\":0,\"ticks\":\"\"}},\"type\":\"scatter\"}],\"scatter3d\":[{\"line\":{\"colorbar\":{\"outlinewidth\":0,\"ticks\":\"\"}},\"marker\":{\"colorbar\":{\"outlinewidth\":0,\"ticks\":\"\"}},\"type\":\"scatter3d\"}],\"scattercarpet\":[{\"marker\":{\"colorbar\":{\"outlinewidth\":0,\"ticks\":\"\"}},\"type\":\"scattercarpet\"}],\"scattergeo\":[{\"marker\":{\"colorbar\":{\"outlinewidth\":0,\"ticks\":\"\"}},\"type\":\"scattergeo\"}],\"scattergl\":[{\"marker\":{\"colorbar\":{\"outlinewidth\":0,\"ticks\":\"\"}},\"type\":\"scattergl\"}],\"scattermapbox\":[{\"marker\":{\"colorbar\":{\"outlinewidth\":0,\"ticks\":\"\"}},\"type\":\"scattermapbox\"}],\"scatterpolar\":[{\"marker\":{\"colorbar\":{\"outlinewidth\":0,\"ticks\":\"\"}},\"type\":\"scatterpolar\"}],\"scatterpolargl\":[{\"marker\":{\"colorbar\":{\"outlinewidth\":0,\"ticks\":\"\"}},\"type\":\"scatterpolargl\"}],\"scatterternary\":[{\"marker\":{\"colorbar\":{\"outlinewidth\":0,\"ticks\":\"\"}},\"type\":\"scatterternary\"}],\"surface\":[{\"colorbar\":{\"outlinewidth\":0,\"ticks\":\"\"},\"colorscale\":[[0.0,\"#0d0887\"],[0.1111111111111111,\"#46039f\"],[0.2222222222222222,\"#7201a8\"],[0.3333333333333333,\"#9c179e\"],[0.4444444444444444,\"#bd3786\"],[0.5555555555555556,\"#d8576b\"],[0.6666666666666666,\"#ed7953\"],[0.7777777777777778,\"#fb9f3a\"],[0.8888888888888888,\"#fdca26\"],[1.0,\"#f0f921\"]],\"type\":\"surface\"}],\"table\":[{\"cells\":{\"fill\":{\"color\":\"#EBF0F8\"},\"line\":{\"color\":\"white\"}},\"header\":{\"fill\":{\"color\":\"#C8D4E3\"},\"line\":{\"color\":\"white\"}},\"type\":\"table\"}]},\"layout\":{\"annotationdefaults\":{\"arrowcolor\":\"#2a3f5f\",\"arrowhead\":0,\"arrowwidth\":1},\"autotypenumbers\":\"strict\",\"coloraxis\":{\"colorbar\":{\"outlinewidth\":0,\"ticks\":\"\"}},\"colorscale\":{\"diverging\":[[0,\"#8e0152\"],[0.1,\"#c51b7d\"],[0.2,\"#de77ae\"],[0.3,\"#f1b6da\"],[0.4,\"#fde0ef\"],[0.5,\"#f7f7f7\"],[0.6,\"#e6f5d0\"],[0.7,\"#b8e186\"],[0.8,\"#7fbc41\"],[0.9,\"#4d9221\"],[1,\"#276419\"]],\"sequential\":[[0.0,\"#0d0887\"],[0.1111111111111111,\"#46039f\"],[0.2222222222222222,\"#7201a8\"],[0.3333333333333333,\"#9c179e\"],[0.4444444444444444,\"#bd3786\"],[0.5555555555555556,\"#d8576b\"],[0.6666666666666666,\"#ed7953\"],[0.7777777777777778,\"#fb9f3a\"],[0.8888888888888888,\"#fdca26\"],[1.0,\"#f0f921\"]],\"sequentialminus\":[[0.0,\"#0d0887\"],[0.1111111111111111,\"#46039f\"],[0.2222222222222222,\"#7201a8\"],[0.3333333333333333,\"#9c179e\"],[0.4444444444444444,\"#bd3786\"],[0.5555555555555556,\"#d8576b\"],[0.6666666666666666,\"#ed7953\"],[0.7777777777777778,\"#fb9f3a\"],[0.8888888888888888,\"#fdca26\"],[1.0,\"#f0f921\"]]},\"colorway\":[\"#636efa\",\"#EF553B\",\"#00cc96\",\"#ab63fa\",\"#FFA15A\",\"#19d3f3\",\"#FF6692\",\"#B6E880\",\"#FF97FF\",\"#FECB52\"],\"font\":{\"color\":\"#2a3f5f\"},\"geo\":{\"bgcolor\":\"white\",\"lakecolor\":\"white\",\"landcolor\":\"#E5ECF6\",\"showlakes\":true,\"showland\":true,\"subunitcolor\":\"white\"},\"hoverlabel\":{\"align\":\"left\"},\"hovermode\":\"closest\",\"mapbox\":{\"style\":\"light\"},\"paper_bgcolor\":\"white\",\"plot_bgcolor\":\"#E5ECF6\",\"polar\":{\"angularaxis\":{\"gridcolor\":\"white\",\"linecolor\":\"white\",\"ticks\":\"\"},\"bgcolor\":\"#E5ECF6\",\"radialaxis\":{\"gridcolor\":\"white\",\"linecolor\":\"white\",\"ticks\":\"\"}},\"scene\":{\"xaxis\":{\"backgroundcolor\":\"#E5ECF6\",\"gridcolor\":\"white\",\"gridwidth\":2,\"linecolor\":\"white\",\"showbackground\":true,\"ticks\":\"\",\"zerolinecolor\":\"white\"},\"yaxis\":{\"backgroundcolor\":\"#E5ECF6\",\"gridcolor\":\"white\",\"gridwidth\":2,\"linecolor\":\"white\",\"showbackground\":true,\"ticks\":\"\",\"zerolinecolor\":\"white\"},\"zaxis\":{\"backgroundcolor\":\"#E5ECF6\",\"gridcolor\":\"white\",\"gridwidth\":2,\"linecolor\":\"white\",\"showbackground\":true,\"ticks\":\"\",\"zerolinecolor\":\"white\"}},\"shapedefaults\":{\"line\":{\"color\":\"#2a3f5f\"}},\"ternary\":{\"aaxis\":{\"gridcolor\":\"white\",\"linecolor\":\"white\",\"ticks\":\"\"},\"baxis\":{\"gridcolor\":\"white\",\"linecolor\":\"white\",\"ticks\":\"\"},\"bgcolor\":\"#E5ECF6\",\"caxis\":{\"gridcolor\":\"white\",\"linecolor\":\"white\",\"ticks\":\"\"}},\"title\":{\"x\":0.05},\"xaxis\":{\"automargin\":true,\"gridcolor\":\"white\",\"linecolor\":\"white\",\"ticks\":\"\",\"title\":{\"standoff\":15},\"zerolinecolor\":\"white\",\"zerolinewidth\":2},\"yaxis\":{\"automargin\":true,\"gridcolor\":\"white\",\"linecolor\":\"white\",\"ticks\":\"\",\"title\":{\"standoff\":15},\"zerolinecolor\":\"white\",\"zerolinewidth\":2}}},\"title\":{\"font\":{\"size\":25},\"text\":\"Cat\\u00e9gorie C\",\"x\":0.5,\"xanchor\":\"center\"},\"xaxis\":{\"tickmode\":\"linear\",\"dtick\":12},\"font\":{\"family\":\"Arial\",\"size\":18,\"color\":\"Black\"}},                        {\"responsive\": true}                    ).then(function(){\n",
       "                            \n",
       "var gd = document.getElementById('5e8bcbf8-d93b-4079-baa3-e7c5ae903743');\n",
       "var x = new MutationObserver(function (mutations, observer) {{\n",
       "        var display = window.getComputedStyle(gd).display;\n",
       "        if (!display || display === 'none') {{\n",
       "            console.log([gd, 'removed!']);\n",
       "            Plotly.purge(gd);\n",
       "            observer.disconnect();\n",
       "        }}\n",
       "}});\n",
       "\n",
       "// Listen for the removal of the full notebook cells\n",
       "var notebookContainer = gd.closest('#notebook-container');\n",
       "if (notebookContainer) {{\n",
       "    x.observe(notebookContainer, {childList: true});\n",
       "}}\n",
       "\n",
       "// Listen for the clearing of the current output cell\n",
       "var outputEl = gd.closest('.output');\n",
       "if (outputEl) {{\n",
       "    x.observe(outputEl, {childList: true});\n",
       "}}\n",
       "\n",
       "                        })                };                });            </script>        </div>"
      ]
     },
     "metadata": {},
     "output_type": "display_data"
    }
   ],
   "source": [
    "plot_fig('C')"
   ]
  },
  {
   "cell_type": "code",
   "execution_count": 110,
   "id": "005b5797",
   "metadata": {},
   "outputs": [
    {
     "data": {
      "application/vnd.plotly.v1+json": {
       "config": {
        "plotlyServerURL": "https://plot.ly"
       },
       "data": [
        {
         "mode": "markers+lines",
         "name": "Chirac",
         "type": "scatter",
         "x": [
          "Janvier 1996",
          "Février 1996",
          "Mars 1996",
          "Avril 1996",
          "Mai 1996",
          "Juin 1996",
          "Juillet 1996",
          "Août 1996",
          "Septembre 1996",
          "Octobre 1996",
          "Novembre 1996",
          "Décembre 1996",
          "Janvier 1997",
          "Février 1997",
          "Mars 1997",
          "Avril 1997",
          "Mai 1997",
          "Juin 1997",
          "Juillet 1997",
          "Août 1997",
          "Septembre 1997",
          "Octobre 1997",
          "Novembre 1997",
          "Décembre 1997",
          "Janvier 1998",
          "Février 1998",
          "Mars 1998",
          "Avril 1998",
          "Mai 1998",
          "Juin 1998",
          "Juillet 1998",
          "Août 1998",
          "Septembre 1998",
          "Octobre 1998",
          "Novembre 1998",
          "Décembre 1998",
          "Janvier 1999",
          "Février 1999",
          "Mars 1999",
          "Avril 1999",
          "Mai 1999",
          "Juin 1999",
          "Juillet 1999",
          "Août 1999",
          "Septembre 1999",
          "Octobre 1999",
          "Novembre 1999",
          "Décembre 1999",
          "Janvier 2000",
          "Février 2000",
          "Mars 2000",
          "Avril 2000",
          "Mai 2000",
          "Juin 2000",
          "Juillet 2000",
          "Août 2000",
          "Septembre 2000",
          "Octobre 2000",
          "Novembre 2000",
          "Décembre 2000",
          "Janvier 2001",
          "Février 2001",
          "Mars 2001",
          "Avril 2001",
          "Mai 2001",
          "Juin 2001",
          "Juillet 2001",
          "Août 2001",
          "Septembre 2001",
          "Octobre 2001",
          "Novembre 2001",
          "Décembre 2001",
          "Janvier 2002",
          "Février 2002",
          "Mars 2002",
          "Avril 2002"
         ],
         "y": [
          4054450,
          4030480,
          3978410,
          3897930,
          3854800,
          3835100,
          3933360,
          4033730,
          4143710,
          4196570,
          4189620,
          4209450,
          4262120,
          4220020,
          4154970,
          4101250,
          4051910,
          4047570,
          4119390,
          4194060,
          4318060,
          4359440,
          4323840,
          4337090,
          4358110,
          4318610,
          4256910,
          4180860,
          4108790,
          4064600,
          4141530,
          4219460,
          4326220,
          4356740,
          4354360,
          4367790,
          4368430,
          4334720,
          4291380,
          4203110,
          4136390,
          4111790,
          4123390,
          4182330,
          4235420,
          4223620,
          4196490,
          4174560,
          4155020,
          4092360,
          3974720,
          3840930,
          3767780,
          3708990,
          3745450,
          3807830,
          3818700,
          3808920,
          3757840,
          3728490,
          3722210,
          3660310,
          3589340,
          3518390,
          3470980,
          3428100,
          3507410,
          3577820,
          3646770,
          3717750,
          3743280,
          3744530,
          3781900,
          3745030,
          3703560,
          3660540
         ]
        },
        {
         "mode": "markers+lines",
         "name": "Chirac 2",
         "type": "scatter",
         "x": [
          "Mai 2002",
          "Juin 2002",
          "Juillet 2002",
          "Août 2002",
          "Septembre 2002",
          "Octobre 2002",
          "Novembre 2002",
          "Décembre 2002",
          "Janvier 2003",
          "Février 2003",
          "Mars 2003",
          "Avril 2003",
          "Mai 2003",
          "Juin 2003",
          "Juillet 2003",
          "Août 2003",
          "Septembre 2003",
          "Octobre 2003",
          "Novembre 2003",
          "Décembre 2003",
          "Janvier 2004",
          "Février 2004",
          "Mars 2004",
          "Avril 2004",
          "Mai 2004",
          "Juin 2004",
          "Juillet 2004",
          "Août 2004",
          "Septembre 2004",
          "Octobre 2004",
          "Novembre 2004",
          "Décembre 2004",
          "Janvier 2005",
          "Février 2005",
          "Mars 2005",
          "Avril 2005",
          "Mai 2005",
          "Juin 2005",
          "Juillet 2005",
          "Août 2005",
          "Septembre 2005",
          "Octobre 2005",
          "Novembre 2005",
          "Décembre 2005",
          "Janvier 2006",
          "Février 2006",
          "Mars 2006",
          "Avril 2006",
          "Mai 2006",
          "Juin 2006",
          "Juillet 2006",
          "Août 2006",
          "Septembre 2006",
          "Octobre 2006",
          "Novembre 2006",
          "Décembre 2006",
          "Janvier 2007",
          "Février 2007",
          "Mars 2007",
          "Avril 2007"
         ],
         "y": [
          3597460,
          3569070,
          3664180,
          3717170,
          3806350,
          3849350,
          3853970,
          3863930,
          3910990,
          3897230,
          3852510,
          3797430,
          3722780,
          3720880,
          3804480,
          3872390,
          4011480,
          4053200,
          4036120,
          4059440,
          4038700,
          3999880,
          3948530,
          3884090,
          3847210,
          3851820,
          3914740,
          4014670,
          4104600,
          4133340,
          4157320,
          4157880,
          4182880,
          4153510,
          4098740,
          4022110,
          3988330,
          3925500,
          3961560,
          4034200,
          4096430,
          4081240,
          4046270,
          4018610,
          4021050,
          3961660,
          3872680,
          3750060,
          3668850,
          3600440,
          3609590,
          3675080,
          3707080,
          3710640,
          3680060,
          3627630,
          3632640,
          3572980,
          3493460,
          3394970
         ]
        },
        {
         "mode": "markers+lines",
         "name": "Sarkozy",
         "type": "scatter",
         "x": [
          "Mai 2007",
          "Juin 2007",
          "Juillet 2007",
          "Août 2007",
          "Septembre 2007",
          "Octobre 2007",
          "Novembre 2007",
          "Décembre 2007",
          "Janvier 2008",
          "Février 2008",
          "Mars 2008",
          "Avril 2008",
          "Mai 2008",
          "Juin 2008",
          "Juillet 2008",
          "Août 2008",
          "Septembre 2008",
          "Octobre 2008",
          "Novembre 2008",
          "Décembre 2008",
          "Janvier 2009",
          "Février 2009",
          "Mars 2009",
          "Avril 2009",
          "Mai 2009",
          "Juin 2009",
          "Juillet 2009",
          "Août 2009",
          "Septembre 2009",
          "Octobre 2009",
          "Novembre 2009",
          "Décembre 2009",
          "Janvier 2010",
          "Février 2010",
          "Mars 2010",
          "Avril 2010",
          "Mai 2010",
          "Juin 2010",
          "Juillet 2010",
          "Août 2010",
          "Septembre 2010",
          "Octobre 2010",
          "Novembre 2010",
          "Décembre 2010",
          "Janvier 2011",
          "Février 2011",
          "Mars 2011",
          "Avril 2011",
          "Mai 2011",
          "Juin 2011",
          "Juillet 2011",
          "Août 2011",
          "Septembre 2011",
          "Octobre 2011",
          "Novembre 2011",
          "Décembre 2011",
          "Janvier 2012",
          "Février 2012",
          "Mars 2012",
          "Avril 2012"
         ],
         "y": [
          3324890,
          3255180,
          3286390,
          3354960,
          3395990,
          3401590,
          3366490,
          3320130,
          3370740,
          3329440,
          3262720,
          3208590,
          3147280,
          3116590,
          3174850,
          3248690,
          3344420,
          3425150,
          3453450,
          3497950,
          3608390,
          3662860,
          3696110,
          3714850,
          3708180,
          3683030,
          3773950,
          3903260,
          4033560,
          4117290,
          4142860,
          4139880,
          4204540,
          4195240,
          4160830,
          4109900,
          4064780,
          4030070,
          4080090,
          4181670,
          4287500,
          4307850,
          4337220,
          4347700,
          4404720,
          4379720,
          4334840,
          4259580,
          4243640,
          4203810,
          4263960,
          4368860,
          4479900,
          4525480,
          4572300,
          4579830,
          4644140,
          4630450,
          4601890,
          4533830
         ]
        },
        {
         "mode": "markers+lines",
         "name": "Hollande",
         "type": "scatter",
         "x": [
          "Mai 2012",
          "Juin 2012",
          "Juillet 2012",
          "Août 2012",
          "Septembre 2012",
          "Octobre 2012",
          "Novembre 2012",
          "Décembre 2012",
          "Janvier 2013",
          "Février 2013",
          "Mars 2013",
          "Avril 2013",
          "Mai 2013",
          "Juin 2013",
          "Juillet 2013",
          "Août 2013",
          "Septembre 2013",
          "Octobre 2013",
          "Novembre 2013",
          "Décembre 2013",
          "Janvier 2014",
          "Février 2014",
          "Mars 2014",
          "Avril 2014",
          "Mai 2014",
          "Juin 2014",
          "Juillet 2014",
          "Août 2014",
          "Septembre 2014",
          "Octobre 2014",
          "Novembre 2014",
          "Décembre 2014",
          "Janvier 2015",
          "Février 2015",
          "Mars 2015",
          "Avril 2015",
          "Mai 2015",
          "Juin 2015",
          "Juillet 2015",
          "Août 2015",
          "Septembre 2015",
          "Octobre 2015",
          "Novembre 2015",
          "Décembre 2015",
          "Janvier 2016",
          "Février 2016",
          "Mars 2016",
          "Avril 2016",
          "Mai 2016",
          "Juin 2016",
          "Juillet 2016",
          "Août 2016",
          "Septembre 2016",
          "Octobre 2016",
          "Novembre 2016",
          "Décembre 2016",
          "Janvier 2017",
          "Février 2017",
          "Mars 2017",
          "Avril 2017"
         ],
         "y": [
          4506400,
          4498600,
          4600970,
          4728170,
          4836330,
          4944980,
          4989000,
          4972380,
          5087150,
          5071820,
          5041060,
          5022150,
          4956740,
          4902220,
          5017490,
          5040290,
          5187690,
          5274670,
          5267090,
          5264700,
          5342100,
          5301380,
          5261690,
          5230690,
          5188740,
          5155080,
          5262840,
          5327350,
          5475450,
          5555440,
          5562350,
          5588620,
          5647960,
          5627240,
          5607520,
          5591500,
          5579910,
          5528940,
          5605740,
          5676640,
          5781690,
          5839770,
          5832590,
          5854220,
          5865290,
          5829170,
          5767220,
          5649840,
          5617580,
          5576100,
          5636260,
          5779500,
          5830370,
          5845110,
          5857270,
          5846520,
          5901700,
          5877140,
          5818610,
          5763300
         ]
        },
        {
         "mode": "markers+lines",
         "name": "Macron",
         "type": "scatter",
         "x": [
          "Mai 2017",
          "Juin 2017",
          "Juillet 2017",
          "Août 2017",
          "Septembre 2017",
          "Octobre 2017",
          "Novembre 2017",
          "Décembre 2017",
          "Janvier 2018",
          "Février 2018",
          "Mars 2018",
          "Avril 2018",
          "Mai 2018",
          "Juin 2018",
          "Juillet 2018",
          "Août 2018",
          "Septembre 2018",
          "Octobre 2018",
          "Novembre 2018",
          "Décembre 2018",
          "Janvier 2019",
          "Février 2019",
          "Mars 2019",
          "Avril 2019",
          "Mai 2019",
          "Juin 2019",
          "Juillet 2019",
          "Août 2019",
          "Septembre 2019",
          "Octobre 2019",
          "Novembre 2019",
          "Décembre 2019",
          "Janvier 2020",
          "Février 2020",
          "Mars 2020",
          "Avril 2020",
          "Mai 2020",
          "Juin 2020",
          "Juillet 2020",
          "Août 2020",
          "Septembre 2020",
          "Octobre 2020",
          "Novembre 2020",
          "Décembre 2020",
          "Janvier 2021",
          "Février 2021",
          "Mars 2021",
          "Avril 2021",
          "Mai 2021",
          "Juin 2021",
          "Juillet 2021",
          "Août 2021",
          "Septembre 2021",
          "Octobre 2021",
          "Novembre 2021",
          "Décembre 2021",
          "Janvier 2022",
          "Février 2022"
         ],
         "y": [
          5749920,
          5698250,
          5811060,
          5924840,
          5968300,
          6013020,
          6015050,
          5989620,
          6034910,
          5990820,
          5927010,
          5865370,
          5839890,
          5764440,
          5872840,
          5962040,
          6003920,
          6029160,
          5978880,
          5970920,
          6016630,
          5959220,
          5899170,
          5818260,
          5763330,
          5721580,
          5798720,
          5839460,
          5857960,
          5871900,
          5790070,
          5781100,
          5788690,
          5721450,
          5848250,
          5993030,
          6002110,
          5990250,
          6044720,
          6111370,
          6115390,
          6092710,
          6067440,
          6074700,
          6089250,
          6057890,
          6022230,
          5943150,
          5861620,
          5816130,
          5852670,
          5896310,
          5865610,
          5783860,
          5723190,
          5663990,
          5629120,
          5554420
         ]
        }
       ],
       "layout": {
        "font": {
         "color": "Black",
         "family": "Arial",
         "size": 18
        },
        "template": {
         "data": {
          "bar": [
           {
            "error_x": {
             "color": "#2a3f5f"
            },
            "error_y": {
             "color": "#2a3f5f"
            },
            "marker": {
             "line": {
              "color": "#E5ECF6",
              "width": 0.5
             },
             "pattern": {
              "fillmode": "overlay",
              "size": 10,
              "solidity": 0.2
             }
            },
            "type": "bar"
           }
          ],
          "barpolar": [
           {
            "marker": {
             "line": {
              "color": "#E5ECF6",
              "width": 0.5
             },
             "pattern": {
              "fillmode": "overlay",
              "size": 10,
              "solidity": 0.2
             }
            },
            "type": "barpolar"
           }
          ],
          "carpet": [
           {
            "aaxis": {
             "endlinecolor": "#2a3f5f",
             "gridcolor": "white",
             "linecolor": "white",
             "minorgridcolor": "white",
             "startlinecolor": "#2a3f5f"
            },
            "baxis": {
             "endlinecolor": "#2a3f5f",
             "gridcolor": "white",
             "linecolor": "white",
             "minorgridcolor": "white",
             "startlinecolor": "#2a3f5f"
            },
            "type": "carpet"
           }
          ],
          "choropleth": [
           {
            "colorbar": {
             "outlinewidth": 0,
             "ticks": ""
            },
            "type": "choropleth"
           }
          ],
          "contour": [
           {
            "colorbar": {
             "outlinewidth": 0,
             "ticks": ""
            },
            "colorscale": [
             [
              0,
              "#0d0887"
             ],
             [
              0.1111111111111111,
              "#46039f"
             ],
             [
              0.2222222222222222,
              "#7201a8"
             ],
             [
              0.3333333333333333,
              "#9c179e"
             ],
             [
              0.4444444444444444,
              "#bd3786"
             ],
             [
              0.5555555555555556,
              "#d8576b"
             ],
             [
              0.6666666666666666,
              "#ed7953"
             ],
             [
              0.7777777777777778,
              "#fb9f3a"
             ],
             [
              0.8888888888888888,
              "#fdca26"
             ],
             [
              1,
              "#f0f921"
             ]
            ],
            "type": "contour"
           }
          ],
          "contourcarpet": [
           {
            "colorbar": {
             "outlinewidth": 0,
             "ticks": ""
            },
            "type": "contourcarpet"
           }
          ],
          "heatmap": [
           {
            "colorbar": {
             "outlinewidth": 0,
             "ticks": ""
            },
            "colorscale": [
             [
              0,
              "#0d0887"
             ],
             [
              0.1111111111111111,
              "#46039f"
             ],
             [
              0.2222222222222222,
              "#7201a8"
             ],
             [
              0.3333333333333333,
              "#9c179e"
             ],
             [
              0.4444444444444444,
              "#bd3786"
             ],
             [
              0.5555555555555556,
              "#d8576b"
             ],
             [
              0.6666666666666666,
              "#ed7953"
             ],
             [
              0.7777777777777778,
              "#fb9f3a"
             ],
             [
              0.8888888888888888,
              "#fdca26"
             ],
             [
              1,
              "#f0f921"
             ]
            ],
            "type": "heatmap"
           }
          ],
          "heatmapgl": [
           {
            "colorbar": {
             "outlinewidth": 0,
             "ticks": ""
            },
            "colorscale": [
             [
              0,
              "#0d0887"
             ],
             [
              0.1111111111111111,
              "#46039f"
             ],
             [
              0.2222222222222222,
              "#7201a8"
             ],
             [
              0.3333333333333333,
              "#9c179e"
             ],
             [
              0.4444444444444444,
              "#bd3786"
             ],
             [
              0.5555555555555556,
              "#d8576b"
             ],
             [
              0.6666666666666666,
              "#ed7953"
             ],
             [
              0.7777777777777778,
              "#fb9f3a"
             ],
             [
              0.8888888888888888,
              "#fdca26"
             ],
             [
              1,
              "#f0f921"
             ]
            ],
            "type": "heatmapgl"
           }
          ],
          "histogram": [
           {
            "marker": {
             "pattern": {
              "fillmode": "overlay",
              "size": 10,
              "solidity": 0.2
             }
            },
            "type": "histogram"
           }
          ],
          "histogram2d": [
           {
            "colorbar": {
             "outlinewidth": 0,
             "ticks": ""
            },
            "colorscale": [
             [
              0,
              "#0d0887"
             ],
             [
              0.1111111111111111,
              "#46039f"
             ],
             [
              0.2222222222222222,
              "#7201a8"
             ],
             [
              0.3333333333333333,
              "#9c179e"
             ],
             [
              0.4444444444444444,
              "#bd3786"
             ],
             [
              0.5555555555555556,
              "#d8576b"
             ],
             [
              0.6666666666666666,
              "#ed7953"
             ],
             [
              0.7777777777777778,
              "#fb9f3a"
             ],
             [
              0.8888888888888888,
              "#fdca26"
             ],
             [
              1,
              "#f0f921"
             ]
            ],
            "type": "histogram2d"
           }
          ],
          "histogram2dcontour": [
           {
            "colorbar": {
             "outlinewidth": 0,
             "ticks": ""
            },
            "colorscale": [
             [
              0,
              "#0d0887"
             ],
             [
              0.1111111111111111,
              "#46039f"
             ],
             [
              0.2222222222222222,
              "#7201a8"
             ],
             [
              0.3333333333333333,
              "#9c179e"
             ],
             [
              0.4444444444444444,
              "#bd3786"
             ],
             [
              0.5555555555555556,
              "#d8576b"
             ],
             [
              0.6666666666666666,
              "#ed7953"
             ],
             [
              0.7777777777777778,
              "#fb9f3a"
             ],
             [
              0.8888888888888888,
              "#fdca26"
             ],
             [
              1,
              "#f0f921"
             ]
            ],
            "type": "histogram2dcontour"
           }
          ],
          "mesh3d": [
           {
            "colorbar": {
             "outlinewidth": 0,
             "ticks": ""
            },
            "type": "mesh3d"
           }
          ],
          "parcoords": [
           {
            "line": {
             "colorbar": {
              "outlinewidth": 0,
              "ticks": ""
             }
            },
            "type": "parcoords"
           }
          ],
          "pie": [
           {
            "automargin": true,
            "type": "pie"
           }
          ],
          "scatter": [
           {
            "marker": {
             "colorbar": {
              "outlinewidth": 0,
              "ticks": ""
             }
            },
            "type": "scatter"
           }
          ],
          "scatter3d": [
           {
            "line": {
             "colorbar": {
              "outlinewidth": 0,
              "ticks": ""
             }
            },
            "marker": {
             "colorbar": {
              "outlinewidth": 0,
              "ticks": ""
             }
            },
            "type": "scatter3d"
           }
          ],
          "scattercarpet": [
           {
            "marker": {
             "colorbar": {
              "outlinewidth": 0,
              "ticks": ""
             }
            },
            "type": "scattercarpet"
           }
          ],
          "scattergeo": [
           {
            "marker": {
             "colorbar": {
              "outlinewidth": 0,
              "ticks": ""
             }
            },
            "type": "scattergeo"
           }
          ],
          "scattergl": [
           {
            "marker": {
             "colorbar": {
              "outlinewidth": 0,
              "ticks": ""
             }
            },
            "type": "scattergl"
           }
          ],
          "scattermapbox": [
           {
            "marker": {
             "colorbar": {
              "outlinewidth": 0,
              "ticks": ""
             }
            },
            "type": "scattermapbox"
           }
          ],
          "scatterpolar": [
           {
            "marker": {
             "colorbar": {
              "outlinewidth": 0,
              "ticks": ""
             }
            },
            "type": "scatterpolar"
           }
          ],
          "scatterpolargl": [
           {
            "marker": {
             "colorbar": {
              "outlinewidth": 0,
              "ticks": ""
             }
            },
            "type": "scatterpolargl"
           }
          ],
          "scatterternary": [
           {
            "marker": {
             "colorbar": {
              "outlinewidth": 0,
              "ticks": ""
             }
            },
            "type": "scatterternary"
           }
          ],
          "surface": [
           {
            "colorbar": {
             "outlinewidth": 0,
             "ticks": ""
            },
            "colorscale": [
             [
              0,
              "#0d0887"
             ],
             [
              0.1111111111111111,
              "#46039f"
             ],
             [
              0.2222222222222222,
              "#7201a8"
             ],
             [
              0.3333333333333333,
              "#9c179e"
             ],
             [
              0.4444444444444444,
              "#bd3786"
             ],
             [
              0.5555555555555556,
              "#d8576b"
             ],
             [
              0.6666666666666666,
              "#ed7953"
             ],
             [
              0.7777777777777778,
              "#fb9f3a"
             ],
             [
              0.8888888888888888,
              "#fdca26"
             ],
             [
              1,
              "#f0f921"
             ]
            ],
            "type": "surface"
           }
          ],
          "table": [
           {
            "cells": {
             "fill": {
              "color": "#EBF0F8"
             },
             "line": {
              "color": "white"
             }
            },
            "header": {
             "fill": {
              "color": "#C8D4E3"
             },
             "line": {
              "color": "white"
             }
            },
            "type": "table"
           }
          ]
         },
         "layout": {
          "annotationdefaults": {
           "arrowcolor": "#2a3f5f",
           "arrowhead": 0,
           "arrowwidth": 1
          },
          "autotypenumbers": "strict",
          "coloraxis": {
           "colorbar": {
            "outlinewidth": 0,
            "ticks": ""
           }
          },
          "colorscale": {
           "diverging": [
            [
             0,
             "#8e0152"
            ],
            [
             0.1,
             "#c51b7d"
            ],
            [
             0.2,
             "#de77ae"
            ],
            [
             0.3,
             "#f1b6da"
            ],
            [
             0.4,
             "#fde0ef"
            ],
            [
             0.5,
             "#f7f7f7"
            ],
            [
             0.6,
             "#e6f5d0"
            ],
            [
             0.7,
             "#b8e186"
            ],
            [
             0.8,
             "#7fbc41"
            ],
            [
             0.9,
             "#4d9221"
            ],
            [
             1,
             "#276419"
            ]
           ],
           "sequential": [
            [
             0,
             "#0d0887"
            ],
            [
             0.1111111111111111,
             "#46039f"
            ],
            [
             0.2222222222222222,
             "#7201a8"
            ],
            [
             0.3333333333333333,
             "#9c179e"
            ],
            [
             0.4444444444444444,
             "#bd3786"
            ],
            [
             0.5555555555555556,
             "#d8576b"
            ],
            [
             0.6666666666666666,
             "#ed7953"
            ],
            [
             0.7777777777777778,
             "#fb9f3a"
            ],
            [
             0.8888888888888888,
             "#fdca26"
            ],
            [
             1,
             "#f0f921"
            ]
           ],
           "sequentialminus": [
            [
             0,
             "#0d0887"
            ],
            [
             0.1111111111111111,
             "#46039f"
            ],
            [
             0.2222222222222222,
             "#7201a8"
            ],
            [
             0.3333333333333333,
             "#9c179e"
            ],
            [
             0.4444444444444444,
             "#bd3786"
            ],
            [
             0.5555555555555556,
             "#d8576b"
            ],
            [
             0.6666666666666666,
             "#ed7953"
            ],
            [
             0.7777777777777778,
             "#fb9f3a"
            ],
            [
             0.8888888888888888,
             "#fdca26"
            ],
            [
             1,
             "#f0f921"
            ]
           ]
          },
          "colorway": [
           "#636efa",
           "#EF553B",
           "#00cc96",
           "#ab63fa",
           "#FFA15A",
           "#19d3f3",
           "#FF6692",
           "#B6E880",
           "#FF97FF",
           "#FECB52"
          ],
          "font": {
           "color": "#2a3f5f"
          },
          "geo": {
           "bgcolor": "white",
           "lakecolor": "white",
           "landcolor": "#E5ECF6",
           "showlakes": true,
           "showland": true,
           "subunitcolor": "white"
          },
          "hoverlabel": {
           "align": "left"
          },
          "hovermode": "closest",
          "mapbox": {
           "style": "light"
          },
          "paper_bgcolor": "white",
          "plot_bgcolor": "#E5ECF6",
          "polar": {
           "angularaxis": {
            "gridcolor": "white",
            "linecolor": "white",
            "ticks": ""
           },
           "bgcolor": "#E5ECF6",
           "radialaxis": {
            "gridcolor": "white",
            "linecolor": "white",
            "ticks": ""
           }
          },
          "scene": {
           "xaxis": {
            "backgroundcolor": "#E5ECF6",
            "gridcolor": "white",
            "gridwidth": 2,
            "linecolor": "white",
            "showbackground": true,
            "ticks": "",
            "zerolinecolor": "white"
           },
           "yaxis": {
            "backgroundcolor": "#E5ECF6",
            "gridcolor": "white",
            "gridwidth": 2,
            "linecolor": "white",
            "showbackground": true,
            "ticks": "",
            "zerolinecolor": "white"
           },
           "zaxis": {
            "backgroundcolor": "#E5ECF6",
            "gridcolor": "white",
            "gridwidth": 2,
            "linecolor": "white",
            "showbackground": true,
            "ticks": "",
            "zerolinecolor": "white"
           }
          },
          "shapedefaults": {
           "line": {
            "color": "#2a3f5f"
           }
          },
          "ternary": {
           "aaxis": {
            "gridcolor": "white",
            "linecolor": "white",
            "ticks": ""
           },
           "baxis": {
            "gridcolor": "white",
            "linecolor": "white",
            "ticks": ""
           },
           "bgcolor": "#E5ECF6",
           "caxis": {
            "gridcolor": "white",
            "linecolor": "white",
            "ticks": ""
           }
          },
          "title": {
           "x": 0.05
          },
          "xaxis": {
           "automargin": true,
           "gridcolor": "white",
           "linecolor": "white",
           "ticks": "",
           "title": {
            "standoff": 15
           },
           "zerolinecolor": "white",
           "zerolinewidth": 2
          },
          "yaxis": {
           "automargin": true,
           "gridcolor": "white",
           "linecolor": "white",
           "ticks": "",
           "title": {
            "standoff": 15
           },
           "zerolinecolor": "white",
           "zerolinewidth": 2
          }
         }
        },
        "title": {
         "font": {
          "size": 25
         },
         "text": "Catégorie A+B+C",
         "x": 0.5,
         "xanchor": "center"
        },
        "xaxis": {
         "dtick": 12,
         "tickmode": "linear"
        }
       }
      },
      "text/html": [
       "<div>                            <div id=\"ae8f6fda-9018-4153-898e-868dfad909cc\" class=\"plotly-graph-div\" style=\"height:525px; width:100%;\"></div>            <script type=\"text/javascript\">                require([\"plotly\"], function(Plotly) {                    window.PLOTLYENV=window.PLOTLYENV || {};                                    if (document.getElementById(\"ae8f6fda-9018-4153-898e-868dfad909cc\")) {                    Plotly.newPlot(                        \"ae8f6fda-9018-4153-898e-868dfad909cc\",                        [{\"mode\":\"markers+lines\",\"name\":\"Chirac\",\"x\":[\"Janvier 1996\",\"F\\u00e9vrier 1996\",\"Mars 1996\",\"Avril 1996\",\"Mai 1996\",\"Juin 1996\",\"Juillet 1996\",\"Ao\\u00fbt 1996\",\"Septembre 1996\",\"Octobre 1996\",\"Novembre 1996\",\"D\\u00e9cembre 1996\",\"Janvier 1997\",\"F\\u00e9vrier 1997\",\"Mars 1997\",\"Avril 1997\",\"Mai 1997\",\"Juin 1997\",\"Juillet 1997\",\"Ao\\u00fbt 1997\",\"Septembre 1997\",\"Octobre 1997\",\"Novembre 1997\",\"D\\u00e9cembre 1997\",\"Janvier 1998\",\"F\\u00e9vrier 1998\",\"Mars 1998\",\"Avril 1998\",\"Mai 1998\",\"Juin 1998\",\"Juillet 1998\",\"Ao\\u00fbt 1998\",\"Septembre 1998\",\"Octobre 1998\",\"Novembre 1998\",\"D\\u00e9cembre 1998\",\"Janvier 1999\",\"F\\u00e9vrier 1999\",\"Mars 1999\",\"Avril 1999\",\"Mai 1999\",\"Juin 1999\",\"Juillet 1999\",\"Ao\\u00fbt 1999\",\"Septembre 1999\",\"Octobre 1999\",\"Novembre 1999\",\"D\\u00e9cembre 1999\",\"Janvier 2000\",\"F\\u00e9vrier 2000\",\"Mars 2000\",\"Avril 2000\",\"Mai 2000\",\"Juin 2000\",\"Juillet 2000\",\"Ao\\u00fbt 2000\",\"Septembre 2000\",\"Octobre 2000\",\"Novembre 2000\",\"D\\u00e9cembre 2000\",\"Janvier 2001\",\"F\\u00e9vrier 2001\",\"Mars 2001\",\"Avril 2001\",\"Mai 2001\",\"Juin 2001\",\"Juillet 2001\",\"Ao\\u00fbt 2001\",\"Septembre 2001\",\"Octobre 2001\",\"Novembre 2001\",\"D\\u00e9cembre 2001\",\"Janvier 2002\",\"F\\u00e9vrier 2002\",\"Mars 2002\",\"Avril 2002\"],\"y\":[4054450.0,4030480.0,3978410.0,3897930.0,3854800.0,3835100.0,3933360.0,4033730.0,4143710.0,4196570.0,4189620.0,4209450.0,4262120.0,4220020.0,4154970.0,4101250.0,4051910.0,4047570.0,4119390.0,4194060.0,4318060.0,4359440.0,4323840.0,4337090.0,4358110.0,4318610.0,4256910.0,4180860.0,4108790.0,4064600.0,4141530.0,4219460.0,4326220.0,4356740.0,4354360.0,4367790.0,4368430.0,4334720.0,4291380.0,4203110.0,4136390.0,4111790.0,4123390.0,4182330.0,4235420.0,4223620.0,4196490.0,4174560.0,4155020.0,4092360.0,3974720.0,3840930.0,3767780.0,3708990.0,3745450.0,3807830.0,3818700.0,3808920.0,3757840.0,3728490.0,3722210.0,3660310.0,3589340.0,3518390.0,3470980.0,3428100.0,3507410.0,3577820.0,3646770.0,3717750.0,3743280.0,3744530.0,3781900.0,3745030.0,3703560.0,3660540.0],\"type\":\"scatter\"},{\"mode\":\"markers+lines\",\"name\":\"Chirac 2\",\"x\":[\"Mai 2002\",\"Juin 2002\",\"Juillet 2002\",\"Ao\\u00fbt 2002\",\"Septembre 2002\",\"Octobre 2002\",\"Novembre 2002\",\"D\\u00e9cembre 2002\",\"Janvier 2003\",\"F\\u00e9vrier 2003\",\"Mars 2003\",\"Avril 2003\",\"Mai 2003\",\"Juin 2003\",\"Juillet 2003\",\"Ao\\u00fbt 2003\",\"Septembre 2003\",\"Octobre 2003\",\"Novembre 2003\",\"D\\u00e9cembre 2003\",\"Janvier 2004\",\"F\\u00e9vrier 2004\",\"Mars 2004\",\"Avril 2004\",\"Mai 2004\",\"Juin 2004\",\"Juillet 2004\",\"Ao\\u00fbt 2004\",\"Septembre 2004\",\"Octobre 2004\",\"Novembre 2004\",\"D\\u00e9cembre 2004\",\"Janvier 2005\",\"F\\u00e9vrier 2005\",\"Mars 2005\",\"Avril 2005\",\"Mai 2005\",\"Juin 2005\",\"Juillet 2005\",\"Ao\\u00fbt 2005\",\"Septembre 2005\",\"Octobre 2005\",\"Novembre 2005\",\"D\\u00e9cembre 2005\",\"Janvier 2006\",\"F\\u00e9vrier 2006\",\"Mars 2006\",\"Avril 2006\",\"Mai 2006\",\"Juin 2006\",\"Juillet 2006\",\"Ao\\u00fbt 2006\",\"Septembre 2006\",\"Octobre 2006\",\"Novembre 2006\",\"D\\u00e9cembre 2006\",\"Janvier 2007\",\"F\\u00e9vrier 2007\",\"Mars 2007\",\"Avril 2007\"],\"y\":[3597460.0,3569070.0,3664180.0,3717170.0,3806350.0,3849350.0,3853970.0,3863930.0,3910990.0,3897230.0,3852510.0,3797430.0,3722780.0,3720880.0,3804480.0,3872390.0,4011480.0,4053200.0,4036120.0,4059440.0,4038700.0,3999880.0,3948530.0,3884090.0,3847210.0,3851820.0,3914740.0,4014670.0,4104600.0,4133340.0,4157320.0,4157880.0,4182880.0,4153510.0,4098740.0,4022110.0,3988330.0,3925500.0,3961560.0,4034200.0,4096430.0,4081240.0,4046270.0,4018610.0,4021050.0,3961660.0,3872680.0,3750060.0,3668850.0,3600440.0,3609590.0,3675080.0,3707080.0,3710640.0,3680060.0,3627630.0,3632640.0,3572980.0,3493460.0,3394970.0],\"type\":\"scatter\"},{\"mode\":\"markers+lines\",\"name\":\"Sarkozy\",\"x\":[\"Mai 2007\",\"Juin 2007\",\"Juillet 2007\",\"Ao\\u00fbt 2007\",\"Septembre 2007\",\"Octobre 2007\",\"Novembre 2007\",\"D\\u00e9cembre 2007\",\"Janvier 2008\",\"F\\u00e9vrier 2008\",\"Mars 2008\",\"Avril 2008\",\"Mai 2008\",\"Juin 2008\",\"Juillet 2008\",\"Ao\\u00fbt 2008\",\"Septembre 2008\",\"Octobre 2008\",\"Novembre 2008\",\"D\\u00e9cembre 2008\",\"Janvier 2009\",\"F\\u00e9vrier 2009\",\"Mars 2009\",\"Avril 2009\",\"Mai 2009\",\"Juin 2009\",\"Juillet 2009\",\"Ao\\u00fbt 2009\",\"Septembre 2009\",\"Octobre 2009\",\"Novembre 2009\",\"D\\u00e9cembre 2009\",\"Janvier 2010\",\"F\\u00e9vrier 2010\",\"Mars 2010\",\"Avril 2010\",\"Mai 2010\",\"Juin 2010\",\"Juillet 2010\",\"Ao\\u00fbt 2010\",\"Septembre 2010\",\"Octobre 2010\",\"Novembre 2010\",\"D\\u00e9cembre 2010\",\"Janvier 2011\",\"F\\u00e9vrier 2011\",\"Mars 2011\",\"Avril 2011\",\"Mai 2011\",\"Juin 2011\",\"Juillet 2011\",\"Ao\\u00fbt 2011\",\"Septembre 2011\",\"Octobre 2011\",\"Novembre 2011\",\"D\\u00e9cembre 2011\",\"Janvier 2012\",\"F\\u00e9vrier 2012\",\"Mars 2012\",\"Avril 2012\"],\"y\":[3324890.0,3255180.0,3286390.0,3354960.0,3395990.0,3401590.0,3366490.0,3320130.0,3370740.0,3329440.0,3262720.0,3208590.0,3147280.0,3116590.0,3174850.0,3248690.0,3344420.0,3425150.0,3453450.0,3497950.0,3608390.0,3662860.0,3696110.0,3714850.0,3708180.0,3683030.0,3773950.0,3903260.0,4033560.0,4117290.0,4142860.0,4139880.0,4204540.0,4195240.0,4160830.0,4109900.0,4064780.0,4030070.0,4080090.0,4181670.0,4287500.0,4307850.0,4337220.0,4347700.0,4404720.0,4379720.0,4334840.0,4259580.0,4243640.0,4203810.0,4263960.0,4368860.0,4479900.0,4525480.0,4572300.0,4579830.0,4644140.0,4630450.0,4601890.0,4533830.0],\"type\":\"scatter\"},{\"mode\":\"markers+lines\",\"name\":\"Hollande\",\"x\":[\"Mai 2012\",\"Juin 2012\",\"Juillet 2012\",\"Ao\\u00fbt 2012\",\"Septembre 2012\",\"Octobre 2012\",\"Novembre 2012\",\"D\\u00e9cembre 2012\",\"Janvier 2013\",\"F\\u00e9vrier 2013\",\"Mars 2013\",\"Avril 2013\",\"Mai 2013\",\"Juin 2013\",\"Juillet 2013\",\"Ao\\u00fbt 2013\",\"Septembre 2013\",\"Octobre 2013\",\"Novembre 2013\",\"D\\u00e9cembre 2013\",\"Janvier 2014\",\"F\\u00e9vrier 2014\",\"Mars 2014\",\"Avril 2014\",\"Mai 2014\",\"Juin 2014\",\"Juillet 2014\",\"Ao\\u00fbt 2014\",\"Septembre 2014\",\"Octobre 2014\",\"Novembre 2014\",\"D\\u00e9cembre 2014\",\"Janvier 2015\",\"F\\u00e9vrier 2015\",\"Mars 2015\",\"Avril 2015\",\"Mai 2015\",\"Juin 2015\",\"Juillet 2015\",\"Ao\\u00fbt 2015\",\"Septembre 2015\",\"Octobre 2015\",\"Novembre 2015\",\"D\\u00e9cembre 2015\",\"Janvier 2016\",\"F\\u00e9vrier 2016\",\"Mars 2016\",\"Avril 2016\",\"Mai 2016\",\"Juin 2016\",\"Juillet 2016\",\"Ao\\u00fbt 2016\",\"Septembre 2016\",\"Octobre 2016\",\"Novembre 2016\",\"D\\u00e9cembre 2016\",\"Janvier 2017\",\"F\\u00e9vrier 2017\",\"Mars 2017\",\"Avril 2017\"],\"y\":[4506400.0,4498600.0,4600970.0,4728170.0,4836330.0,4944980.0,4989000.0,4972380.0,5087150.0,5071820.0,5041060.0,5022150.0,4956740.0,4902220.0,5017490.0,5040290.0,5187690.0,5274670.0,5267090.0,5264700.0,5342100.0,5301380.0,5261690.0,5230690.0,5188740.0,5155080.0,5262840.0,5327350.0,5475450.0,5555440.0,5562350.0,5588620.0,5647960.0,5627240.0,5607520.0,5591500.0,5579910.0,5528940.0,5605740.0,5676640.0,5781690.0,5839770.0,5832590.0,5854220.0,5865290.0,5829170.0,5767220.0,5649840.0,5617580.0,5576100.0,5636260.0,5779500.0,5830370.0,5845110.0,5857270.0,5846520.0,5901700.0,5877140.0,5818610.0,5763300.0],\"type\":\"scatter\"},{\"mode\":\"markers+lines\",\"name\":\"Macron\",\"x\":[\"Mai 2017\",\"Juin 2017\",\"Juillet 2017\",\"Ao\\u00fbt 2017\",\"Septembre 2017\",\"Octobre 2017\",\"Novembre 2017\",\"D\\u00e9cembre 2017\",\"Janvier 2018\",\"F\\u00e9vrier 2018\",\"Mars 2018\",\"Avril 2018\",\"Mai 2018\",\"Juin 2018\",\"Juillet 2018\",\"Ao\\u00fbt 2018\",\"Septembre 2018\",\"Octobre 2018\",\"Novembre 2018\",\"D\\u00e9cembre 2018\",\"Janvier 2019\",\"F\\u00e9vrier 2019\",\"Mars 2019\",\"Avril 2019\",\"Mai 2019\",\"Juin 2019\",\"Juillet 2019\",\"Ao\\u00fbt 2019\",\"Septembre 2019\",\"Octobre 2019\",\"Novembre 2019\",\"D\\u00e9cembre 2019\",\"Janvier 2020\",\"F\\u00e9vrier 2020\",\"Mars 2020\",\"Avril 2020\",\"Mai 2020\",\"Juin 2020\",\"Juillet 2020\",\"Ao\\u00fbt 2020\",\"Septembre 2020\",\"Octobre 2020\",\"Novembre 2020\",\"D\\u00e9cembre 2020\",\"Janvier 2021\",\"F\\u00e9vrier 2021\",\"Mars 2021\",\"Avril 2021\",\"Mai 2021\",\"Juin 2021\",\"Juillet 2021\",\"Ao\\u00fbt 2021\",\"Septembre 2021\",\"Octobre 2021\",\"Novembre 2021\",\"D\\u00e9cembre 2021\",\"Janvier 2022\",\"F\\u00e9vrier 2022\"],\"y\":[5749920.0,5698250.0,5811060.0,5924840.0,5968300.0,6013020.0,6015050.0,5989620.0,6034910.0,5990820.0,5927010.0,5865370.0,5839890.0,5764440.0,5872840.0,5962040.0,6003920.0,6029160.0,5978880.0,5970920.0,6016630.0,5959220.0,5899170.0,5818260.0,5763330.0,5721580.0,5798720.0,5839460.0,5857960.0,5871900.0,5790070.0,5781100.0,5788690.0,5721450.0,5848250.0,5993030.0,6002110.0,5990250.0,6044720.0,6111370.0,6115390.0,6092710.0,6067440.0,6074700.0,6089250.0,6057890.0,6022230.0,5943150.0,5861620.0,5816130.0,5852670.0,5896310.0,5865610.0,5783860.0,5723190.0,5663990.0,5629120.0,5554420.0],\"type\":\"scatter\"}],                        {\"template\":{\"data\":{\"bar\":[{\"error_x\":{\"color\":\"#2a3f5f\"},\"error_y\":{\"color\":\"#2a3f5f\"},\"marker\":{\"line\":{\"color\":\"#E5ECF6\",\"width\":0.5},\"pattern\":{\"fillmode\":\"overlay\",\"size\":10,\"solidity\":0.2}},\"type\":\"bar\"}],\"barpolar\":[{\"marker\":{\"line\":{\"color\":\"#E5ECF6\",\"width\":0.5},\"pattern\":{\"fillmode\":\"overlay\",\"size\":10,\"solidity\":0.2}},\"type\":\"barpolar\"}],\"carpet\":[{\"aaxis\":{\"endlinecolor\":\"#2a3f5f\",\"gridcolor\":\"white\",\"linecolor\":\"white\",\"minorgridcolor\":\"white\",\"startlinecolor\":\"#2a3f5f\"},\"baxis\":{\"endlinecolor\":\"#2a3f5f\",\"gridcolor\":\"white\",\"linecolor\":\"white\",\"minorgridcolor\":\"white\",\"startlinecolor\":\"#2a3f5f\"},\"type\":\"carpet\"}],\"choropleth\":[{\"colorbar\":{\"outlinewidth\":0,\"ticks\":\"\"},\"type\":\"choropleth\"}],\"contour\":[{\"colorbar\":{\"outlinewidth\":0,\"ticks\":\"\"},\"colorscale\":[[0.0,\"#0d0887\"],[0.1111111111111111,\"#46039f\"],[0.2222222222222222,\"#7201a8\"],[0.3333333333333333,\"#9c179e\"],[0.4444444444444444,\"#bd3786\"],[0.5555555555555556,\"#d8576b\"],[0.6666666666666666,\"#ed7953\"],[0.7777777777777778,\"#fb9f3a\"],[0.8888888888888888,\"#fdca26\"],[1.0,\"#f0f921\"]],\"type\":\"contour\"}],\"contourcarpet\":[{\"colorbar\":{\"outlinewidth\":0,\"ticks\":\"\"},\"type\":\"contourcarpet\"}],\"heatmap\":[{\"colorbar\":{\"outlinewidth\":0,\"ticks\":\"\"},\"colorscale\":[[0.0,\"#0d0887\"],[0.1111111111111111,\"#46039f\"],[0.2222222222222222,\"#7201a8\"],[0.3333333333333333,\"#9c179e\"],[0.4444444444444444,\"#bd3786\"],[0.5555555555555556,\"#d8576b\"],[0.6666666666666666,\"#ed7953\"],[0.7777777777777778,\"#fb9f3a\"],[0.8888888888888888,\"#fdca26\"],[1.0,\"#f0f921\"]],\"type\":\"heatmap\"}],\"heatmapgl\":[{\"colorbar\":{\"outlinewidth\":0,\"ticks\":\"\"},\"colorscale\":[[0.0,\"#0d0887\"],[0.1111111111111111,\"#46039f\"],[0.2222222222222222,\"#7201a8\"],[0.3333333333333333,\"#9c179e\"],[0.4444444444444444,\"#bd3786\"],[0.5555555555555556,\"#d8576b\"],[0.6666666666666666,\"#ed7953\"],[0.7777777777777778,\"#fb9f3a\"],[0.8888888888888888,\"#fdca26\"],[1.0,\"#f0f921\"]],\"type\":\"heatmapgl\"}],\"histogram\":[{\"marker\":{\"pattern\":{\"fillmode\":\"overlay\",\"size\":10,\"solidity\":0.2}},\"type\":\"histogram\"}],\"histogram2d\":[{\"colorbar\":{\"outlinewidth\":0,\"ticks\":\"\"},\"colorscale\":[[0.0,\"#0d0887\"],[0.1111111111111111,\"#46039f\"],[0.2222222222222222,\"#7201a8\"],[0.3333333333333333,\"#9c179e\"],[0.4444444444444444,\"#bd3786\"],[0.5555555555555556,\"#d8576b\"],[0.6666666666666666,\"#ed7953\"],[0.7777777777777778,\"#fb9f3a\"],[0.8888888888888888,\"#fdca26\"],[1.0,\"#f0f921\"]],\"type\":\"histogram2d\"}],\"histogram2dcontour\":[{\"colorbar\":{\"outlinewidth\":0,\"ticks\":\"\"},\"colorscale\":[[0.0,\"#0d0887\"],[0.1111111111111111,\"#46039f\"],[0.2222222222222222,\"#7201a8\"],[0.3333333333333333,\"#9c179e\"],[0.4444444444444444,\"#bd3786\"],[0.5555555555555556,\"#d8576b\"],[0.6666666666666666,\"#ed7953\"],[0.7777777777777778,\"#fb9f3a\"],[0.8888888888888888,\"#fdca26\"],[1.0,\"#f0f921\"]],\"type\":\"histogram2dcontour\"}],\"mesh3d\":[{\"colorbar\":{\"outlinewidth\":0,\"ticks\":\"\"},\"type\":\"mesh3d\"}],\"parcoords\":[{\"line\":{\"colorbar\":{\"outlinewidth\":0,\"ticks\":\"\"}},\"type\":\"parcoords\"}],\"pie\":[{\"automargin\":true,\"type\":\"pie\"}],\"scatter\":[{\"marker\":{\"colorbar\":{\"outlinewidth\":0,\"ticks\":\"\"}},\"type\":\"scatter\"}],\"scatter3d\":[{\"line\":{\"colorbar\":{\"outlinewidth\":0,\"ticks\":\"\"}},\"marker\":{\"colorbar\":{\"outlinewidth\":0,\"ticks\":\"\"}},\"type\":\"scatter3d\"}],\"scattercarpet\":[{\"marker\":{\"colorbar\":{\"outlinewidth\":0,\"ticks\":\"\"}},\"type\":\"scattercarpet\"}],\"scattergeo\":[{\"marker\":{\"colorbar\":{\"outlinewidth\":0,\"ticks\":\"\"}},\"type\":\"scattergeo\"}],\"scattergl\":[{\"marker\":{\"colorbar\":{\"outlinewidth\":0,\"ticks\":\"\"}},\"type\":\"scattergl\"}],\"scattermapbox\":[{\"marker\":{\"colorbar\":{\"outlinewidth\":0,\"ticks\":\"\"}},\"type\":\"scattermapbox\"}],\"scatterpolar\":[{\"marker\":{\"colorbar\":{\"outlinewidth\":0,\"ticks\":\"\"}},\"type\":\"scatterpolar\"}],\"scatterpolargl\":[{\"marker\":{\"colorbar\":{\"outlinewidth\":0,\"ticks\":\"\"}},\"type\":\"scatterpolargl\"}],\"scatterternary\":[{\"marker\":{\"colorbar\":{\"outlinewidth\":0,\"ticks\":\"\"}},\"type\":\"scatterternary\"}],\"surface\":[{\"colorbar\":{\"outlinewidth\":0,\"ticks\":\"\"},\"colorscale\":[[0.0,\"#0d0887\"],[0.1111111111111111,\"#46039f\"],[0.2222222222222222,\"#7201a8\"],[0.3333333333333333,\"#9c179e\"],[0.4444444444444444,\"#bd3786\"],[0.5555555555555556,\"#d8576b\"],[0.6666666666666666,\"#ed7953\"],[0.7777777777777778,\"#fb9f3a\"],[0.8888888888888888,\"#fdca26\"],[1.0,\"#f0f921\"]],\"type\":\"surface\"}],\"table\":[{\"cells\":{\"fill\":{\"color\":\"#EBF0F8\"},\"line\":{\"color\":\"white\"}},\"header\":{\"fill\":{\"color\":\"#C8D4E3\"},\"line\":{\"color\":\"white\"}},\"type\":\"table\"}]},\"layout\":{\"annotationdefaults\":{\"arrowcolor\":\"#2a3f5f\",\"arrowhead\":0,\"arrowwidth\":1},\"autotypenumbers\":\"strict\",\"coloraxis\":{\"colorbar\":{\"outlinewidth\":0,\"ticks\":\"\"}},\"colorscale\":{\"diverging\":[[0,\"#8e0152\"],[0.1,\"#c51b7d\"],[0.2,\"#de77ae\"],[0.3,\"#f1b6da\"],[0.4,\"#fde0ef\"],[0.5,\"#f7f7f7\"],[0.6,\"#e6f5d0\"],[0.7,\"#b8e186\"],[0.8,\"#7fbc41\"],[0.9,\"#4d9221\"],[1,\"#276419\"]],\"sequential\":[[0.0,\"#0d0887\"],[0.1111111111111111,\"#46039f\"],[0.2222222222222222,\"#7201a8\"],[0.3333333333333333,\"#9c179e\"],[0.4444444444444444,\"#bd3786\"],[0.5555555555555556,\"#d8576b\"],[0.6666666666666666,\"#ed7953\"],[0.7777777777777778,\"#fb9f3a\"],[0.8888888888888888,\"#fdca26\"],[1.0,\"#f0f921\"]],\"sequentialminus\":[[0.0,\"#0d0887\"],[0.1111111111111111,\"#46039f\"],[0.2222222222222222,\"#7201a8\"],[0.3333333333333333,\"#9c179e\"],[0.4444444444444444,\"#bd3786\"],[0.5555555555555556,\"#d8576b\"],[0.6666666666666666,\"#ed7953\"],[0.7777777777777778,\"#fb9f3a\"],[0.8888888888888888,\"#fdca26\"],[1.0,\"#f0f921\"]]},\"colorway\":[\"#636efa\",\"#EF553B\",\"#00cc96\",\"#ab63fa\",\"#FFA15A\",\"#19d3f3\",\"#FF6692\",\"#B6E880\",\"#FF97FF\",\"#FECB52\"],\"font\":{\"color\":\"#2a3f5f\"},\"geo\":{\"bgcolor\":\"white\",\"lakecolor\":\"white\",\"landcolor\":\"#E5ECF6\",\"showlakes\":true,\"showland\":true,\"subunitcolor\":\"white\"},\"hoverlabel\":{\"align\":\"left\"},\"hovermode\":\"closest\",\"mapbox\":{\"style\":\"light\"},\"paper_bgcolor\":\"white\",\"plot_bgcolor\":\"#E5ECF6\",\"polar\":{\"angularaxis\":{\"gridcolor\":\"white\",\"linecolor\":\"white\",\"ticks\":\"\"},\"bgcolor\":\"#E5ECF6\",\"radialaxis\":{\"gridcolor\":\"white\",\"linecolor\":\"white\",\"ticks\":\"\"}},\"scene\":{\"xaxis\":{\"backgroundcolor\":\"#E5ECF6\",\"gridcolor\":\"white\",\"gridwidth\":2,\"linecolor\":\"white\",\"showbackground\":true,\"ticks\":\"\",\"zerolinecolor\":\"white\"},\"yaxis\":{\"backgroundcolor\":\"#E5ECF6\",\"gridcolor\":\"white\",\"gridwidth\":2,\"linecolor\":\"white\",\"showbackground\":true,\"ticks\":\"\",\"zerolinecolor\":\"white\"},\"zaxis\":{\"backgroundcolor\":\"#E5ECF6\",\"gridcolor\":\"white\",\"gridwidth\":2,\"linecolor\":\"white\",\"showbackground\":true,\"ticks\":\"\",\"zerolinecolor\":\"white\"}},\"shapedefaults\":{\"line\":{\"color\":\"#2a3f5f\"}},\"ternary\":{\"aaxis\":{\"gridcolor\":\"white\",\"linecolor\":\"white\",\"ticks\":\"\"},\"baxis\":{\"gridcolor\":\"white\",\"linecolor\":\"white\",\"ticks\":\"\"},\"bgcolor\":\"#E5ECF6\",\"caxis\":{\"gridcolor\":\"white\",\"linecolor\":\"white\",\"ticks\":\"\"}},\"title\":{\"x\":0.05},\"xaxis\":{\"automargin\":true,\"gridcolor\":\"white\",\"linecolor\":\"white\",\"ticks\":\"\",\"title\":{\"standoff\":15},\"zerolinecolor\":\"white\",\"zerolinewidth\":2},\"yaxis\":{\"automargin\":true,\"gridcolor\":\"white\",\"linecolor\":\"white\",\"ticks\":\"\",\"title\":{\"standoff\":15},\"zerolinecolor\":\"white\",\"zerolinewidth\":2}}},\"title\":{\"font\":{\"size\":25},\"text\":\"Cat\\u00e9gorie A+B+C\",\"x\":0.5,\"xanchor\":\"center\"},\"xaxis\":{\"tickmode\":\"linear\",\"dtick\":12},\"font\":{\"family\":\"Arial\",\"size\":18,\"color\":\"Black\"}},                        {\"responsive\": true}                    ).then(function(){\n",
       "                            \n",
       "var gd = document.getElementById('ae8f6fda-9018-4153-898e-868dfad909cc');\n",
       "var x = new MutationObserver(function (mutations, observer) {{\n",
       "        var display = window.getComputedStyle(gd).display;\n",
       "        if (!display || display === 'none') {{\n",
       "            console.log([gd, 'removed!']);\n",
       "            Plotly.purge(gd);\n",
       "            observer.disconnect();\n",
       "        }}\n",
       "}});\n",
       "\n",
       "// Listen for the removal of the full notebook cells\n",
       "var notebookContainer = gd.closest('#notebook-container');\n",
       "if (notebookContainer) {{\n",
       "    x.observe(notebookContainer, {childList: true});\n",
       "}}\n",
       "\n",
       "// Listen for the clearing of the current output cell\n",
       "var outputEl = gd.closest('.output');\n",
       "if (outputEl) {{\n",
       "    x.observe(outputEl, {childList: true});\n",
       "}}\n",
       "\n",
       "                        })                };                });            </script>        </div>"
      ]
     },
     "metadata": {},
     "output_type": "display_data"
    }
   ],
   "source": [
    "plot_fig('A+B+C')"
   ]
  },
  {
   "cell_type": "code",
   "execution_count": null,
   "id": "a5791883",
   "metadata": {},
   "outputs": [],
   "source": []
  }
 ],
 "metadata": {
  "kernelspec": {
   "display_name": "Python 3",
   "language": "python",
   "name": "python3"
  },
  "language_info": {
   "codemirror_mode": {
    "name": "ipython",
    "version": 3
   },
   "file_extension": ".py",
   "mimetype": "text/x-python",
   "name": "python",
   "nbconvert_exporter": "python",
   "pygments_lexer": "ipython3",
   "version": "3.9.7"
  }
 },
 "nbformat": 4,
 "nbformat_minor": 5
}
